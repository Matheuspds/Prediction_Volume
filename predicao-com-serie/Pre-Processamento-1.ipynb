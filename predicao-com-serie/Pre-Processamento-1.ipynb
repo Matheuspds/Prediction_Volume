{
 "cells": [
  {
   "cell_type": "code",
   "execution_count": 1,
   "metadata": {},
   "outputs": [],
   "source": [
    "import pandas as pd\n",
    "import numpy as np\n",
    "\n",
    "path = \"data_after_process/\""
   ]
  },
  {
   "cell_type": "code",
   "execution_count": 5,
   "metadata": {},
   "outputs": [],
   "source": [
    "#Buscando criar novas colunas com dados de data, hora, minuto, time para a determinada linha do dataset\n",
    "def df_filter(df_volume):\n",
    "    df_volume[\"time\"] = df_volume[\"time_start\"]\n",
    "    df_volume[\"date\"] = df_volume[\"time\"].apply(lambda x: pd.to_datetime(x[: 10]))\n",
    "    df_volume[\"hour\"] = df_volume[\"time\"].apply(lambda x: int(x[11: 13]))\n",
    "    df_volume[\"miniute\"] = df_volume[\"time\"].apply(lambda x: int(x[14: 16]))\n",
    "    df_volume[\"time_window\"] = df_volume[\"time\"]\n",
    "    df_volume = df_volume[[\"tollgate_id\", \"time_window\", \"direction\", \"volume\", \"time\", \"date\", \"hour\", \"miniute\"]]\n",
    "    return  df_volume"
   ]
  },
  {
   "cell_type": "code",
   "execution_count": null,
   "metadata": {},
   "outputs": [],
   "source": []
  },
  {
   "cell_type": "code",
   "execution_count": 3,
   "metadata": {},
   "outputs": [],
   "source": [
    "df_test = pd.read_csv(path+\"test_0.csv\" )\n",
    "df_train1 = pd.read_csv(path+\"train_0.csv\")\n",
    "df_train2 = pd.read_csv(path+\"train_5.csv\")\n",
    "df_train3 = pd.read_csv(path+\"train_10.csv\")\n",
    "df_train4 = pd.read_csv(path+\"train_15.csv\")\n",
    "\n",
    "df_filter(df_test).to_csv(path+\"test_filter_0.csv\",index=False)\n",
    "df_filter(df_train1).to_csv(path+\"train_filter_0.csv\",index=False)\n",
    "df_filter(df_train2).to_csv(path+\"train_filter_5.csv\",index=False)\n",
    "df_filter(df_train3).to_csv(path+\"train_filter_10.csv\",index=False)\n",
    "df_filter(df_train4).to_csv(path+\"train_filter_15.csv\",index=False)"
   ]
  },
  {
   "cell_type": "code",
   "execution_count": 8,
   "metadata": {},
   "outputs": [],
   "source": [
    "df_hue = pd.read_csv(path+\"train_filter_5.csv\")"
   ]
  },
  {
   "cell_type": "code",
   "execution_count": 9,
   "metadata": {},
   "outputs": [
    {
     "data": {
      "text/html": [
       "<div>\n",
       "<style scoped>\n",
       "    .dataframe tbody tr th:only-of-type {\n",
       "        vertical-align: middle;\n",
       "    }\n",
       "\n",
       "    .dataframe tbody tr th {\n",
       "        vertical-align: top;\n",
       "    }\n",
       "\n",
       "    .dataframe thead th {\n",
       "        text-align: right;\n",
       "    }\n",
       "</style>\n",
       "<table border=\"1\" class=\"dataframe\">\n",
       "  <thead>\n",
       "    <tr style=\"text-align: right;\">\n",
       "      <th></th>\n",
       "      <th>tollgate_id</th>\n",
       "      <th>time_window</th>\n",
       "      <th>direction</th>\n",
       "      <th>volume</th>\n",
       "      <th>time</th>\n",
       "      <th>date</th>\n",
       "      <th>hour</th>\n",
       "      <th>miniute</th>\n",
       "    </tr>\n",
       "  </thead>\n",
       "  <tbody>\n",
       "    <tr>\n",
       "      <th>0</th>\n",
       "      <td>1</td>\n",
       "      <td>2016-09-19 00:05:00</td>\n",
       "      <td>0</td>\n",
       "      <td>14</td>\n",
       "      <td>2016-09-19 00:05:00</td>\n",
       "      <td>2016-09-19</td>\n",
       "      <td>0</td>\n",
       "      <td>5</td>\n",
       "    </tr>\n",
       "    <tr>\n",
       "      <th>1</th>\n",
       "      <td>1</td>\n",
       "      <td>2016-09-19 00:25:00</td>\n",
       "      <td>0</td>\n",
       "      <td>7</td>\n",
       "      <td>2016-09-19 00:25:00</td>\n",
       "      <td>2016-09-19</td>\n",
       "      <td>0</td>\n",
       "      <td>25</td>\n",
       "    </tr>\n",
       "    <tr>\n",
       "      <th>2</th>\n",
       "      <td>1</td>\n",
       "      <td>2016-09-19 00:45:00</td>\n",
       "      <td>0</td>\n",
       "      <td>7</td>\n",
       "      <td>2016-09-19 00:45:00</td>\n",
       "      <td>2016-09-19</td>\n",
       "      <td>0</td>\n",
       "      <td>45</td>\n",
       "    </tr>\n",
       "    <tr>\n",
       "      <th>3</th>\n",
       "      <td>1</td>\n",
       "      <td>2016-09-19 01:05:00</td>\n",
       "      <td>0</td>\n",
       "      <td>14</td>\n",
       "      <td>2016-09-19 01:05:00</td>\n",
       "      <td>2016-09-19</td>\n",
       "      <td>1</td>\n",
       "      <td>5</td>\n",
       "    </tr>\n",
       "    <tr>\n",
       "      <th>4</th>\n",
       "      <td>1</td>\n",
       "      <td>2016-09-19 01:25:00</td>\n",
       "      <td>0</td>\n",
       "      <td>11</td>\n",
       "      <td>2016-09-19 01:25:00</td>\n",
       "      <td>2016-09-19</td>\n",
       "      <td>1</td>\n",
       "      <td>25</td>\n",
       "    </tr>\n",
       "  </tbody>\n",
       "</table>\n",
       "</div>"
      ],
      "text/plain": [
       "   tollgate_id          time_window  direction  volume                 time  \\\n",
       "0            1  2016-09-19 00:05:00          0      14  2016-09-19 00:05:00   \n",
       "1            1  2016-09-19 00:25:00          0       7  2016-09-19 00:25:00   \n",
       "2            1  2016-09-19 00:45:00          0       7  2016-09-19 00:45:00   \n",
       "3            1  2016-09-19 01:05:00          0      14  2016-09-19 01:05:00   \n",
       "4            1  2016-09-19 01:25:00          0      11  2016-09-19 01:25:00   \n",
       "\n",
       "         date  hour  miniute  \n",
       "0  2016-09-19     0        5  \n",
       "1  2016-09-19     0       25  \n",
       "2  2016-09-19     0       45  \n",
       "3  2016-09-19     1        5  \n",
       "4  2016-09-19     1       25  "
      ]
     },
     "execution_count": 9,
     "metadata": {},
     "output_type": "execute_result"
    }
   ],
   "source": [
    "df_hue.head()"
   ]
  },
  {
   "cell_type": "code",
   "execution_count": null,
   "metadata": {},
   "outputs": [],
   "source": []
  }
 ],
 "metadata": {
  "kernelspec": {
   "display_name": "Python 3",
   "language": "python",
   "name": "python3"
  },
  "language_info": {
   "codemirror_mode": {
    "name": "ipython",
    "version": 3
   },
   "file_extension": ".py",
   "mimetype": "text/x-python",
   "name": "python",
   "nbconvert_exporter": "python",
   "pygments_lexer": "ipython3",
   "version": "3.7.0"
  }
 },
 "nbformat": 4,
 "nbformat_minor": 2
}

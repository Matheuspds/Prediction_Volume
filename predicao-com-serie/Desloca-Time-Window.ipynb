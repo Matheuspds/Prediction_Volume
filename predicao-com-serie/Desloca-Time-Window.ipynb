{
 "cells": [
  {
   "cell_type": "code",
   "execution_count": 1,
   "metadata": {},
   "outputs": [],
   "source": [
    "import pandas as pd\n",
    "import os\n",
    "\n",
    "path = \"../dataset/\"\n",
    "freq = \"20min\""
   ]
  },
  {
   "cell_type": "code",
   "execution_count": 2,
   "metadata": {},
   "outputs": [
    {
     "data": {
      "text/html": [
       "<div>\n",
       "<style scoped>\n",
       "    .dataframe tbody tr th:only-of-type {\n",
       "        vertical-align: middle;\n",
       "    }\n",
       "\n",
       "    .dataframe tbody tr th {\n",
       "        vertical-align: top;\n",
       "    }\n",
       "\n",
       "    .dataframe thead th {\n",
       "        text-align: right;\n",
       "    }\n",
       "</style>\n",
       "<table border=\"1\" class=\"dataframe\">\n",
       "  <thead>\n",
       "    <tr style=\"text-align: right;\">\n",
       "      <th></th>\n",
       "      <th>time</th>\n",
       "      <th>tollgate_id</th>\n",
       "      <th>direction</th>\n",
       "      <th>vehicle_model</th>\n",
       "      <th>has_etc</th>\n",
       "      <th>vehicle_type</th>\n",
       "    </tr>\n",
       "  </thead>\n",
       "  <tbody>\n",
       "    <tr>\n",
       "      <th>128818</th>\n",
       "      <td>2016-10-24 21:15:56</td>\n",
       "      <td>1</td>\n",
       "      <td>1</td>\n",
       "      <td>5</td>\n",
       "      <td>0</td>\n",
       "      <td>1.0</td>\n",
       "    </tr>\n",
       "    <tr>\n",
       "      <th>128819</th>\n",
       "      <td>2016-10-24 22:19:00</td>\n",
       "      <td>3</td>\n",
       "      <td>1</td>\n",
       "      <td>1</td>\n",
       "      <td>0</td>\n",
       "      <td>0.0</td>\n",
       "    </tr>\n",
       "    <tr>\n",
       "      <th>128820</th>\n",
       "      <td>2016-10-24 23:20:35</td>\n",
       "      <td>1</td>\n",
       "      <td>1</td>\n",
       "      <td>1</td>\n",
       "      <td>0</td>\n",
       "      <td>0.0</td>\n",
       "    </tr>\n",
       "    <tr>\n",
       "      <th>128821</th>\n",
       "      <td>2016-10-24 20:20:26</td>\n",
       "      <td>3</td>\n",
       "      <td>1</td>\n",
       "      <td>1</td>\n",
       "      <td>0</td>\n",
       "      <td>0.0</td>\n",
       "    </tr>\n",
       "    <tr>\n",
       "      <th>128822</th>\n",
       "      <td>2016-10-24 22:11:38</td>\n",
       "      <td>1</td>\n",
       "      <td>1</td>\n",
       "      <td>2</td>\n",
       "      <td>0</td>\n",
       "      <td>1.0</td>\n",
       "    </tr>\n",
       "  </tbody>\n",
       "</table>\n",
       "</div>"
      ],
      "text/plain": [
       "                      time  tollgate_id  direction  vehicle_model  has_etc  \\\n",
       "128818 2016-10-24 21:15:56            1          1              5        0   \n",
       "128819 2016-10-24 22:19:00            3          1              1        0   \n",
       "128820 2016-10-24 23:20:35            1          1              1        0   \n",
       "128821 2016-10-24 20:20:26            3          1              1        0   \n",
       "128822 2016-10-24 22:11:38            1          1              2        0   \n",
       "\n",
       "        vehicle_type  \n",
       "128818           1.0  \n",
       "128819           0.0  \n",
       "128820           0.0  \n",
       "128821           0.0  \n",
       "128822           1.0  "
      ]
     },
     "execution_count": 2,
     "metadata": {},
     "output_type": "execute_result"
    }
   ],
   "source": [
    "df_train1 = pd.read_csv(path+\"volume(table 6)_training.csv\", parse_dates=['time'])\n",
    "df_train2 = pd.read_csv(path+\"volume(table 6)_training2.csv\", parse_dates=['date_time'])\n",
    "df_train2 = df_train2.rename(columns = {'date_time':'time','tollgate':'tollgate_id','is_etc':'has_etc','veh_type':'vehicle_type','model':'vehicle_model'})\n",
    "df_train = df_train1.append(df_train2)\n",
    "df_train.tail()"
   ]
  },
  {
   "cell_type": "code",
   "execution_count": 8,
   "metadata": {},
   "outputs": [
    {
     "data": {
      "text/html": [
       "<div>\n",
       "<style scoped>\n",
       "    .dataframe tbody tr th:only-of-type {\n",
       "        vertical-align: middle;\n",
       "    }\n",
       "\n",
       "    .dataframe tbody tr th {\n",
       "        vertical-align: top;\n",
       "    }\n",
       "\n",
       "    .dataframe thead th {\n",
       "        text-align: right;\n",
       "    }\n",
       "</style>\n",
       "<table border=\"1\" class=\"dataframe\">\n",
       "  <thead>\n",
       "    <tr style=\"text-align: right;\">\n",
       "      <th></th>\n",
       "      <th>time</th>\n",
       "      <th>tollgate_id</th>\n",
       "      <th>direction</th>\n",
       "      <th>vehicle_model</th>\n",
       "      <th>has_etc</th>\n",
       "      <th>vehicle_type</th>\n",
       "    </tr>\n",
       "  </thead>\n",
       "  <tbody>\n",
       "    <tr>\n",
       "      <th>0</th>\n",
       "      <td>2016-10-25 06:02:43</td>\n",
       "      <td>3</td>\n",
       "      <td>0</td>\n",
       "      <td>1</td>\n",
       "      <td>0</td>\n",
       "      <td>NaN</td>\n",
       "    </tr>\n",
       "    <tr>\n",
       "      <th>1</th>\n",
       "      <td>2016-10-25 06:01:05</td>\n",
       "      <td>3</td>\n",
       "      <td>0</td>\n",
       "      <td>1</td>\n",
       "      <td>0</td>\n",
       "      <td>NaN</td>\n",
       "    </tr>\n",
       "    <tr>\n",
       "      <th>2</th>\n",
       "      <td>2016-10-25 06:01:15</td>\n",
       "      <td>2</td>\n",
       "      <td>0</td>\n",
       "      <td>1</td>\n",
       "      <td>1</td>\n",
       "      <td>NaN</td>\n",
       "    </tr>\n",
       "    <tr>\n",
       "      <th>3</th>\n",
       "      <td>2016-10-25 06:01:19</td>\n",
       "      <td>3</td>\n",
       "      <td>0</td>\n",
       "      <td>1</td>\n",
       "      <td>0</td>\n",
       "      <td>NaN</td>\n",
       "    </tr>\n",
       "    <tr>\n",
       "      <th>4</th>\n",
       "      <td>2016-10-25 06:02:57</td>\n",
       "      <td>3</td>\n",
       "      <td>0</td>\n",
       "      <td>1</td>\n",
       "      <td>0</td>\n",
       "      <td>NaN</td>\n",
       "    </tr>\n",
       "  </tbody>\n",
       "</table>\n",
       "</div>"
      ],
      "text/plain": [
       "                 time  tollgate_id  direction  vehicle_model  has_etc  \\\n",
       "0 2016-10-25 06:02:43            3          0              1        0   \n",
       "1 2016-10-25 06:01:05            3          0              1        0   \n",
       "2 2016-10-25 06:01:15            2          0              1        1   \n",
       "3 2016-10-25 06:01:19            3          0              1        0   \n",
       "4 2016-10-25 06:02:57            3          0              1        0   \n",
       "\n",
       "   vehicle_type  \n",
       "0           NaN  \n",
       "1           NaN  \n",
       "2           NaN  \n",
       "3           NaN  \n",
       "4           NaN  "
      ]
     },
     "execution_count": 8,
     "metadata": {},
     "output_type": "execute_result"
    }
   ],
   "source": [
    "df_test = pd.read_csv(path+\"volume(table 6)_test2.csv\", parse_dates=['date_time'])\n",
    "df_test = df_test.rename(columns = {'date_time':'time','tollgate':'tollgate_id','is_etc':'has_etc','veh_type':'vehicle_type','model':'vehicle_model'})\n",
    "df_test.head()"
   ]
  },
  {
   "cell_type": "code",
   "execution_count": 9,
   "metadata": {},
   "outputs": [],
   "source": [
    "# movimenta a time_window 0 5 10 15 minutos para os dados de treino\n",
    "range_1 = pd.date_range(\"2016-09-19 00:00:00\", \"2016-10-25 00:00:00\", freq=freq)\n",
    "range_2 = pd.date_range(\"2016-09-19 00:05:00\", \"2016-10-25 00:00:00\", freq=freq)\n",
    "range_3 = pd.date_range(\"2016-09-19 00:10:00\", \"2016-10-25 00:00:00\", freq=freq)\n",
    "range_4 = pd.date_range(\"2016-09-19 00:15:00\", \"2016-10-25 00:00:00\", freq=freq)"
   ]
  },
  {
   "cell_type": "code",
   "execution_count": 10,
   "metadata": {},
   "outputs": [],
   "source": [
    "# movimenta a time_window 0 5 10 15 minutos para os dados de teste\n",
    "range_5 = pd.date_range(\"2016-10-25 00:00:00\", \"2016-11-01 00:00:00\", freq=freq)"
   ]
  },
  {
   "cell_type": "code",
   "execution_count": 11,
   "metadata": {},
   "outputs": [],
   "source": [
    "def run(df,rng):\n",
    "    rng_length = len(rng)\n",
    "    result_dfs = []\n",
    "    for this_direction in range(2):\n",
    "        for this_tollgate_id in range(1, 4):\n",
    "            time_start_list = []\n",
    "            volume_list = []\n",
    "            direction_list = []\n",
    "            tollgate_id_list = []\n",
    "\n",
    "            this_df = df[(df.tollgate_id == this_tollgate_id) & (df.direction == this_direction)]\n",
    "            if len(this_df) > 0:\n",
    "                for ind in range(rng_length - 1):\n",
    "                    this_df_time_window = this_df[(this_df.time >= rng[ind]) & (this_df.time < rng[ind + 1])]\n",
    "                    volume_list.append(len(this_df_time_window))\n",
    "\n",
    "                    time_start_list.append(rng[ind])\n",
    "\n",
    "                result_df = pd.DataFrame({'time_start': time_start_list,\n",
    "                                          'volume': volume_list,\n",
    "                                          'direction': [this_direction] * (rng_length - 1),\n",
    "                                          'tollgate_id': [this_tollgate_id] * (rng_length - 1),\n",
    "                }\n",
    "                )\n",
    "                result_dfs.append(result_df)\n",
    "\n",
    "    d = pd.concat(result_dfs)\n",
    "\n",
    "    if type == 'test':\n",
    "        d['hour'] = d['time_start'].apply(lambda x: x.hour)\n",
    "        dd = d[d.hour.isin([6, 7, 15, 16])]\n",
    "    return d\n"
   ]
  },
  {
   "cell_type": "code",
   "execution_count": 13,
   "metadata": {},
   "outputs": [],
   "source": [
    "run(df_train,range_1).to_csv(\"data_after_process/train_0.csv\",index= False)\n",
    "run(df_train,range_2).to_csv(\"data_after_process/train_5.csv\",index= False)\n",
    "run(df_train,range_3).to_csv(\"data_after_process/train_10.csv\",index= False)\n",
    "run(df_train,range_4).to_csv(\"data_after_process/train_15.csv\",index= False)\n",
    "run(df_test,range_5).to_csv(\"data_after_process/test_0.csv\",index= False)"
   ]
  },
  {
   "cell_type": "code",
   "execution_count": 19,
   "metadata": {},
   "outputs": [],
   "source": [
    "df_hue = pd.read_csv(\"data_after_process/train_10.csv\")"
   ]
  },
  {
   "cell_type": "code",
   "execution_count": 20,
   "metadata": {},
   "outputs": [
    {
     "data": {
      "text/plain": [
       "time_start     12955\n",
       "volume         12955\n",
       "direction      12955\n",
       "tollgate_id    12955\n",
       "dtype: int64"
      ]
     },
     "execution_count": 20,
     "metadata": {},
     "output_type": "execute_result"
    }
   ],
   "source": [
    "df_hue.count()"
   ]
  },
  {
   "cell_type": "code",
   "execution_count": 23,
   "metadata": {},
   "outputs": [
    {
     "data": {
      "text/plain": [
       "time_start     2520\n",
       "volume         2520\n",
       "direction      2520\n",
       "tollgate_id    2520\n",
       "dtype: int64"
      ]
     },
     "execution_count": 23,
     "metadata": {},
     "output_type": "execute_result"
    }
   ],
   "source": [
    "df_hue2 = pd.read_csv(\"data_after_process/test_0.csv\")\n",
    "df_hue2.count()"
   ]
  },
  {
   "cell_type": "code",
   "execution_count": null,
   "metadata": {},
   "outputs": [],
   "source": []
  }
 ],
 "metadata": {
  "kernelspec": {
   "display_name": "Python 3",
   "language": "python",
   "name": "python3"
  },
  "language_info": {
   "codemirror_mode": {
    "name": "ipython",
    "version": 3
   },
   "file_extension": ".py",
   "mimetype": "text/x-python",
   "name": "python",
   "nbconvert_exporter": "python",
   "pygments_lexer": "ipython3",
   "version": "3.7.0"
  }
 },
 "nbformat": 4,
 "nbformat_minor": 2
}

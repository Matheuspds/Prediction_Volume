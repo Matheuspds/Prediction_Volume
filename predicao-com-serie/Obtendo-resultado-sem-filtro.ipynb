{
 "cells": [
  {
   "cell_type": "code",
   "execution_count": 1,
   "metadata": {},
   "outputs": [
    {
     "name": "stderr",
     "output_type": "stream",
     "text": [
      "/home/matheuspds/miniconda3/lib/python3.7/site-packages/sklearn/utils/__init__.py:4: DeprecationWarning: Using or importing the ABCs from 'collections' instead of from 'collections.abc' is deprecated, and in 3.8 it will stop working\n",
      "  from collections import Sequence\n",
      "/home/matheuspds/miniconda3/lib/python3.7/site-packages/sklearn/ensemble/weight_boosting.py:29: DeprecationWarning: numpy.core.umath_tests is an internal NumPy module and should not be imported. It will be removed in a future NumPy release.\n",
      "  from numpy.core.umath_tests import inner1d\n",
      "/home/matheuspds/miniconda3/lib/python3.7/site-packages/sklearn/cross_validation.py:41: DeprecationWarning: This module was deprecated in version 0.18 in favor of the model_selection module into which all the refactored classes and functions are moved. Also note that the interface of the new CV iterators are different from that of this module. This module will be removed in 0.20.\n",
      "  \"This module will be removed in 0.20.\", DeprecationWarning)\n",
      "/home/matheuspds/miniconda3/lib/python3.7/site-packages/sklearn/grid_search.py:42: DeprecationWarning: This module was deprecated in version 0.18 in favor of the model_selection module into which all the refactored classes and functions are moved. This module will be removed in 0.20.\n",
      "  DeprecationWarning)\n"
     ]
    }
   ],
   "source": [
    "import pandas as pd\n",
    "from sklearn.ensemble import GradientBoostingRegressor, RandomForestRegressor\n",
    "from sklearn.neighbors import KNeighborsRegressor\n",
    "import numpy as np\n",
    "from sklearn.grid_search import GridSearchCV\n",
    "from sklearn.preprocessing import MinMaxScaler\n",
    "import random"
   ]
  },
  {
   "cell_type": "code",
   "execution_count": 20,
   "metadata": {},
   "outputs": [],
   "source": [
    "df_test = pd.read_csv(\"test2.csv\")\n",
    "\n",
    "df_train0 = pd.read_csv(\"train.csv\")\n",
    "df_train1 = pd.read_csv(\"train1.csv\")\n",
    "df_train2 = pd.read_csv(\"train2.csv\")\n",
    "df_train3 = pd.read_csv(\"train3.csv\")\n",
    "df_train_list = [df_train0, df_train1, df_train2, df_train3]"
   ]
  },
  {
   "cell_type": "code",
   "execution_count": 21,
   "metadata": {},
   "outputs": [],
   "source": [
    "def feature_transform_split(key, data):\n",
    "    # data = remove_exception(data)\n",
    "\n",
    "    data[\"precipitation\"] = data[[\"precipitation\"]].fillna(value=0)\n",
    "    data[\"rel_humidity\"] = data[[\"rel_humidity\"]].fillna(value=50)\n",
    "\n",
    "    data[\"precipitation\"] = data[\"precipitation\"].apply(lambda x: x > 0)\n",
    "    data[\"rel_humidity\"] = data[\"rel_humidity\"].apply(lambda x: x > 90)\n",
    "\n",
    "    data = data.drop(\"precipitation\", axis=1)\n",
    "    # data = data.drop(\"rel_humidity\", axis= 1)\n",
    "\n",
    "\n",
    "    # data[\"sum\"] = data[\"0\"] + data[\"1\"] + data[\"2\"] + data[\"3\"] + data[\"4\"] + data[\"5\"]\n",
    "\n",
    "    data = pd.concat([data, pd.get_dummies(data['period_num'])], axis=1)\n",
    "    data = data.drop(\"period_num\", axis=1)\n",
    "\n",
    "    data = pd.concat([data, pd.get_dummies(data['holiday'])], axis=1)\n",
    "    data = data.drop(\"holiday\", axis=1)\n",
    "    #\n",
    "    # data = pd.concat([data, pd.get_dummies(data['first_last_workday'])], axis=1)\n",
    "    data = data.drop(\"first_last_workday\", axis=1)\n",
    "\n",
    "    data = data.drop(\"day_of_week\", axis=1)\n",
    "\n",
    "    if (key == 1):\n",
    "        data = pd.concat([data, pd.get_dummies(data['tollgate_id'])], axis=1)\n",
    "        # data[\"tollgate_id1\"] = data['tollgate_id']\n",
    "        data[\"direction1\"] = data['direction']\n",
    "    return data"
   ]
  },
  {
   "cell_type": "code",
   "execution_count": 22,
   "metadata": {},
   "outputs": [
    {
     "name": "stderr",
     "output_type": "stream",
     "text": [
      "/home/matheuspds/miniconda3/lib/python3.7/site-packages/ipykernel_launcher.py:27: DeprecationWarning: \n",
      ".ix is deprecated. Please use\n",
      ".loc for label based indexing or\n",
      ".iloc for positional indexing\n",
      "\n",
      "See the documentation here:\n",
      "http://pandas.pydata.org/pandas-docs/stable/indexing.html#ix-indexer-is-deprecated\n",
      "/home/matheuspds/miniconda3/lib/python3.7/site-packages/ipykernel_launcher.py:29: DeprecationWarning: \n",
      ".ix is deprecated. Please use\n",
      ".loc for label based indexing or\n",
      ".iloc for positional indexing\n",
      "\n",
      "See the documentation here:\n",
      "http://pandas.pydata.org/pandas-docs/stable/indexing.html#ix-indexer-is-deprecated\n",
      "/home/matheuspds/miniconda3/lib/python3.7/site-packages/ipykernel_launcher.py:30: DeprecationWarning: \n",
      ".ix is deprecated. Please use\n",
      ".loc for label based indexing or\n",
      ".iloc for positional indexing\n",
      "\n",
      "See the documentation here:\n",
      "http://pandas.pydata.org/pandas-docs/stable/indexing.html#ix-indexer-is-deprecated\n",
      "/home/matheuspds/miniconda3/lib/python3.7/site-packages/ipykernel_launcher.py:34: SettingWithCopyWarning: \n",
      "A value is trying to be set on a copy of a slice from a DataFrame.\n",
      "Try using .loc[row_indexer,col_indexer] = value instead\n",
      "\n",
      "See the caveats in the documentation: http://pandas.pydata.org/pandas-docs/stable/indexing.html#indexing-view-versus-copy\n",
      "/home/matheuspds/miniconda3/lib/python3.7/site-packages/ipykernel_launcher.py:27: DeprecationWarning: \n",
      ".ix is deprecated. Please use\n",
      ".loc for label based indexing or\n",
      ".iloc for positional indexing\n",
      "\n",
      "See the documentation here:\n",
      "http://pandas.pydata.org/pandas-docs/stable/indexing.html#ix-indexer-is-deprecated\n",
      "/home/matheuspds/miniconda3/lib/python3.7/site-packages/ipykernel_launcher.py:29: DeprecationWarning: \n",
      ".ix is deprecated. Please use\n",
      ".loc for label based indexing or\n",
      ".iloc for positional indexing\n",
      "\n",
      "See the documentation here:\n",
      "http://pandas.pydata.org/pandas-docs/stable/indexing.html#ix-indexer-is-deprecated\n",
      "/home/matheuspds/miniconda3/lib/python3.7/site-packages/ipykernel_launcher.py:30: DeprecationWarning: \n",
      ".ix is deprecated. Please use\n",
      ".loc for label based indexing or\n",
      ".iloc for positional indexing\n",
      "\n",
      "See the documentation here:\n",
      "http://pandas.pydata.org/pandas-docs/stable/indexing.html#ix-indexer-is-deprecated\n",
      "/home/matheuspds/miniconda3/lib/python3.7/site-packages/ipykernel_launcher.py:34: SettingWithCopyWarning: \n",
      "A value is trying to be set on a copy of a slice from a DataFrame.\n",
      "Try using .loc[row_indexer,col_indexer] = value instead\n",
      "\n",
      "See the caveats in the documentation: http://pandas.pydata.org/pandas-docs/stable/indexing.html#indexing-view-versus-copy\n",
      "/home/matheuspds/miniconda3/lib/python3.7/site-packages/ipykernel_launcher.py:27: DeprecationWarning: \n",
      ".ix is deprecated. Please use\n",
      ".loc for label based indexing or\n",
      ".iloc for positional indexing\n",
      "\n",
      "See the documentation here:\n",
      "http://pandas.pydata.org/pandas-docs/stable/indexing.html#ix-indexer-is-deprecated\n",
      "/home/matheuspds/miniconda3/lib/python3.7/site-packages/ipykernel_launcher.py:29: DeprecationWarning: \n",
      ".ix is deprecated. Please use\n",
      ".loc for label based indexing or\n",
      ".iloc for positional indexing\n",
      "\n",
      "See the documentation here:\n",
      "http://pandas.pydata.org/pandas-docs/stable/indexing.html#ix-indexer-is-deprecated\n",
      "/home/matheuspds/miniconda3/lib/python3.7/site-packages/ipykernel_launcher.py:30: DeprecationWarning: \n",
      ".ix is deprecated. Please use\n",
      ".loc for label based indexing or\n",
      ".iloc for positional indexing\n",
      "\n",
      "See the documentation here:\n",
      "http://pandas.pydata.org/pandas-docs/stable/indexing.html#ix-indexer-is-deprecated\n",
      "/home/matheuspds/miniconda3/lib/python3.7/site-packages/ipykernel_launcher.py:34: SettingWithCopyWarning: \n",
      "A value is trying to be set on a copy of a slice from a DataFrame.\n",
      "Try using .loc[row_indexer,col_indexer] = value instead\n",
      "\n",
      "See the caveats in the documentation: http://pandas.pydata.org/pandas-docs/stable/indexing.html#indexing-view-versus-copy\n",
      "/home/matheuspds/miniconda3/lib/python3.7/site-packages/ipykernel_launcher.py:27: DeprecationWarning: \n",
      ".ix is deprecated. Please use\n",
      ".loc for label based indexing or\n",
      ".iloc for positional indexing\n",
      "\n",
      "See the documentation here:\n",
      "http://pandas.pydata.org/pandas-docs/stable/indexing.html#ix-indexer-is-deprecated\n",
      "/home/matheuspds/miniconda3/lib/python3.7/site-packages/ipykernel_launcher.py:29: DeprecationWarning: \n",
      ".ix is deprecated. Please use\n",
      ".loc for label based indexing or\n",
      ".iloc for positional indexing\n",
      "\n",
      "See the documentation here:\n",
      "http://pandas.pydata.org/pandas-docs/stable/indexing.html#ix-indexer-is-deprecated\n",
      "/home/matheuspds/miniconda3/lib/python3.7/site-packages/ipykernel_launcher.py:30: DeprecationWarning: \n",
      ".ix is deprecated. Please use\n",
      ".loc for label based indexing or\n",
      ".iloc for positional indexing\n",
      "\n",
      "See the documentation here:\n",
      "http://pandas.pydata.org/pandas-docs/stable/indexing.html#ix-indexer-is-deprecated\n",
      "/home/matheuspds/miniconda3/lib/python3.7/site-packages/ipykernel_launcher.py:34: SettingWithCopyWarning: \n",
      "A value is trying to be set on a copy of a slice from a DataFrame.\n",
      "Try using .loc[row_indexer,col_indexer] = value instead\n",
      "\n",
      "See the caveats in the documentation: http://pandas.pydata.org/pandas-docs/stable/indexing.html#indexing-view-versus-copy\n",
      "/home/matheuspds/miniconda3/lib/python3.7/site-packages/ipykernel_launcher.py:27: DeprecationWarning: \n",
      ".ix is deprecated. Please use\n",
      ".loc for label based indexing or\n",
      ".iloc for positional indexing\n",
      "\n",
      "See the documentation here:\n",
      "http://pandas.pydata.org/pandas-docs/stable/indexing.html#ix-indexer-is-deprecated\n",
      "/home/matheuspds/miniconda3/lib/python3.7/site-packages/ipykernel_launcher.py:29: DeprecationWarning: \n",
      ".ix is deprecated. Please use\n",
      ".loc for label based indexing or\n",
      ".iloc for positional indexing\n",
      "\n",
      "See the documentation here:\n",
      "http://pandas.pydata.org/pandas-docs/stable/indexing.html#ix-indexer-is-deprecated\n",
      "/home/matheuspds/miniconda3/lib/python3.7/site-packages/ipykernel_launcher.py:30: DeprecationWarning: \n",
      ".ix is deprecated. Please use\n",
      ".loc for label based indexing or\n",
      ".iloc for positional indexing\n",
      "\n",
      "See the documentation here:\n",
      "http://pandas.pydata.org/pandas-docs/stable/indexing.html#ix-indexer-is-deprecated\n",
      "/home/matheuspds/miniconda3/lib/python3.7/site-packages/ipykernel_launcher.py:34: SettingWithCopyWarning: \n",
      "A value is trying to be set on a copy of a slice from a DataFrame.\n",
      "Try using .loc[row_indexer,col_indexer] = value instead\n",
      "\n",
      "See the caveats in the documentation: http://pandas.pydata.org/pandas-docs/stable/indexing.html#indexing-view-versus-copy\n"
     ]
    }
   ],
   "source": [
    "random.shuffle(df_train_list)\n",
    "df_train = pd.concat(df_train_list)\n",
    "\n",
    "#df_ts = pd.read_csv(\"ts_feature2_simple.csv\")\n",
    "df_date = pd.read_csv(\"date.csv\")\n",
    "df_train = df_train.merge(df_date, on=\"date\", how=\"left\")\n",
    "#df_train = df_train.merge(df_ts, on=[\"tollgate_id\", \"hour\", \"miniute\", \"direction\"], how=\"left\")\n",
    "df_test = df_test.merge(df_date, on=\"date\", how=\"left\")\n",
    "#df_test = df_test.merge(df_ts, on=[\"tollgate_id\", \"hour\", \"miniute\", \"direction\"], how=\"left\")\n",
    "\n",
    "df_train_grouped = df_train.groupby([\"tollgate_id\", \"direction\"])\n",
    "df_test_grouped = df_test.groupby([\"tollgate_id\", \"direction\"])\n",
    "df_train_grouped = df_train.groupby([\"tollgate_id\", \"direction\"])\n",
    "df_test_grouped = df_test.groupby([\"tollgate_id\", \"direction\"])\n",
    "result = []\n",
    "oob = []\n",
    "for key, train_data in df_train_grouped:\n",
    "    test_data = df_test_grouped.get_group(key)\n",
    "    len_train = len(train_data)\n",
    "    train_data = train_data.append(test_data)[train_data.columns.tolist()]\n",
    "    train_data = feature_transform_split(key, train_data)\n",
    "\n",
    "    regressor_cubic = RandomForestRegressor(n_estimators=500, max_features='sqrt', random_state=10, oob_score=True)\n",
    "\n",
    "    train_data = pd.DataFrame.reset_index(train_data)\n",
    "    train_data = train_data.drop(\"index\", axis=1)\n",
    "    y = train_data.ix[:len_train - 1, :][\"volume\"]\n",
    "\n",
    "    x = train_data.ix[:len_train - 1, 8:]\n",
    "    x1 = train_data.ix[len_train:, 8:]\n",
    "    regressor_cubic.fit(x, y)\n",
    "    yhat = regressor_cubic.predict(x1)\n",
    "    \n",
    "    test_data[\"volume\"] = yhat\n",
    "    result.append(test_data[['tollgate_id', 'time_window', 'direction', 'volume']])"
   ]
  },
  {
   "cell_type": "code",
   "execution_count": 23,
   "metadata": {},
   "outputs": [],
   "source": [
    "df_result = pd.concat(result, axis=0)\n",
    "\n",
    "df_result.to_csv(\"result/result_split_rf_TESTAR_AGORA\"+\".csv\", index=False)"
   ]
  },
  {
   "cell_type": "code",
   "execution_count": 9,
   "metadata": {},
   "outputs": [],
   "source": [
    "#regressor = RandomForestRegressor(n_estimators=500, max_features='sqrt', random_state=10, oob_score=True)\n"
   ]
  },
  {
   "cell_type": "code",
   "execution_count": 16,
   "metadata": {},
   "outputs": [],
   "source": [
    "#regressor.fit(x, y)"
   ]
  },
  {
   "cell_type": "code",
   "execution_count": 24,
   "metadata": {},
   "outputs": [],
   "source": [
    "df_pred = pd.read_csv(\"result/result_split_rf_TESTAR_AGORA\"+\".csv\")\n",
    "df_real = pd.read_csv(\"resultado_real_teste.csv\")"
   ]
  },
  {
   "cell_type": "code",
   "execution_count": 25,
   "metadata": {},
   "outputs": [
    {
     "data": {
      "text/html": [
       "<div>\n",
       "<style scoped>\n",
       "    .dataframe tbody tr th:only-of-type {\n",
       "        vertical-align: middle;\n",
       "    }\n",
       "\n",
       "    .dataframe tbody tr th {\n",
       "        vertical-align: top;\n",
       "    }\n",
       "\n",
       "    .dataframe thead th {\n",
       "        text-align: right;\n",
       "    }\n",
       "</style>\n",
       "<table border=\"1\" class=\"dataframe\">\n",
       "  <thead>\n",
       "    <tr style=\"text-align: right;\">\n",
       "      <th></th>\n",
       "      <th>tollgate_id</th>\n",
       "      <th>time_window</th>\n",
       "      <th>direction</th>\n",
       "      <th>volume</th>\n",
       "    </tr>\n",
       "  </thead>\n",
       "  <tbody>\n",
       "    <tr>\n",
       "      <th>0</th>\n",
       "      <td>1</td>\n",
       "      <td>2016-10-25 06:00:00</td>\n",
       "      <td>0</td>\n",
       "      <td>40.176819</td>\n",
       "    </tr>\n",
       "    <tr>\n",
       "      <th>1</th>\n",
       "      <td>1</td>\n",
       "      <td>2016-10-25 06:20:00</td>\n",
       "      <td>0</td>\n",
       "      <td>42.326800</td>\n",
       "    </tr>\n",
       "    <tr>\n",
       "      <th>2</th>\n",
       "      <td>1</td>\n",
       "      <td>2016-10-25 06:40:00</td>\n",
       "      <td>0</td>\n",
       "      <td>47.084662</td>\n",
       "    </tr>\n",
       "    <tr>\n",
       "      <th>3</th>\n",
       "      <td>1</td>\n",
       "      <td>2016-10-25 07:00:00</td>\n",
       "      <td>0</td>\n",
       "      <td>40.176819</td>\n",
       "    </tr>\n",
       "    <tr>\n",
       "      <th>4</th>\n",
       "      <td>1</td>\n",
       "      <td>2016-10-25 07:20:00</td>\n",
       "      <td>0</td>\n",
       "      <td>42.326800</td>\n",
       "    </tr>\n",
       "  </tbody>\n",
       "</table>\n",
       "</div>"
      ],
      "text/plain": [
       "   tollgate_id          time_window  direction     volume\n",
       "0            1  2016-10-25 06:00:00          0  40.176819\n",
       "1            1  2016-10-25 06:20:00          0  42.326800\n",
       "2            1  2016-10-25 06:40:00          0  47.084662\n",
       "3            1  2016-10-25 07:00:00          0  40.176819\n",
       "4            1  2016-10-25 07:20:00          0  42.326800"
      ]
     },
     "execution_count": 25,
     "metadata": {},
     "output_type": "execute_result"
    }
   ],
   "source": [
    "df_pred.head()"
   ]
  },
  {
   "cell_type": "code",
   "execution_count": 26,
   "metadata": {},
   "outputs": [
    {
     "data": {
      "text/html": [
       "<div>\n",
       "<style scoped>\n",
       "    .dataframe tbody tr th:only-of-type {\n",
       "        vertical-align: middle;\n",
       "    }\n",
       "\n",
       "    .dataframe tbody tr th {\n",
       "        vertical-align: top;\n",
       "    }\n",
       "\n",
       "    .dataframe thead th {\n",
       "        text-align: right;\n",
       "    }\n",
       "</style>\n",
       "<table border=\"1\" class=\"dataframe\">\n",
       "  <thead>\n",
       "    <tr style=\"text-align: right;\">\n",
       "      <th></th>\n",
       "      <th>time</th>\n",
       "      <th>tollgate_id</th>\n",
       "      <th>direction</th>\n",
       "      <th>time_window</th>\n",
       "      <th>volume</th>\n",
       "    </tr>\n",
       "  </thead>\n",
       "  <tbody>\n",
       "    <tr>\n",
       "      <th>0</th>\n",
       "      <td>2016-10-25 06:00:00</td>\n",
       "      <td>1</td>\n",
       "      <td>0</td>\n",
       "      <td>[06:00:00,06:20:00)</td>\n",
       "      <td>10</td>\n",
       "    </tr>\n",
       "    <tr>\n",
       "      <th>1</th>\n",
       "      <td>2016-10-25 06:00:00</td>\n",
       "      <td>1</td>\n",
       "      <td>1</td>\n",
       "      <td>[06:00:00,06:20:00)</td>\n",
       "      <td>37</td>\n",
       "    </tr>\n",
       "    <tr>\n",
       "      <th>2</th>\n",
       "      <td>2016-10-25 06:00:00</td>\n",
       "      <td>2</td>\n",
       "      <td>0</td>\n",
       "      <td>[06:00:00,06:20:00)</td>\n",
       "      <td>29</td>\n",
       "    </tr>\n",
       "    <tr>\n",
       "      <th>3</th>\n",
       "      <td>2016-10-25 06:00:00</td>\n",
       "      <td>3</td>\n",
       "      <td>0</td>\n",
       "      <td>[06:00:00,06:20:00)</td>\n",
       "      <td>28</td>\n",
       "    </tr>\n",
       "    <tr>\n",
       "      <th>4</th>\n",
       "      <td>2016-10-25 06:00:00</td>\n",
       "      <td>3</td>\n",
       "      <td>1</td>\n",
       "      <td>[06:00:00,06:20:00)</td>\n",
       "      <td>30</td>\n",
       "    </tr>\n",
       "  </tbody>\n",
       "</table>\n",
       "</div>"
      ],
      "text/plain": [
       "                  time  tollgate_id  direction          time_window  volume\n",
       "0  2016-10-25 06:00:00            1          0  [06:00:00,06:20:00)      10\n",
       "1  2016-10-25 06:00:00            1          1  [06:00:00,06:20:00)      37\n",
       "2  2016-10-25 06:00:00            2          0  [06:00:00,06:20:00)      29\n",
       "3  2016-10-25 06:00:00            3          0  [06:00:00,06:20:00)      28\n",
       "4  2016-10-25 06:00:00            3          1  [06:00:00,06:20:00)      30"
      ]
     },
     "execution_count": 26,
     "metadata": {},
     "output_type": "execute_result"
    }
   ],
   "source": [
    "df_real.head()"
   ]
  },
  {
   "cell_type": "code",
   "execution_count": 75,
   "metadata": {},
   "outputs": [],
   "source": [
    "df_test_v = pd.read_csv(\"test2_no_filter.csv\")\n",
    "df_train_v = pd.read_csv(\"train_no_filter.csv\")\n"
   ]
  },
  {
   "cell_type": "code",
   "execution_count": 76,
   "metadata": {},
   "outputs": [],
   "source": [
    "def feature_format():\n",
    "    #pd_volume_train = pd_volume_train.set_index(['time'])\n",
    "    #pd_volume_test = pd_volume_test.set_index(['time'])\n",
    "    #volume_train = v_train.groupby(['time_window','tollgate_id','direction','date', 'hour']).size().reset_index().rename(columns = {0:'volume'})\n",
    "    #volume_test = v_test.groupby(['time_window','tollgate_id','direction','date', 'hour']).size().reset_index().rename(columns = {0:'volume'})\n",
    "    #print(volume_train)                \n",
    "    x = pd.Series(df_train_v['time_window'].unique())\n",
    "    s = pd.Series(range(len(x)),index = x.values)\n",
    "    df_train_v['window_n'] = df_train_v['time_window'].map(s)\n",
    "    df_test_v['window_n'] = df_test_v['time_window'].map(s)\n",
    "#        print vol_test.tail()\n",
    "    #volume_train['weekday'] = v_train['weekday']\n",
    "    #volume_test['weekday'] = v_test['weekday']\n",
    "    \n",
    "    feature_train = df_train_v.drop('volume', axis = 1)\n",
    "    feature_test = df_test_v.drop('volume',axis = 1)\n",
    "    values_train = df_train_v['volume'].values\n",
    "    values_test = df_test_v['volume'].values\n",
    "    \n",
    "    return feature_train, feature_test, values_train, values_test"
   ]
  },
  {
   "cell_type": "code",
   "execution_count": 78,
   "metadata": {},
   "outputs": [],
   "source": [
    "feature_train, feature_test, values_train, values_test = feature_format()"
   ]
  },
  {
   "cell_type": "code",
   "execution_count": 81,
   "metadata": {},
   "outputs": [
    {
     "data": {
      "text/plain": [
       "tollgate_id      2520\n",
       "time_window      2520\n",
       "direction        2520\n",
       "time             2520\n",
       "date             2520\n",
       "hour             2520\n",
       "miniute          2520\n",
       "am_pm            2520\n",
       "0                2520\n",
       "1                2520\n",
       "2                2520\n",
       "3                2520\n",
       "4                2520\n",
       "5                2520\n",
       "period_num       2520\n",
       "precipitation     840\n",
       "rel_humidity      840\n",
       "window_n            0\n",
       "dtype: int64"
      ]
     },
     "execution_count": 81,
     "metadata": {},
     "output_type": "execute_result"
    }
   ],
   "source": [
    "feature_test.count()"
   ]
  },
  {
   "cell_type": "code",
   "execution_count": 82,
   "metadata": {},
   "outputs": [],
   "source": [
    "regressor = RandomForestRegressor(n_estimators=500, max_features='sqrt', random_state=10, oob_score=True)"
   ]
  },
  {
   "cell_type": "code",
   "execution_count": 91,
   "metadata": {},
   "outputs": [
    {
     "data": {
      "text/plain": [
       "RandomForestRegressor(bootstrap=True, criterion='mse', max_depth=None,\n",
       "           max_features='sqrt', max_leaf_nodes=None,\n",
       "           min_impurity_decrease=0.0, min_impurity_split=None,\n",
       "           min_samples_leaf=1, min_samples_split=2,\n",
       "           min_weight_fraction_leaf=0.0, n_estimators=500, n_jobs=1,\n",
       "           oob_score=True, random_state=10, verbose=0, warm_start=False)"
      ]
     },
     "execution_count": 91,
     "metadata": {},
     "output_type": "execute_result"
    }
   ],
   "source": [
    "regressor.fit(feature_train[['tollgate_id', 'direction', 'hour', 'miniute', 'am_pm']], values_train)\n"
   ]
  },
  {
   "cell_type": "code",
   "execution_count": 92,
   "metadata": {},
   "outputs": [],
   "source": [
    "y_pred = regressor.predict(feature_test[['tollgate_id', 'direction', 'hour', 'miniute', 'am_pm']])"
   ]
  },
  {
   "cell_type": "code",
   "execution_count": 94,
   "metadata": {},
   "outputs": [
    {
     "data": {
      "text/plain": [
       "array([0, 0, 0, ..., 0, 0, 0])"
      ]
     },
     "execution_count": 94,
     "metadata": {},
     "output_type": "execute_result"
    }
   ],
   "source": [
    "values_test"
   ]
  },
  {
   "cell_type": "code",
   "execution_count": null,
   "metadata": {},
   "outputs": [],
   "source": []
  }
 ],
 "metadata": {
  "kernelspec": {
   "display_name": "Python 3",
   "language": "python",
   "name": "python3"
  },
  "language_info": {
   "codemirror_mode": {
    "name": "ipython",
    "version": 3
   },
   "file_extension": ".py",
   "mimetype": "text/x-python",
   "name": "python",
   "nbconvert_exporter": "python",
   "pygments_lexer": "ipython3",
   "version": "3.7.0"
  }
 },
 "nbformat": 4,
 "nbformat_minor": 2
}

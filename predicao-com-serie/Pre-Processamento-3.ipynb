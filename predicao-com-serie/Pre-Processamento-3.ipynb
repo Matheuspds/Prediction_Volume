{
 "cells": [
  {
   "cell_type": "code",
   "execution_count": 15,
   "metadata": {},
   "outputs": [],
   "source": [
    "import pandas as pd"
   ]
  },
  {
   "cell_type": "code",
   "execution_count": 16,
   "metadata": {},
   "outputs": [],
   "source": [
    "#Função que adiciona uma nova coluna para saber se o horário am ou pm, identificado pelos valores\n",
    "#1 e 0 respectivamente.\n",
    "def manha_ou_tarde(x):\n",
    "    if (x <= 12 ):\n",
    "        return 1\n",
    "    return 0"
   ]
  },
  {
   "cell_type": "code",
   "execution_count": 17,
   "metadata": {},
   "outputs": [],
   "source": [
    "#Função que diz se a hora é mais especifica ou não. Verifica dois horários dos quais podem ter bem mais fluxo\n",
    "#durante todo o dia\n",
    "def calc_period_num(x):\n",
    "    if x == 8 or x == 17:\n",
    "        return 1\n",
    "    return 0"
   ]
  },
  {
   "cell_type": "code",
   "execution_count": 18,
   "metadata": {},
   "outputs": [],
   "source": [
    "def generate_train(filname):\n",
    "    df_volume = pd.read_csv(filname)\n",
    "\n",
    "    df_volume[\"time\"] = pd.to_datetime(df_volume[\"time\"])\n",
    "    df_volume = df_volume.sort_values(['tollgate_id', 'direction', 'time'])\n",
    "    df_volume[\"am_pm\"] = df_volume[\"hour\"].apply(lambda x: manha_ou_tarde(x))\n",
    "\n",
    "    for shift_num in range(0, 6):\n",
    "        f2 = lambda x: x.values[shift_num]\n",
    "\n",
    "        df_volume[str(shift_num)] = df_volume[[\"tollgate_id\", \"direction\", \"volume\", \"date\", \"am_pm\"]].groupby(\n",
    "            [\"tollgate_id\", \"direction\", \"date\", \"am_pm\"]).transform(f2)\n",
    "\n",
    "    df_volume[\"period_num\"] = df_volume[\"hour\"].apply(lambda x: calc_period_num(x))\n",
    "    df_volume[\"period_num\"] = df_volume[\"period_num\"] + df_volume[\"miniute\"].apply(lambda x: x / 20)\n",
    "\n",
    "    df_volume[\"hour1\"] = df_volume[\"hour\"].apply(lambda x: x / 3 * 3)\n",
    "    df_weather = pd.read_csv(\"data_after_process/feature_clima.csv\")[[\"date\", \"hour\", \"precipitation\", \"rel_humidity\"]]\n",
    "    df_volume = df_volume.merge(df_weather, on=[\"date\", \"hour\"], how=\"left\")\n",
    "\n",
    "    df_volume = df_volume.drop(\"hour1\", axis=1)\n",
    "\n",
    "\n",
    "    return df_volume"
   ]
  },
  {
   "cell_type": "code",
   "execution_count": 5,
   "metadata": {},
   "outputs": [],
   "source": [
    "def combined_train():\n",
    "    path = \"data_after_process/\"\n",
    "    df1 = generate_train(path+\"train_filter_0.csv\")\n",
    "    df1[\"volume\"] = df1[\"volume\"].replace(0, 1)\n",
    "    df1.to_csv(\"train_no_filter.csv\", index=False)\n",
    "\n",
    "    df2 = generate_train(path+\"train_filter_5.csv\")\n",
    "    df2[\"volume\"] = df2[\"volume\"].replace(0, 1)\n",
    "    df2.to_csv(\"train1_no_filter.csv\", index=False)\n",
    "\n",
    "    df3 = generate_train(path+\"train_filter_10.csv\")\n",
    "    df3[\"volume\"] = df3[\"volume\"].replace(0, 1)\n",
    "    df3.to_csv(\"train2_no_filter.csv\", index=False)\n",
    "\n",
    "    df4 = generate_train(path+\"train_filter_15.csv\")\n",
    "    df4[\"volume\"] = df4[\"volume\"].replace(0, 1)\n",
    "    df4.to_csv(\"train3_no_filter.csv\", index=False)"
   ]
  },
  {
   "cell_type": "code",
   "execution_count": 6,
   "metadata": {},
   "outputs": [],
   "source": [
    "def get_test():\n",
    "    path = \"data_after_process/\"\n",
    "    df1 = generate_train(path+\"test_filter_0.csv\")\n",
    "    df1.to_csv(\"test2_no_filter.csv\", index=False)"
   ]
  },
  {
   "cell_type": "code",
   "execution_count": 7,
   "metadata": {},
   "outputs": [],
   "source": [
    "combined_train()\n",
    "get_test()"
   ]
  },
  {
   "cell_type": "code",
   "execution_count": 25,
   "metadata": {},
   "outputs": [],
   "source": [
    "df_hue = pd.read_csv(\"train3_no_filter.csv\")"
   ]
  },
  {
   "cell_type": "code",
   "execution_count": 26,
   "metadata": {},
   "outputs": [
    {
     "data": {
      "text/plain": [
       "tollgate_id      12955\n",
       "time_window      12955\n",
       "direction        12955\n",
       "volume           12955\n",
       "time             12955\n",
       "date             12955\n",
       "hour             12955\n",
       "miniute          12955\n",
       "am_pm            12955\n",
       "0                12955\n",
       "1                12955\n",
       "2                12955\n",
       "3                12955\n",
       "4                12955\n",
       "5                12955\n",
       "period_num       12955\n",
       "precipitation     4170\n",
       "rel_humidity      4170\n",
       "dtype: int64"
      ]
     },
     "execution_count": 26,
     "metadata": {},
     "output_type": "execute_result"
    }
   ],
   "source": [
    "df_hue.count()"
   ]
  },
  {
   "cell_type": "code",
   "execution_count": null,
   "metadata": {},
   "outputs": [],
   "source": []
  },
  {
   "cell_type": "code",
   "execution_count": null,
   "metadata": {},
   "outputs": [],
   "source": []
  }
 ],
 "metadata": {
  "kernelspec": {
   "display_name": "Python 3",
   "language": "python",
   "name": "python3"
  },
  "language_info": {
   "codemirror_mode": {
    "name": "ipython",
    "version": 3
   },
   "file_extension": ".py",
   "mimetype": "text/x-python",
   "name": "python",
   "nbconvert_exporter": "python",
   "pygments_lexer": "ipython3",
   "version": "3.7.0"
  }
 },
 "nbformat": 4,
 "nbformat_minor": 2
}

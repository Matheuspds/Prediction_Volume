{
 "cells": [
  {
   "cell_type": "code",
   "execution_count": 1,
   "metadata": {},
   "outputs": [],
   "source": [
    "import pandas as pd\n",
    "import numpy as np\n",
    "from datetime import time\n",
    "path = \"data_after_process/\"\n"
   ]
  },
  {
   "cell_type": "code",
   "execution_count": 8,
   "metadata": {},
   "outputs": [],
   "source": [
    "def get_hour(t):\n",
    "        return t.hour"
   ]
  },
  {
   "cell_type": "code",
   "execution_count": 10,
   "metadata": {},
   "outputs": [],
   "source": [
    "def get_minute(t):\n",
    "        return t.minute"
   ]
  },
  {
   "cell_type": "code",
   "execution_count": 13,
   "metadata": {},
   "outputs": [],
   "source": [
    "#Buscando criar novas colunas com dados de data, hora, minuto, time para a determinada linha do dataset\n",
    "def df_filter(volume_df):\n",
    "    #Ajustando o formato da coluna time\n",
    "    volume_df['time_start'] = pd.to_datetime(volume_df['time_start'], format = '%Y-%m-%d %H:%M:%S')\n",
    "    #Representam os feriados\n",
    "    holiday1 = [pd.Timestamp('2016-10-1'), pd.Timestamp('2016-10-8')]\n",
    "    holiday2 = [pd.Timestamp('2016-9-15'), pd.Timestamp('2016-9-18')]\n",
    "\n",
    "    #Adiciona valores para os dias da semana\n",
    "    volume_df['weekday'] = volume_df['time_start'].dt.dayofweek + 1\n",
    "\n",
    "    #Classificar cada atributo de time aplicando a janela de tempo de vinte minutos\n",
    "    volume_df['t'] = volume_df['time_start'].dt.time\n",
    "\n",
    "    #Adicionando valores para saber se é referente a um fim de semana ou não\n",
    "    volume_df['weekend'] = volume_df['weekday'].apply(lambda x: 0 if x < 6 else 1)\n",
    "\n",
    "    volume_df['date'] = volume_df['time_start'].dt.date\n",
    "    \n",
    "    volume_df['hour'] = volume_df['t'].apply(get_hour)\n",
    "\n",
    "    volume_df['minute'] = volume_df['t'].apply(get_minute)\n",
    "\n",
    "    volume_df['holiday'] = volume_df['time_start'].between(holiday1[0],holiday1[1])\\\n",
    "                            | volume_df['time_start'].between(holiday2[0],holiday2[1])\n",
    "    del volume_df['t']\n",
    "    \n",
    "    return volume_df"
   ]
  },
  {
   "cell_type": "code",
   "execution_count": 14,
   "metadata": {},
   "outputs": [],
   "source": [
    "df_test1 = pd.read_csv(path+\"test_0.csv\" )\n",
    "df_test2 = pd.read_csv(path+\"test_5.csv\" )\n",
    "df_test3 = pd.read_csv(path+\"test_10.csv\" )\n",
    "df_test4 = pd.read_csv(path+\"test_15.csv\" )\n",
    "df_train1 = pd.read_csv(path+\"train_0.csv\")\n",
    "df_train2 = pd.read_csv(path+\"train_5.csv\")\n",
    "df_train3 = pd.read_csv(path+\"train_10.csv\")\n",
    "df_train4 = pd.read_csv(path+\"train_15.csv\")\n",
    "\n",
    "df_filter(df_test1).to_csv(path+\"test_filter_0.csv\",index=False)\n",
    "df_filter(df_test2).to_csv(path+\"test_filter_5.csv\",index=False)\n",
    "df_filter(df_test3).to_csv(path+\"test_filter_10.csv\",index=False)\n",
    "df_filter(df_test4).to_csv(path+\"test_filter_15.csv\",index=False)\n",
    "df_filter(df_train1).to_csv(path+\"train_filter_0.csv\",index=False)\n",
    "df_filter(df_train2).to_csv(path+\"train_filter_5.csv\",index=False)\n",
    "df_filter(df_train3).to_csv(path+\"train_filter_10.csv\",index=False)\n",
    "df_filter(df_train4).to_csv(path+\"train_filter_15.csv\",index=False)"
   ]
  },
  {
   "cell_type": "code",
   "execution_count": null,
   "metadata": {},
   "outputs": [],
   "source": []
  }
 ],
 "metadata": {
  "kernelspec": {
   "display_name": "Python 3",
   "language": "python",
   "name": "python3"
  },
  "language_info": {
   "codemirror_mode": {
    "name": "ipython",
    "version": 3
   },
   "file_extension": ".py",
   "mimetype": "text/x-python",
   "name": "python",
   "nbconvert_exporter": "python",
   "pygments_lexer": "ipython3",
   "version": "3.7.0"
  }
 },
 "nbformat": 4,
 "nbformat_minor": 2
}

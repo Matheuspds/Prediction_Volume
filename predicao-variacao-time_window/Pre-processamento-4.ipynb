{
 "cells": [
  {
   "cell_type": "code",
   "execution_count": 18,
   "metadata": {},
   "outputs": [],
   "source": [
    "import pandas as pd\n",
    "path = \"data_after_process/\"\n",
    "path_final = \"data_final/\""
   ]
  },
  {
   "cell_type": "code",
   "execution_count": 30,
   "metadata": {},
   "outputs": [],
   "source": [
    "def add_feature_clima(df_volume):\n",
    "    df_weather = pd.read_csv(\"data_after_process/feature_clima.csv\")\n",
    "    df_volume = pd.merge(df_volume, df_weather, how = 'left', on = ['date','hour'])\n",
    "    \n",
    "    return df_volume"
   ]
  },
  {
   "cell_type": "code",
   "execution_count": 23,
   "metadata": {},
   "outputs": [],
   "source": [
    "def ampm(x):\n",
    "    if (x <= 12 ):\n",
    "        return 1\n",
    "    return 0"
   ]
  },
  {
   "cell_type": "code",
   "execution_count": 25,
   "metadata": {},
   "outputs": [],
   "source": [
    "def generate_features(df_volume):\n",
    "    df_volume[\"am_pm\"] = df_volume[\"hour\"].apply(lambda x: ampm(x))\n",
    "    df_volume = add_feature_clima(df_volume)\n",
    "    \n",
    "    return df_volume"
   ]
  },
  {
   "cell_type": "code",
   "execution_count": 26,
   "metadata": {},
   "outputs": [],
   "source": [
    "df_test1 = pd.read_csv(path+\"test_filter_0.csv\" )\n",
    "df_test2 = pd.read_csv(path+\"test_filter_5.csv\" )\n",
    "df_test3 = pd.read_csv(path+\"test_filter_10.csv\" )\n",
    "df_test4 = pd.read_csv(path+\"test_filter_15.csv\" )\n",
    "df_train1 = pd.read_csv(path+\"train_filter_0.csv\")\n",
    "df_train2 = pd.read_csv(path+\"train_filter_5.csv\")\n",
    "df_train3 = pd.read_csv(path+\"train_filter_10.csv\")\n",
    "df_train4 = pd.read_csv(path+\"train_filter_15.csv\")"
   ]
  },
  {
   "cell_type": "code",
   "execution_count": 31,
   "metadata": {},
   "outputs": [],
   "source": [
    "generate_features(df_test1).to_csv(path_final+\"test_final_0.csv\",index=False)\n",
    "generate_features(df_test2).to_csv(path_final+\"test_final_5.csv\",index=False)\n",
    "generate_features(df_test3).to_csv(path_final+\"test_final_10.csv\",index=False)\n",
    "generate_features(df_test4).to_csv(path_final+\"test_final_15.csv\",index=False)\n",
    "generate_features(df_train1).to_csv(path_final+\"train_final_0.csv\",index=False)\n",
    "generate_features(df_train2).to_csv(path_final+\"train_final_5.csv\",index=False)\n",
    "generate_features(df_train3).to_csv(path_final+\"train_final_10.csv\",index=False)\n",
    "generate_features(df_train4).to_csv(path_final+\"train_final_15.csv\",index=False)"
   ]
  },
  {
   "cell_type": "code",
   "execution_count": null,
   "metadata": {},
   "outputs": [],
   "source": []
  },
  {
   "cell_type": "code",
   "execution_count": null,
   "metadata": {},
   "outputs": [],
   "source": []
  }
 ],
 "metadata": {
  "kernelspec": {
   "display_name": "Python 3",
   "language": "python",
   "name": "python3"
  },
  "language_info": {
   "codemirror_mode": {
    "name": "ipython",
    "version": 3
   },
   "file_extension": ".py",
   "mimetype": "text/x-python",
   "name": "python",
   "nbconvert_exporter": "python",
   "pygments_lexer": "ipython3",
   "version": "3.7.0"
  }
 },
 "nbformat": 4,
 "nbformat_minor": 2
}

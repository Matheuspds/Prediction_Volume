{
 "cells": [
  {
   "cell_type": "code",
   "execution_count": 58,
   "metadata": {},
   "outputs": [],
   "source": [
    "import pandas as pd\n",
    "import numpy as np\n",
    "import random\n",
    "from sklearn.ensemble import GradientBoostingRegressor, RandomForestRegressor\n",
    "path_final = 'data_final/'"
   ]
  },
  {
   "cell_type": "code",
   "execution_count": 59,
   "metadata": {},
   "outputs": [],
   "source": [
    "df_test1 = pd.read_csv(path_final+\"test_final_0.csv\")\n",
    "df_test2 = pd.read_csv(path_final+\"test_final_5.csv\")\n",
    "df_test3 = pd.read_csv(path_final+\"test_final_10.csv\")\n",
    "df_test4 = pd.read_csv(path_final+\"test_final_15.csv\")\n",
    "df_train1 = pd.read_csv(path_final+\"train_final_0.csv\")\n",
    "df_train2 = pd.read_csv(path_final+\"train_final_5.csv\")\n",
    "df_train3 = pd.read_csv(path_final+\"train_final_10.csv\")\n",
    "df_train4 = pd.read_csv(path_final+\"train_final_15.csv\")"
   ]
  },
  {
   "cell_type": "code",
   "execution_count": 60,
   "metadata": {},
   "outputs": [],
   "source": [
    "df_train_list = [df_train1,df_train2, df_train3, df_train4]\n",
    "df_test_list = [df_test1, df_test2, df_test3, df_test4]"
   ]
  },
  {
   "cell_type": "code",
   "execution_count": 61,
   "metadata": {},
   "outputs": [],
   "source": [
    "random.shuffle(df_train_list)\n",
    "random.shuffle(df_test_list)"
   ]
  },
  {
   "cell_type": "code",
   "execution_count": 64,
   "metadata": {},
   "outputs": [],
   "source": [
    "df_train = pd.concat(df_train_list)"
   ]
  },
  {
   "cell_type": "code",
   "execution_count": 65,
   "metadata": {},
   "outputs": [],
   "source": [
    "df_test = pd.concat(df_test_list)"
   ]
  },
  {
   "cell_type": "code",
   "execution_count": 66,
   "metadata": {},
   "outputs": [
    {
     "data": {
      "text/plain": [
       "time_start       51825\n",
       "volume           51825\n",
       "direction        51825\n",
       "tollgate_id      51825\n",
       "time_window      51825\n",
       "weekday          51825\n",
       "weekend          51825\n",
       "date             51825\n",
       "hour             51825\n",
       "minute           51825\n",
       "holiday          51825\n",
       "am_pm            51825\n",
       "precipitation    16680\n",
       "rel_humidity     16680\n",
       "dtype: int64"
      ]
     },
     "execution_count": 66,
     "metadata": {},
     "output_type": "execute_result"
    }
   ],
   "source": [
    "df_train.count()"
   ]
  },
  {
   "cell_type": "code",
   "execution_count": 67,
   "metadata": {},
   "outputs": [
    {
     "data": {
      "text/html": [
       "<div>\n",
       "<style scoped>\n",
       "    .dataframe tbody tr th:only-of-type {\n",
       "        vertical-align: middle;\n",
       "    }\n",
       "\n",
       "    .dataframe tbody tr th {\n",
       "        vertical-align: top;\n",
       "    }\n",
       "\n",
       "    .dataframe thead th {\n",
       "        text-align: right;\n",
       "    }\n",
       "</style>\n",
       "<table border=\"1\" class=\"dataframe\">\n",
       "  <thead>\n",
       "    <tr style=\"text-align: right;\">\n",
       "      <th></th>\n",
       "      <th>time_start</th>\n",
       "      <th>volume</th>\n",
       "      <th>direction</th>\n",
       "      <th>tollgate_id</th>\n",
       "      <th>time_window</th>\n",
       "      <th>weekday</th>\n",
       "      <th>weekend</th>\n",
       "      <th>date</th>\n",
       "      <th>hour</th>\n",
       "      <th>minute</th>\n",
       "      <th>holiday</th>\n",
       "      <th>am_pm</th>\n",
       "      <th>precipitation</th>\n",
       "      <th>rel_humidity</th>\n",
       "    </tr>\n",
       "  </thead>\n",
       "  <tbody>\n",
       "    <tr>\n",
       "      <th>0</th>\n",
       "      <td>2016-10-25 00:15:00</td>\n",
       "      <td>0</td>\n",
       "      <td>0</td>\n",
       "      <td>1</td>\n",
       "      <td>[00:15:00,00:35:00)</td>\n",
       "      <td>2</td>\n",
       "      <td>0</td>\n",
       "      <td>2016-10-25</td>\n",
       "      <td>0</td>\n",
       "      <td>15</td>\n",
       "      <td>False</td>\n",
       "      <td>1</td>\n",
       "      <td>0.0</td>\n",
       "      <td>86.0</td>\n",
       "    </tr>\n",
       "    <tr>\n",
       "      <th>1</th>\n",
       "      <td>2016-10-25 00:35:00</td>\n",
       "      <td>0</td>\n",
       "      <td>0</td>\n",
       "      <td>1</td>\n",
       "      <td>[00:35:00,00:55:00)</td>\n",
       "      <td>2</td>\n",
       "      <td>0</td>\n",
       "      <td>2016-10-25</td>\n",
       "      <td>0</td>\n",
       "      <td>35</td>\n",
       "      <td>False</td>\n",
       "      <td>1</td>\n",
       "      <td>0.0</td>\n",
       "      <td>86.0</td>\n",
       "    </tr>\n",
       "    <tr>\n",
       "      <th>2</th>\n",
       "      <td>2016-10-25 00:55:00</td>\n",
       "      <td>0</td>\n",
       "      <td>0</td>\n",
       "      <td>1</td>\n",
       "      <td>[00:55:00,01:15:00)</td>\n",
       "      <td>2</td>\n",
       "      <td>0</td>\n",
       "      <td>2016-10-25</td>\n",
       "      <td>0</td>\n",
       "      <td>55</td>\n",
       "      <td>False</td>\n",
       "      <td>1</td>\n",
       "      <td>0.0</td>\n",
       "      <td>86.0</td>\n",
       "    </tr>\n",
       "    <tr>\n",
       "      <th>3</th>\n",
       "      <td>2016-10-25 01:15:00</td>\n",
       "      <td>0</td>\n",
       "      <td>0</td>\n",
       "      <td>1</td>\n",
       "      <td>[01:15:00,01:35:00)</td>\n",
       "      <td>2</td>\n",
       "      <td>0</td>\n",
       "      <td>2016-10-25</td>\n",
       "      <td>1</td>\n",
       "      <td>15</td>\n",
       "      <td>False</td>\n",
       "      <td>1</td>\n",
       "      <td>NaN</td>\n",
       "      <td>NaN</td>\n",
       "    </tr>\n",
       "    <tr>\n",
       "      <th>4</th>\n",
       "      <td>2016-10-25 01:35:00</td>\n",
       "      <td>0</td>\n",
       "      <td>0</td>\n",
       "      <td>1</td>\n",
       "      <td>[01:35:00,01:55:00)</td>\n",
       "      <td>2</td>\n",
       "      <td>0</td>\n",
       "      <td>2016-10-25</td>\n",
       "      <td>1</td>\n",
       "      <td>35</td>\n",
       "      <td>False</td>\n",
       "      <td>1</td>\n",
       "      <td>NaN</td>\n",
       "      <td>NaN</td>\n",
       "    </tr>\n",
       "  </tbody>\n",
       "</table>\n",
       "</div>"
      ],
      "text/plain": [
       "            time_start  volume  direction  tollgate_id          time_window  \\\n",
       "0  2016-10-25 00:15:00       0          0            1  [00:15:00,00:35:00)   \n",
       "1  2016-10-25 00:35:00       0          0            1  [00:35:00,00:55:00)   \n",
       "2  2016-10-25 00:55:00       0          0            1  [00:55:00,01:15:00)   \n",
       "3  2016-10-25 01:15:00       0          0            1  [01:15:00,01:35:00)   \n",
       "4  2016-10-25 01:35:00       0          0            1  [01:35:00,01:55:00)   \n",
       "\n",
       "   weekday  weekend        date  hour  minute  holiday  am_pm  precipitation  \\\n",
       "0        2        0  2016-10-25     0      15    False      1            0.0   \n",
       "1        2        0  2016-10-25     0      35    False      1            0.0   \n",
       "2        2        0  2016-10-25     0      55    False      1            0.0   \n",
       "3        2        0  2016-10-25     1      15    False      1            NaN   \n",
       "4        2        0  2016-10-25     1      35    False      1            NaN   \n",
       "\n",
       "   rel_humidity  \n",
       "0          86.0  \n",
       "1          86.0  \n",
       "2          86.0  \n",
       "3           NaN  \n",
       "4           NaN  "
      ]
     },
     "execution_count": 67,
     "metadata": {},
     "output_type": "execute_result"
    }
   ],
   "source": [
    "df_test.head()"
   ]
  },
  {
   "cell_type": "code",
   "execution_count": 68,
   "metadata": {},
   "outputs": [],
   "source": [
    "df_remove = df_test.loc[(df_test['volume'] == 0)]\n",
    "\n",
    "df_test = df_test.drop(df_remove.index)"
   ]
  },
  {
   "cell_type": "code",
   "execution_count": 69,
   "metadata": {},
   "outputs": [],
   "source": [
    "def feature_format():\n",
    "    #pd_volume_train = pd_volume_train.set_index(['time'])\n",
    "    #pd_volume_test = pd_volume_test.set_index(['time'])\n",
    "    #volume_train = v_train.groupby(['time_window','tollgate_id','direction','date', 'hour']).size().reset_index().rename(columns = {0:'volume'})\n",
    "    #volume_test = v_test.groupby(['time_window','tollgate_id','direction','date', 'hour']).size().reset_index().rename(columns = {0:'volume'})\n",
    "    #print(volume_train)                \n",
    "    x = pd.Series(df_train['time_window'].unique())\n",
    "    s = pd.Series(range(len(x)),index = x.values)\n",
    "    df_train['window_n'] = df_train['time_window'].map(s)\n",
    "    df_test['window_n'] = df_test['time_window'].map(s)\n",
    "#        print vol_test.tail()\n",
    "    #volume_train['weekday'] = v_train['weekday']\n",
    "    #volume_test['weekday'] = v_test['weekday']\n",
    "    \n",
    "    feature_train = df_train.drop('volume', axis = 1)\n",
    "    feature_test = df_test.drop('volume',axis = 1)\n",
    "    values_train = df_train['volume'].values\n",
    "    values_test = df_test['volume'].values\n",
    "    \n",
    "    return feature_train, feature_test, values_train, values_test"
   ]
  },
  {
   "cell_type": "code",
   "execution_count": 70,
   "metadata": {},
   "outputs": [],
   "source": [
    "feature_train, feature_test, values_train, values_test = feature_format()"
   ]
  },
  {
   "cell_type": "code",
   "execution_count": 71,
   "metadata": {},
   "outputs": [],
   "source": [
    "def feature_transform_split(data):\n",
    "    data[\"precipitation\"] = data[[\"precipitation\"]].fillna(value=0)\n",
    "    data[\"rel_humidity\"] = data[[\"rel_humidity\"]].fillna(value=50)\n",
    "\n",
    "    data[\"precipitation\"] = data[\"precipitation\"].apply(lambda x: x > 0)\n",
    "    data[\"rel_humidity\"] = data[\"rel_humidity\"].apply(lambda x: x > 90)\n",
    "\n",
    "    data = data.drop(\"precipitation\", axis=1)\n",
    "    return data"
   ]
  },
  {
   "cell_type": "code",
   "execution_count": 72,
   "metadata": {},
   "outputs": [],
   "source": [
    "feature_train = feature_transform_split(feature_train)"
   ]
  },
  {
   "cell_type": "code",
   "execution_count": 73,
   "metadata": {},
   "outputs": [],
   "source": [
    "feature_test = feature_transform_split(feature_test)"
   ]
  },
  {
   "cell_type": "code",
   "execution_count": null,
   "metadata": {},
   "outputs": [],
   "source": []
  },
  {
   "cell_type": "code",
   "execution_count": 74,
   "metadata": {},
   "outputs": [],
   "source": [
    "regressor_cubic = RandomForestRegressor(n_estimators=500, max_features='sqrt', random_state=10, oob_score=True)"
   ]
  },
  {
   "cell_type": "code",
   "execution_count": 29,
   "metadata": {},
   "outputs": [],
   "source": [
    "#len_train = len(train_data)\n",
    "#train_data = pd.DataFrame.reset_index(feature_train)\n",
    "#train_data = train_data.drop(\"index\", axis=1)\n",
    "#y = train_data.ix[:len_train - 1, :][\"volume\"]\n",
    "\n",
    "\n",
    "#x = train_data.ix[:len_train - 1, 8:]\n",
    "#x1 = train_data.ix[len_train:, 8:]"
   ]
  },
  {
   "cell_type": "code",
   "execution_count": 75,
   "metadata": {},
   "outputs": [
    {
     "data": {
      "text/plain": [
       "RandomForestRegressor(bootstrap=True, criterion='mse', max_depth=None,\n",
       "           max_features='sqrt', max_leaf_nodes=None,\n",
       "           min_impurity_decrease=0.0, min_impurity_split=None,\n",
       "           min_samples_leaf=1, min_samples_split=2,\n",
       "           min_weight_fraction_leaf=0.0, n_estimators=500, n_jobs=1,\n",
       "           oob_score=True, random_state=10, verbose=0, warm_start=False)"
      ]
     },
     "execution_count": 75,
     "metadata": {},
     "output_type": "execute_result"
    }
   ],
   "source": [
    "regressor_cubic.fit(feature_train[['window_n', 'tollgate_id', 'direction', 'weekday']], values_train)"
   ]
  },
  {
   "cell_type": "code",
   "execution_count": 76,
   "metadata": {},
   "outputs": [],
   "source": [
    "y_pred = regressor_cubic.predict(feature_test[['window_n', 'tollgate_id', 'direction', 'weekday']])"
   ]
  },
  {
   "cell_type": "code",
   "execution_count": 77,
   "metadata": {},
   "outputs": [],
   "source": [
    "mape = np.mean(np.abs((y_pred - values_test)/values_test))"
   ]
  },
  {
   "cell_type": "code",
   "execution_count": 79,
   "metadata": {},
   "outputs": [],
   "source": [
    "def mean_absolute_percentage_error(y_true, y_pred): \n",
    "    y_true, y_pred = np.array(y_true), np.array(y_pred)\n",
    "    return np.mean(np.abs((y_true - y_pred) / y_true)) * 100"
   ]
  },
  {
   "cell_type": "code",
   "execution_count": 80,
   "metadata": {},
   "outputs": [
    {
     "ename": "NameError",
     "evalue": "name 'value_test' is not defined",
     "output_type": "error",
     "traceback": [
      "\u001b[0;31m---------------------------------------------------------------------------\u001b[0m",
      "\u001b[0;31mNameError\u001b[0m                                 Traceback (most recent call last)",
      "\u001b[0;32m<ipython-input-80-433cd0567eeb>\u001b[0m in \u001b[0;36m<module>\u001b[0;34m()\u001b[0m\n\u001b[0;32m----> 1\u001b[0;31m \u001b[0mmean_absolute_percentage_error\u001b[0m\u001b[0;34m(\u001b[0m\u001b[0mvalue_test\u001b[0m\u001b[0;34m,\u001b[0m \u001b[0my_pred\u001b[0m\u001b[0;34m)\u001b[0m\u001b[0;34m\u001b[0m\u001b[0m\n\u001b[0m",
      "\u001b[0;31mNameError\u001b[0m: name 'value_test' is not defined"
     ]
    }
   ],
   "source": [
    "mean_absolute_percentage_error(value_test, y_pred)"
   ]
  },
  {
   "cell_type": "code",
   "execution_count": null,
   "metadata": {},
   "outputs": [],
   "source": []
  }
 ],
 "metadata": {
  "kernelspec": {
   "display_name": "Python 3",
   "language": "python",
   "name": "python3"
  },
  "language_info": {
   "codemirror_mode": {
    "name": "ipython",
    "version": 3
   },
   "file_extension": ".py",
   "mimetype": "text/x-python",
   "name": "python",
   "nbconvert_exporter": "python",
   "pygments_lexer": "ipython3",
   "version": "3.7.0"
  }
 },
 "nbformat": 4,
 "nbformat_minor": 2
}

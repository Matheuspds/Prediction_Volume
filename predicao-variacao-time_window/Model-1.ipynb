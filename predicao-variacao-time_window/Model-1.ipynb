{
 "cells": [
  {
   "cell_type": "code",
   "execution_count": 148,
   "metadata": {},
   "outputs": [],
   "source": [
    "import pandas as pd\n",
    "import numpy as np\n",
    "import random\n",
    "from sklearn.ensemble import GradientBoostingRegressor, RandomForestRegressor\n",
    "path_final = 'data_final/'"
   ]
  },
  {
   "cell_type": "code",
   "execution_count": 149,
   "metadata": {},
   "outputs": [],
   "source": [
    "df_test1 = pd.read_csv(path_final+\"test_final_0.csv\")\n",
    "df_test2 = pd.read_csv(path_final+\"test_final_5.csv\")\n",
    "df_test3 = pd.read_csv(path_final+\"test_final_10.csv\")\n",
    "df_test4 = pd.read_csv(path_final+\"test_final_15.csv\")\n",
    "df_train1 = pd.read_csv(path_final+\"train_final_0.csv\")\n",
    "df_train2 = pd.read_csv(path_final+\"train_final_5.csv\")\n",
    "df_train3 = pd.read_csv(path_final+\"train_final_10.csv\")\n",
    "df_train4 = pd.read_csv(path_final+\"train_final_15.csv\")"
   ]
  },
  {
   "cell_type": "code",
   "execution_count": 150,
   "metadata": {},
   "outputs": [],
   "source": [
    "df_train_list = [df_train1,df_train2, df_train3, df_train4]\n",
    "df_test_list = [df_test1, df_test2, df_test3, df_test4]"
   ]
  },
  {
   "cell_type": "code",
   "execution_count": 151,
   "metadata": {},
   "outputs": [],
   "source": [
    "random.shuffle(df_train_list)\n",
    "random.shuffle(df_test_list)"
   ]
  },
  {
   "cell_type": "code",
   "execution_count": 152,
   "metadata": {},
   "outputs": [],
   "source": [
    "df_train = pd.concat(df_train_list)"
   ]
  },
  {
   "cell_type": "code",
   "execution_count": 154,
   "metadata": {},
   "outputs": [],
   "source": [
    "df_test = pd.concat(df_test_list)"
   ]
  },
  {
   "cell_type": "code",
   "execution_count": 155,
   "metadata": {},
   "outputs": [
    {
     "data": {
      "text/plain": [
       "time_start        51825\n",
       "volume            51825\n",
       "direction         51825\n",
       "tollgate_id       51825\n",
       "time_window       51825\n",
       "weekday           51825\n",
       "weekend           51825\n",
       "date              51825\n",
       "hour              51825\n",
       "minute            51825\n",
       "holiday           51825\n",
       "am_pm             51825\n",
       "pressure          16680\n",
       "sea_pressure      16680\n",
       "wind_direction    16680\n",
       "wind_speed        16680\n",
       "temperature       16680\n",
       "rel_humidity      16680\n",
       "precipitation     16680\n",
       "dtype: int64"
      ]
     },
     "execution_count": 155,
     "metadata": {},
     "output_type": "execute_result"
    }
   ],
   "source": [
    "df_train.count()"
   ]
  },
  {
   "cell_type": "code",
   "execution_count": 156,
   "metadata": {},
   "outputs": [
    {
     "data": {
      "text/html": [
       "<div>\n",
       "<style scoped>\n",
       "    .dataframe tbody tr th:only-of-type {\n",
       "        vertical-align: middle;\n",
       "    }\n",
       "\n",
       "    .dataframe tbody tr th {\n",
       "        vertical-align: top;\n",
       "    }\n",
       "\n",
       "    .dataframe thead th {\n",
       "        text-align: right;\n",
       "    }\n",
       "</style>\n",
       "<table border=\"1\" class=\"dataframe\">\n",
       "  <thead>\n",
       "    <tr style=\"text-align: right;\">\n",
       "      <th></th>\n",
       "      <th>time_start</th>\n",
       "      <th>volume</th>\n",
       "      <th>direction</th>\n",
       "      <th>tollgate_id</th>\n",
       "      <th>time_window</th>\n",
       "      <th>weekday</th>\n",
       "      <th>weekend</th>\n",
       "      <th>date</th>\n",
       "      <th>hour</th>\n",
       "      <th>minute</th>\n",
       "      <th>holiday</th>\n",
       "      <th>am_pm</th>\n",
       "      <th>pressure</th>\n",
       "      <th>sea_pressure</th>\n",
       "      <th>wind_direction</th>\n",
       "      <th>wind_speed</th>\n",
       "      <th>temperature</th>\n",
       "      <th>rel_humidity</th>\n",
       "      <th>precipitation</th>\n",
       "    </tr>\n",
       "  </thead>\n",
       "  <tbody>\n",
       "    <tr>\n",
       "      <th>0</th>\n",
       "      <td>2016-10-25 00:15:00</td>\n",
       "      <td>0</td>\n",
       "      <td>0</td>\n",
       "      <td>1</td>\n",
       "      <td>[00:15:00,00:35:00)</td>\n",
       "      <td>2</td>\n",
       "      <td>0</td>\n",
       "      <td>2016-10-25</td>\n",
       "      <td>0</td>\n",
       "      <td>15</td>\n",
       "      <td>False</td>\n",
       "      <td>1</td>\n",
       "      <td>1010.6</td>\n",
       "      <td>1015.6</td>\n",
       "      <td>356.0</td>\n",
       "      <td>3.4</td>\n",
       "      <td>20.2</td>\n",
       "      <td>86.0</td>\n",
       "      <td>0.0</td>\n",
       "    </tr>\n",
       "    <tr>\n",
       "      <th>1</th>\n",
       "      <td>2016-10-25 00:35:00</td>\n",
       "      <td>0</td>\n",
       "      <td>0</td>\n",
       "      <td>1</td>\n",
       "      <td>[00:35:00,00:55:00)</td>\n",
       "      <td>2</td>\n",
       "      <td>0</td>\n",
       "      <td>2016-10-25</td>\n",
       "      <td>0</td>\n",
       "      <td>35</td>\n",
       "      <td>False</td>\n",
       "      <td>1</td>\n",
       "      <td>1010.6</td>\n",
       "      <td>1015.6</td>\n",
       "      <td>356.0</td>\n",
       "      <td>3.4</td>\n",
       "      <td>20.2</td>\n",
       "      <td>86.0</td>\n",
       "      <td>0.0</td>\n",
       "    </tr>\n",
       "    <tr>\n",
       "      <th>2</th>\n",
       "      <td>2016-10-25 00:55:00</td>\n",
       "      <td>0</td>\n",
       "      <td>0</td>\n",
       "      <td>1</td>\n",
       "      <td>[00:55:00,01:15:00)</td>\n",
       "      <td>2</td>\n",
       "      <td>0</td>\n",
       "      <td>2016-10-25</td>\n",
       "      <td>0</td>\n",
       "      <td>55</td>\n",
       "      <td>False</td>\n",
       "      <td>1</td>\n",
       "      <td>1010.6</td>\n",
       "      <td>1015.6</td>\n",
       "      <td>356.0</td>\n",
       "      <td>3.4</td>\n",
       "      <td>20.2</td>\n",
       "      <td>86.0</td>\n",
       "      <td>0.0</td>\n",
       "    </tr>\n",
       "    <tr>\n",
       "      <th>3</th>\n",
       "      <td>2016-10-25 01:15:00</td>\n",
       "      <td>0</td>\n",
       "      <td>0</td>\n",
       "      <td>1</td>\n",
       "      <td>[01:15:00,01:35:00)</td>\n",
       "      <td>2</td>\n",
       "      <td>0</td>\n",
       "      <td>2016-10-25</td>\n",
       "      <td>1</td>\n",
       "      <td>15</td>\n",
       "      <td>False</td>\n",
       "      <td>1</td>\n",
       "      <td>NaN</td>\n",
       "      <td>NaN</td>\n",
       "      <td>NaN</td>\n",
       "      <td>NaN</td>\n",
       "      <td>NaN</td>\n",
       "      <td>NaN</td>\n",
       "      <td>NaN</td>\n",
       "    </tr>\n",
       "    <tr>\n",
       "      <th>4</th>\n",
       "      <td>2016-10-25 01:35:00</td>\n",
       "      <td>0</td>\n",
       "      <td>0</td>\n",
       "      <td>1</td>\n",
       "      <td>[01:35:00,01:55:00)</td>\n",
       "      <td>2</td>\n",
       "      <td>0</td>\n",
       "      <td>2016-10-25</td>\n",
       "      <td>1</td>\n",
       "      <td>35</td>\n",
       "      <td>False</td>\n",
       "      <td>1</td>\n",
       "      <td>NaN</td>\n",
       "      <td>NaN</td>\n",
       "      <td>NaN</td>\n",
       "      <td>NaN</td>\n",
       "      <td>NaN</td>\n",
       "      <td>NaN</td>\n",
       "      <td>NaN</td>\n",
       "    </tr>\n",
       "  </tbody>\n",
       "</table>\n",
       "</div>"
      ],
      "text/plain": [
       "            time_start  volume  direction  tollgate_id          time_window  \\\n",
       "0  2016-10-25 00:15:00       0          0            1  [00:15:00,00:35:00)   \n",
       "1  2016-10-25 00:35:00       0          0            1  [00:35:00,00:55:00)   \n",
       "2  2016-10-25 00:55:00       0          0            1  [00:55:00,01:15:00)   \n",
       "3  2016-10-25 01:15:00       0          0            1  [01:15:00,01:35:00)   \n",
       "4  2016-10-25 01:35:00       0          0            1  [01:35:00,01:55:00)   \n",
       "\n",
       "   weekday  weekend        date  hour  minute  holiday  am_pm  pressure  \\\n",
       "0        2        0  2016-10-25     0      15    False      1    1010.6   \n",
       "1        2        0  2016-10-25     0      35    False      1    1010.6   \n",
       "2        2        0  2016-10-25     0      55    False      1    1010.6   \n",
       "3        2        0  2016-10-25     1      15    False      1       NaN   \n",
       "4        2        0  2016-10-25     1      35    False      1       NaN   \n",
       "\n",
       "   sea_pressure  wind_direction  wind_speed  temperature  rel_humidity  \\\n",
       "0        1015.6           356.0         3.4         20.2          86.0   \n",
       "1        1015.6           356.0         3.4         20.2          86.0   \n",
       "2        1015.6           356.0         3.4         20.2          86.0   \n",
       "3           NaN             NaN         NaN          NaN           NaN   \n",
       "4           NaN             NaN         NaN          NaN           NaN   \n",
       "\n",
       "   precipitation  \n",
       "0            0.0  \n",
       "1            0.0  \n",
       "2            0.0  \n",
       "3            NaN  \n",
       "4            NaN  "
      ]
     },
     "execution_count": 156,
     "metadata": {},
     "output_type": "execute_result"
    }
   ],
   "source": [
    "df_test.head()"
   ]
  },
  {
   "cell_type": "code",
   "execution_count": 157,
   "metadata": {},
   "outputs": [],
   "source": [
    "df_remove = df_test.loc[(df_test['volume'] == 0)]\n",
    "\n",
    "df_test = df_test.drop(df_remove.index)"
   ]
  },
  {
   "cell_type": "code",
   "execution_count": 158,
   "metadata": {},
   "outputs": [],
   "source": [
    "def feature_format():\n",
    "    #pd_volume_train = pd_volume_train.set_index(['time'])\n",
    "    #pd_volume_test = pd_volume_test.set_index(['time'])\n",
    "    #volume_train = v_train.groupby(['time_window','tollgate_id','direction','date', 'hour']).size().reset_index().rename(columns = {0:'volume'})\n",
    "    #volume_test = v_test.groupby(['time_window','tollgate_id','direction','date', 'hour']).size().reset_index().rename(columns = {0:'volume'})\n",
    "    #print(volume_train)                \n",
    "    #x = pd.Series(df_train['time_window'].unique())\n",
    "    #s = pd.Series(range(len(x)),index = x.values)\n",
    "    #df_train['window_n'] = df_train['time_window'].map(s)\n",
    "    #df_test['window_n'] = df_test['time_window'].map(s)\n",
    "#        print vol_test.tail()\n",
    "    #volume_train['weekday'] = v_train['weekday']\n",
    "    #volume_test['weekday'] = v_test['weekday']\n",
    "    \n",
    "    feature_train = df_train.drop('volume', axis = 1)\n",
    "    feature_test = df_test.drop('volume',axis = 1)\n",
    "    values_train = df_train['volume'].values\n",
    "    values_test = df_test['volume'].values\n",
    "    \n",
    "    return feature_train, feature_test, values_train, values_test"
   ]
  },
  {
   "cell_type": "code",
   "execution_count": 159,
   "metadata": {},
   "outputs": [
    {
     "data": {
      "text/html": [
       "<div>\n",
       "<style scoped>\n",
       "    .dataframe tbody tr th:only-of-type {\n",
       "        vertical-align: middle;\n",
       "    }\n",
       "\n",
       "    .dataframe tbody tr th {\n",
       "        vertical-align: top;\n",
       "    }\n",
       "\n",
       "    .dataframe thead th {\n",
       "        text-align: right;\n",
       "    }\n",
       "</style>\n",
       "<table border=\"1\" class=\"dataframe\">\n",
       "  <thead>\n",
       "    <tr style=\"text-align: right;\">\n",
       "      <th></th>\n",
       "      <th>time_start</th>\n",
       "      <th>direction</th>\n",
       "      <th>tollgate_id</th>\n",
       "      <th>time_window</th>\n",
       "      <th>weekday</th>\n",
       "      <th>weekend</th>\n",
       "      <th>date</th>\n",
       "      <th>hour</th>\n",
       "      <th>minute</th>\n",
       "      <th>holiday</th>\n",
       "      <th>am_pm</th>\n",
       "      <th>pressure</th>\n",
       "      <th>sea_pressure</th>\n",
       "      <th>wind_direction</th>\n",
       "      <th>wind_speed</th>\n",
       "      <th>temperature</th>\n",
       "      <th>rel_humidity</th>\n",
       "      <th>precipitation</th>\n",
       "    </tr>\n",
       "  </thead>\n",
       "  <tbody>\n",
       "    <tr>\n",
       "      <th>0</th>\n",
       "      <td>2016-09-19 00:05:00</td>\n",
       "      <td>0</td>\n",
       "      <td>1</td>\n",
       "      <td>[00:05:00,00:25:00)</td>\n",
       "      <td>1</td>\n",
       "      <td>0</td>\n",
       "      <td>2016-09-19</td>\n",
       "      <td>0</td>\n",
       "      <td>5</td>\n",
       "      <td>False</td>\n",
       "      <td>1</td>\n",
       "      <td>1008.2</td>\n",
       "      <td>1013.2</td>\n",
       "      <td>329.0</td>\n",
       "      <td>2.8</td>\n",
       "      <td>22.2</td>\n",
       "      <td>76.0</td>\n",
       "      <td>0.0</td>\n",
       "    </tr>\n",
       "    <tr>\n",
       "      <th>1</th>\n",
       "      <td>2016-09-19 00:25:00</td>\n",
       "      <td>0</td>\n",
       "      <td>1</td>\n",
       "      <td>[00:25:00,00:45:00)</td>\n",
       "      <td>1</td>\n",
       "      <td>0</td>\n",
       "      <td>2016-09-19</td>\n",
       "      <td>0</td>\n",
       "      <td>25</td>\n",
       "      <td>False</td>\n",
       "      <td>1</td>\n",
       "      <td>1008.2</td>\n",
       "      <td>1013.2</td>\n",
       "      <td>329.0</td>\n",
       "      <td>2.8</td>\n",
       "      <td>22.2</td>\n",
       "      <td>76.0</td>\n",
       "      <td>0.0</td>\n",
       "    </tr>\n",
       "    <tr>\n",
       "      <th>2</th>\n",
       "      <td>2016-09-19 00:45:00</td>\n",
       "      <td>0</td>\n",
       "      <td>1</td>\n",
       "      <td>[00:45:00,01:05:00)</td>\n",
       "      <td>1</td>\n",
       "      <td>0</td>\n",
       "      <td>2016-09-19</td>\n",
       "      <td>0</td>\n",
       "      <td>45</td>\n",
       "      <td>False</td>\n",
       "      <td>1</td>\n",
       "      <td>1008.2</td>\n",
       "      <td>1013.2</td>\n",
       "      <td>329.0</td>\n",
       "      <td>2.8</td>\n",
       "      <td>22.2</td>\n",
       "      <td>76.0</td>\n",
       "      <td>0.0</td>\n",
       "    </tr>\n",
       "    <tr>\n",
       "      <th>3</th>\n",
       "      <td>2016-09-19 01:05:00</td>\n",
       "      <td>0</td>\n",
       "      <td>1</td>\n",
       "      <td>[01:05:00,01:25:00)</td>\n",
       "      <td>1</td>\n",
       "      <td>0</td>\n",
       "      <td>2016-09-19</td>\n",
       "      <td>1</td>\n",
       "      <td>5</td>\n",
       "      <td>False</td>\n",
       "      <td>1</td>\n",
       "      <td>NaN</td>\n",
       "      <td>NaN</td>\n",
       "      <td>NaN</td>\n",
       "      <td>NaN</td>\n",
       "      <td>NaN</td>\n",
       "      <td>NaN</td>\n",
       "      <td>NaN</td>\n",
       "    </tr>\n",
       "    <tr>\n",
       "      <th>4</th>\n",
       "      <td>2016-09-19 01:25:00</td>\n",
       "      <td>0</td>\n",
       "      <td>1</td>\n",
       "      <td>[01:25:00,01:45:00)</td>\n",
       "      <td>1</td>\n",
       "      <td>0</td>\n",
       "      <td>2016-09-19</td>\n",
       "      <td>1</td>\n",
       "      <td>25</td>\n",
       "      <td>False</td>\n",
       "      <td>1</td>\n",
       "      <td>NaN</td>\n",
       "      <td>NaN</td>\n",
       "      <td>NaN</td>\n",
       "      <td>NaN</td>\n",
       "      <td>NaN</td>\n",
       "      <td>NaN</td>\n",
       "      <td>NaN</td>\n",
       "    </tr>\n",
       "  </tbody>\n",
       "</table>\n",
       "</div>"
      ],
      "text/plain": [
       "            time_start  direction  tollgate_id          time_window  weekday  \\\n",
       "0  2016-09-19 00:05:00          0            1  [00:05:00,00:25:00)        1   \n",
       "1  2016-09-19 00:25:00          0            1  [00:25:00,00:45:00)        1   \n",
       "2  2016-09-19 00:45:00          0            1  [00:45:00,01:05:00)        1   \n",
       "3  2016-09-19 01:05:00          0            1  [01:05:00,01:25:00)        1   \n",
       "4  2016-09-19 01:25:00          0            1  [01:25:00,01:45:00)        1   \n",
       "\n",
       "   weekend        date  hour  minute  holiday  am_pm  pressure  sea_pressure  \\\n",
       "0        0  2016-09-19     0       5    False      1    1008.2        1013.2   \n",
       "1        0  2016-09-19     0      25    False      1    1008.2        1013.2   \n",
       "2        0  2016-09-19     0      45    False      1    1008.2        1013.2   \n",
       "3        0  2016-09-19     1       5    False      1       NaN           NaN   \n",
       "4        0  2016-09-19     1      25    False      1       NaN           NaN   \n",
       "\n",
       "   wind_direction  wind_speed  temperature  rel_humidity  precipitation  \n",
       "0           329.0         2.8         22.2          76.0            0.0  \n",
       "1           329.0         2.8         22.2          76.0            0.0  \n",
       "2           329.0         2.8         22.2          76.0            0.0  \n",
       "3             NaN         NaN          NaN           NaN            NaN  \n",
       "4             NaN         NaN          NaN           NaN            NaN  "
      ]
     },
     "execution_count": 159,
     "metadata": {},
     "output_type": "execute_result"
    }
   ],
   "source": [
    "feature_train, feature_test, values_train, values_test = feature_format()\n",
    "feature_train.head()"
   ]
  },
  {
   "cell_type": "code",
   "execution_count": 160,
   "metadata": {},
   "outputs": [],
   "source": [
    "def feature_transform_split(data):\n",
    "    data[\"precipitation\"] = data[[\"precipitation\"]].fillna(value=0)\n",
    "    data[\"rel_humidity\"] = data[[\"rel_humidity\"]].fillna(value=50)\n",
    "\n",
    "    data[\"precipitation\"] = data[\"precipitation\"].apply(lambda x: x > 0)\n",
    "    data[\"rel_humidity\"] = data[\"rel_humidity\"].apply(lambda x: x > 90)\n",
    "\n",
    "    data = data.drop(\"precipitation\", axis=1)\n",
    "    return data"
   ]
  },
  {
   "cell_type": "code",
   "execution_count": 138,
   "metadata": {},
   "outputs": [],
   "source": [
    "def feature_transform_split_complete(key, data):\n",
    "    # data = remove_exception(data)\n",
    "\n",
    "    data[\"precipitation\"] = data[[\"precipitation\"]].fillna(value=0)\n",
    "    data[\"rel_humidity\"] = data[[\"rel_humidity\"]].fillna(value=50)\n",
    "\n",
    "    data[\"precipitation\"] = data[\"precipitation\"].apply(lambda x: x > 0)\n",
    "    data[\"rel_humidity\"] = data[\"rel_humidity\"].apply(lambda x: x > 90)\n",
    "\n",
    "    data = data.drop(\"precipitation\", axis=1)\n",
    "    # data = data.drop(\"rel_humidity\", axis= 1)\n",
    "\n",
    "\n",
    "\n",
    "\n",
    "    # data[\"sum\"] = data[\"0\"] + data[\"1\"] + data[\"2\"] + data[\"3\"] + data[\"4\"] + data[\"5\"]\n",
    "\n",
    "    #data = pd.concat([data, pd.get_dummies(data['period_num'])], axis=1)\n",
    "    #data = data.drop(\"period_num\", axis=1)\n",
    "\n",
    "    data = pd.concat([data, pd.get_dummies(data['holiday'])], axis=1)\n",
    "    data = data.drop(\"holiday\", axis=1)\n",
    "    #\n",
    "    # data = pd.concat([data, pd.get_dummies(data['first_last_workday'])], axis=1)\n",
    "    #data = data.drop(\"first_last_workday\", axis=1)\n",
    "\n",
    "    #data = data.drop(\"day_of_week\", axis=1)\n",
    "\n",
    "    if (key == 1):\n",
    "        data = pd.concat([data, pd.get_dummies(data['tollgate_id'])], axis=1)\n",
    "        # data[\"tollgate_id1\"] = data['tollgate_id']\n",
    "        data[\"direction1\"] = data['direction']\n",
    "    return data"
   ]
  },
  {
   "cell_type": "code",
   "execution_count": 162,
   "metadata": {},
   "outputs": [],
   "source": [
    "feature_train = feature_transform_split(feature_train)"
   ]
  },
  {
   "cell_type": "code",
   "execution_count": 161,
   "metadata": {},
   "outputs": [],
   "source": [
    "feature_test = feature_transform_split(feature_test)"
   ]
  },
  {
   "cell_type": "code",
   "execution_count": 141,
   "metadata": {},
   "outputs": [
    {
     "data": {
      "text/html": [
       "<div>\n",
       "<style scoped>\n",
       "    .dataframe tbody tr th:only-of-type {\n",
       "        vertical-align: middle;\n",
       "    }\n",
       "\n",
       "    .dataframe tbody tr th {\n",
       "        vertical-align: top;\n",
       "    }\n",
       "\n",
       "    .dataframe thead th {\n",
       "        text-align: right;\n",
       "    }\n",
       "</style>\n",
       "<table border=\"1\" class=\"dataframe\">\n",
       "  <thead>\n",
       "    <tr style=\"text-align: right;\">\n",
       "      <th></th>\n",
       "      <th>time_start</th>\n",
       "      <th>direction</th>\n",
       "      <th>tollgate_id</th>\n",
       "      <th>time_window</th>\n",
       "      <th>weekday</th>\n",
       "      <th>weekend</th>\n",
       "      <th>date</th>\n",
       "      <th>hour</th>\n",
       "      <th>minute</th>\n",
       "      <th>holiday</th>\n",
       "      <th>am_pm</th>\n",
       "      <th>rel_humidity</th>\n",
       "    </tr>\n",
       "  </thead>\n",
       "  <tbody>\n",
       "    <tr>\n",
       "      <th>0</th>\n",
       "      <td>2016-09-19 00:05:00</td>\n",
       "      <td>0</td>\n",
       "      <td>1</td>\n",
       "      <td>[00:05:00,00:25:00)</td>\n",
       "      <td>1</td>\n",
       "      <td>0</td>\n",
       "      <td>2016-09-19</td>\n",
       "      <td>0</td>\n",
       "      <td>5</td>\n",
       "      <td>False</td>\n",
       "      <td>1</td>\n",
       "      <td>False</td>\n",
       "    </tr>\n",
       "    <tr>\n",
       "      <th>1</th>\n",
       "      <td>2016-09-19 00:25:00</td>\n",
       "      <td>0</td>\n",
       "      <td>1</td>\n",
       "      <td>[00:25:00,00:45:00)</td>\n",
       "      <td>1</td>\n",
       "      <td>0</td>\n",
       "      <td>2016-09-19</td>\n",
       "      <td>0</td>\n",
       "      <td>25</td>\n",
       "      <td>False</td>\n",
       "      <td>1</td>\n",
       "      <td>False</td>\n",
       "    </tr>\n",
       "    <tr>\n",
       "      <th>2</th>\n",
       "      <td>2016-09-19 00:45:00</td>\n",
       "      <td>0</td>\n",
       "      <td>1</td>\n",
       "      <td>[00:45:00,01:05:00)</td>\n",
       "      <td>1</td>\n",
       "      <td>0</td>\n",
       "      <td>2016-09-19</td>\n",
       "      <td>0</td>\n",
       "      <td>45</td>\n",
       "      <td>False</td>\n",
       "      <td>1</td>\n",
       "      <td>False</td>\n",
       "    </tr>\n",
       "    <tr>\n",
       "      <th>3</th>\n",
       "      <td>2016-09-19 01:05:00</td>\n",
       "      <td>0</td>\n",
       "      <td>1</td>\n",
       "      <td>[01:05:00,01:25:00)</td>\n",
       "      <td>1</td>\n",
       "      <td>0</td>\n",
       "      <td>2016-09-19</td>\n",
       "      <td>1</td>\n",
       "      <td>5</td>\n",
       "      <td>False</td>\n",
       "      <td>1</td>\n",
       "      <td>False</td>\n",
       "    </tr>\n",
       "    <tr>\n",
       "      <th>4</th>\n",
       "      <td>2016-09-19 01:25:00</td>\n",
       "      <td>0</td>\n",
       "      <td>1</td>\n",
       "      <td>[01:25:00,01:45:00)</td>\n",
       "      <td>1</td>\n",
       "      <td>0</td>\n",
       "      <td>2016-09-19</td>\n",
       "      <td>1</td>\n",
       "      <td>25</td>\n",
       "      <td>False</td>\n",
       "      <td>1</td>\n",
       "      <td>False</td>\n",
       "    </tr>\n",
       "  </tbody>\n",
       "</table>\n",
       "</div>"
      ],
      "text/plain": [
       "            time_start  direction  tollgate_id          time_window  weekday  \\\n",
       "0  2016-09-19 00:05:00          0            1  [00:05:00,00:25:00)        1   \n",
       "1  2016-09-19 00:25:00          0            1  [00:25:00,00:45:00)        1   \n",
       "2  2016-09-19 00:45:00          0            1  [00:45:00,01:05:00)        1   \n",
       "3  2016-09-19 01:05:00          0            1  [01:05:00,01:25:00)        1   \n",
       "4  2016-09-19 01:25:00          0            1  [01:25:00,01:45:00)        1   \n",
       "\n",
       "   weekend        date  hour  minute  holiday  am_pm  rel_humidity  \n",
       "0        0  2016-09-19     0       5    False      1         False  \n",
       "1        0  2016-09-19     0      25    False      1         False  \n",
       "2        0  2016-09-19     0      45    False      1         False  \n",
       "3        0  2016-09-19     1       5    False      1         False  \n",
       "4        0  2016-09-19     1      25    False      1         False  "
      ]
     },
     "execution_count": 141,
     "metadata": {},
     "output_type": "execute_result"
    }
   ],
   "source": [
    "feature_train.head()"
   ]
  },
  {
   "cell_type": "code",
   "execution_count": 142,
   "metadata": {},
   "outputs": [],
   "source": [
    "regressor_cubic = RandomForestRegressor(n_estimators=500, max_features='sqrt', random_state=10, oob_score=True)"
   ]
  },
  {
   "cell_type": "code",
   "execution_count": 143,
   "metadata": {},
   "outputs": [
    {
     "name": "stderr",
     "output_type": "stream",
     "text": [
      "/home/matheuspds/miniconda3/lib/python3.7/site-packages/ipykernel_launcher.py:19: DeprecationWarning: \n",
      ".ix is deprecated. Please use\n",
      ".loc for label based indexing or\n",
      ".iloc for positional indexing\n",
      "\n",
      "See the documentation here:\n",
      "http://pandas.pydata.org/pandas-docs/stable/indexing.html#ix-indexer-is-deprecated\n",
      "/home/matheuspds/miniconda3/lib/python3.7/site-packages/ipykernel_launcher.py:20: DeprecationWarning: \n",
      ".ix is deprecated. Please use\n",
      ".loc for label based indexing or\n",
      ".iloc for positional indexing\n",
      "\n",
      "See the documentation here:\n",
      "http://pandas.pydata.org/pandas-docs/stable/indexing.html#ix-indexer-is-deprecated\n",
      "/home/matheuspds/miniconda3/lib/python3.7/site-packages/ipykernel_launcher.py:21: DeprecationWarning: \n",
      ".ix is deprecated. Please use\n",
      ".loc for label based indexing or\n",
      ".iloc for positional indexing\n",
      "\n",
      "See the documentation here:\n",
      "http://pandas.pydata.org/pandas-docs/stable/indexing.html#ix-indexer-is-deprecated\n",
      "/home/matheuspds/miniconda3/lib/python3.7/site-packages/ipykernel_launcher.py:19: DeprecationWarning: \n",
      ".ix is deprecated. Please use\n",
      ".loc for label based indexing or\n",
      ".iloc for positional indexing\n",
      "\n",
      "See the documentation here:\n",
      "http://pandas.pydata.org/pandas-docs/stable/indexing.html#ix-indexer-is-deprecated\n",
      "/home/matheuspds/miniconda3/lib/python3.7/site-packages/ipykernel_launcher.py:20: DeprecationWarning: \n",
      ".ix is deprecated. Please use\n",
      ".loc for label based indexing or\n",
      ".iloc for positional indexing\n",
      "\n",
      "See the documentation here:\n",
      "http://pandas.pydata.org/pandas-docs/stable/indexing.html#ix-indexer-is-deprecated\n",
      "/home/matheuspds/miniconda3/lib/python3.7/site-packages/ipykernel_launcher.py:21: DeprecationWarning: \n",
      ".ix is deprecated. Please use\n",
      ".loc for label based indexing or\n",
      ".iloc for positional indexing\n",
      "\n",
      "See the documentation here:\n",
      "http://pandas.pydata.org/pandas-docs/stable/indexing.html#ix-indexer-is-deprecated\n",
      "/home/matheuspds/miniconda3/lib/python3.7/site-packages/ipykernel_launcher.py:19: DeprecationWarning: \n",
      ".ix is deprecated. Please use\n",
      ".loc for label based indexing or\n",
      ".iloc for positional indexing\n",
      "\n",
      "See the documentation here:\n",
      "http://pandas.pydata.org/pandas-docs/stable/indexing.html#ix-indexer-is-deprecated\n",
      "/home/matheuspds/miniconda3/lib/python3.7/site-packages/ipykernel_launcher.py:20: DeprecationWarning: \n",
      ".ix is deprecated. Please use\n",
      ".loc for label based indexing or\n",
      ".iloc for positional indexing\n",
      "\n",
      "See the documentation here:\n",
      "http://pandas.pydata.org/pandas-docs/stable/indexing.html#ix-indexer-is-deprecated\n",
      "/home/matheuspds/miniconda3/lib/python3.7/site-packages/ipykernel_launcher.py:21: DeprecationWarning: \n",
      ".ix is deprecated. Please use\n",
      ".loc for label based indexing or\n",
      ".iloc for positional indexing\n",
      "\n",
      "See the documentation here:\n",
      "http://pandas.pydata.org/pandas-docs/stable/indexing.html#ix-indexer-is-deprecated\n",
      "/home/matheuspds/miniconda3/lib/python3.7/site-packages/ipykernel_launcher.py:19: DeprecationWarning: \n",
      ".ix is deprecated. Please use\n",
      ".loc for label based indexing or\n",
      ".iloc for positional indexing\n",
      "\n",
      "See the documentation here:\n",
      "http://pandas.pydata.org/pandas-docs/stable/indexing.html#ix-indexer-is-deprecated\n",
      "/home/matheuspds/miniconda3/lib/python3.7/site-packages/ipykernel_launcher.py:20: DeprecationWarning: \n",
      ".ix is deprecated. Please use\n",
      ".loc for label based indexing or\n",
      ".iloc for positional indexing\n",
      "\n",
      "See the documentation here:\n",
      "http://pandas.pydata.org/pandas-docs/stable/indexing.html#ix-indexer-is-deprecated\n",
      "/home/matheuspds/miniconda3/lib/python3.7/site-packages/ipykernel_launcher.py:21: DeprecationWarning: \n",
      ".ix is deprecated. Please use\n",
      ".loc for label based indexing or\n",
      ".iloc for positional indexing\n",
      "\n",
      "See the documentation here:\n",
      "http://pandas.pydata.org/pandas-docs/stable/indexing.html#ix-indexer-is-deprecated\n",
      "/home/matheuspds/miniconda3/lib/python3.7/site-packages/ipykernel_launcher.py:19: DeprecationWarning: \n",
      ".ix is deprecated. Please use\n",
      ".loc for label based indexing or\n",
      ".iloc for positional indexing\n",
      "\n",
      "See the documentation here:\n",
      "http://pandas.pydata.org/pandas-docs/stable/indexing.html#ix-indexer-is-deprecated\n",
      "/home/matheuspds/miniconda3/lib/python3.7/site-packages/ipykernel_launcher.py:20: DeprecationWarning: \n",
      ".ix is deprecated. Please use\n",
      ".loc for label based indexing or\n",
      ".iloc for positional indexing\n",
      "\n",
      "See the documentation here:\n",
      "http://pandas.pydata.org/pandas-docs/stable/indexing.html#ix-indexer-is-deprecated\n",
      "/home/matheuspds/miniconda3/lib/python3.7/site-packages/ipykernel_launcher.py:21: DeprecationWarning: \n",
      ".ix is deprecated. Please use\n",
      ".loc for label based indexing or\n",
      ".iloc for positional indexing\n",
      "\n",
      "See the documentation here:\n",
      "http://pandas.pydata.org/pandas-docs/stable/indexing.html#ix-indexer-is-deprecated\n"
     ]
    }
   ],
   "source": [
    "#x = pd.Series(df_train['time_window'].unique())\n",
    "#s = pd.Series(range(len(x)),index = x.values)\n",
    "#df_train['window_n'] = df_train['time_window'].map(s)\n",
    "#df_test['window_n'] = df_test['time_window'].map(s)\n",
    "df_train_grouped = df_train.groupby([\"tollgate_id\", \"direction\"])\n",
    "df_test_grouped = df_test.groupby([\"tollgate_id\", \"direction\"])\n",
    "result = []\n",
    "oob = []\n",
    "for key, train_data in df_train_grouped:\n",
    "\n",
    "    test_data = df_test_grouped.get_group(key)\n",
    "    len_train = len(train_data)\n",
    "    train_data = train_data.append(test_data)[train_data.columns.tolist()]\n",
    "    train_data = feature_transform_split_complete(key, train_data)\n",
    "\n",
    "    regressor_cubic = RandomForestRegressor(n_estimators=500, max_features='sqrt', random_state=10, oob_score=True)\n",
    "    train_data = pd.DataFrame.reset_index(train_data)\n",
    "    train_data = train_data.drop(\"index\", axis=1)\n",
    "    y = train_data.ix[:len_train - 1, :][\"volume\"]\n",
    "    x = train_data.ix[:len_train - 1, 8:]\n",
    "    x1 = train_data.ix[len_train:, 8:]\n",
    "    regressor_cubic.fit(x, y)\n",
    "    yhat = regressor_cubic.predict(x1)\n"
   ]
  },
  {
   "cell_type": "code",
   "execution_count": 147,
   "metadata": {},
   "outputs": [
    {
     "data": {
      "text/plain": [
       "10065"
      ]
     },
     "execution_count": 147,
     "metadata": {},
     "output_type": "execute_result"
    }
   ],
   "source": [
    "len(yhat)\n",
    "len(values_test)"
   ]
  },
  {
   "cell_type": "code",
   "execution_count": 85,
   "metadata": {},
   "outputs": [
    {
     "data": {
      "text/plain": [
       "RandomForestRegressor(bootstrap=True, criterion='mse', max_depth=None,\n",
       "           max_features='sqrt', max_leaf_nodes=None,\n",
       "           min_impurity_decrease=0.0, min_impurity_split=None,\n",
       "           min_samples_leaf=1, min_samples_split=2,\n",
       "           min_weight_fraction_leaf=0.0, n_estimators=500, n_jobs=1,\n",
       "           oob_score=True, random_state=10, verbose=0, warm_start=False)"
      ]
     },
     "execution_count": 85,
     "metadata": {},
     "output_type": "execute_result"
    }
   ],
   "source": [
    "regressor_cubic.fit(feature_train[['tollgate_id', 'direction', 'weekday', 'weekend', 'hour', 'minute', 'holiday', 'am_pm', 'rel_humidity']], values_train)"
   ]
  },
  {
   "cell_type": "code",
   "execution_count": 86,
   "metadata": {},
   "outputs": [],
   "source": [
    "y_pred = regressor_cubic.predict(feature_test[['tollgate_id', 'direction', 'weekday', 'weekend', 'hour', 'minute', 'holiday', 'am_pm', 'rel_humidity']])"
   ]
  },
  {
   "cell_type": "code",
   "execution_count": 178,
   "metadata": {},
   "outputs": [
    {
     "data": {
      "text/plain": [
       "420"
      ]
     },
     "execution_count": 178,
     "metadata": {},
     "output_type": "execute_result"
    }
   ],
   "source": [
    "df_value_pred = pd.read_csv('data_final/resultado_final.csv')\n",
    "df_value_real = pd.read_csv('../dataset/test2_20min_avg_volume_test.csv')\n",
    "values_pred = df_value_pred['volume'].values\n",
    "values_reais = df_value_real['volume'].values\n",
    "len(values_reais)"
   ]
  },
  {
   "cell_type": "code",
   "execution_count": 89,
   "metadata": {},
   "outputs": [],
   "source": [
    "def mean_absolute_percentage_error(y_true, y_pred): \n",
    "    y_true, y_pred = np.array(y_true), np.array(y_pred)\n",
    "    return np.mean(np.abs((y_true - y_pred) / y_true)) * 100"
   ]
  },
  {
   "cell_type": "code",
   "execution_count": 179,
   "metadata": {},
   "outputs": [
    {
     "data": {
      "text/plain": [
       "122.39570726692179"
      ]
     },
     "execution_count": 179,
     "metadata": {},
     "output_type": "execute_result"
    }
   ],
   "source": [
    "mean_absolute_percentage_error(values_reais, values_pred)"
   ]
  },
  {
   "cell_type": "code",
   "execution_count": 116,
   "metadata": {},
   "outputs": [
    {
     "data": {
      "text/plain": [
       "0.8089286811859463"
      ]
     },
     "execution_count": 116,
     "metadata": {},
     "output_type": "execute_result"
    }
   ],
   "source": [
    "mape"
   ]
  },
  {
   "cell_type": "code",
   "execution_count": 93,
   "metadata": {},
   "outputs": [
    {
     "data": {
      "text/plain": [
       "1120"
      ]
     },
     "execution_count": 93,
     "metadata": {},
     "output_type": "execute_result"
    }
   ],
   "source": [
    "len(y_pred)"
   ]
  },
  {
   "cell_type": "code",
   "execution_count": null,
   "metadata": {},
   "outputs": [],
   "source": []
  },
  {
   "cell_type": "code",
   "execution_count": 94,
   "metadata": {},
   "outputs": [
    {
     "data": {
      "text/plain": [
       "1120"
      ]
     },
     "execution_count": 94,
     "metadata": {},
     "output_type": "execute_result"
    }
   ],
   "source": [
    "len(values_test)"
   ]
  },
  {
   "cell_type": "code",
   "execution_count": 180,
   "metadata": {},
   "outputs": [],
   "source": [
    "mape = np.mean(np.abs((values_pred - values_reais)/values_reais))"
   ]
  },
  {
   "cell_type": "code",
   "execution_count": 181,
   "metadata": {},
   "outputs": [
    {
     "data": {
      "text/plain": [
       "1.223957072669218"
      ]
     },
     "execution_count": 181,
     "metadata": {},
     "output_type": "execute_result"
    }
   ],
   "source": [
    "mape"
   ]
  },
  {
   "cell_type": "code",
   "execution_count": 182,
   "metadata": {},
   "outputs": [
    {
     "data": {
      "text/plain": [
       "array([ 66.634     ,  68.29      ,  62.234     ,  61.974     ,\n",
       "        61.382     ,  61.236     ,  59.426     ,  61.052     ,\n",
       "        54.99      ,  52.664     ,  52.722     ,  53.07      ,\n",
       "        66.634     ,  68.29      ,  62.234     ,  61.974     ,\n",
       "        61.382     ,  61.236     ,  59.426     ,  61.052     ,\n",
       "        54.99      ,  52.664     ,  52.722     ,  53.07      ,\n",
       "        66.634     ,  68.29      ,  62.234     ,  61.974     ,\n",
       "        61.382     ,  61.236     ,  59.426     ,  61.052     ,\n",
       "        54.99      ,  52.664     ,  52.722     ,  53.07      ,\n",
       "        66.634     ,  68.29      ,  62.234     ,  61.974     ,\n",
       "        61.382     ,  61.236     ,  59.426     ,  61.052     ,\n",
       "        54.99      ,  52.664     ,  52.722     ,  53.07      ,\n",
       "        69.892     ,  72.118     ,  70.818     ,  70.156     ,\n",
       "        69.8       ,  70.364     ,  63.45      ,  64.942     ,\n",
       "        62.11      ,  61.938     ,  61.48      ,  62.884     ,\n",
       "        69.892     ,  72.118     ,  70.818     ,  70.156     ,\n",
       "        69.8       ,  70.364     ,  63.45      ,  64.942     ,\n",
       "        62.11      ,  61.938     ,  61.48      ,  62.884     ,\n",
       "        66.634     ,  68.29      ,  62.234     ,  61.974     ,\n",
       "        61.382     ,  61.236     ,  59.426     ,  61.052     ,\n",
       "        54.99      ,  54.1       ,  54.302     ,  53.606     ,\n",
       "        56.636     ,  57.426     ,  55.002     ,  59.112     ,\n",
       "        56.252     ,  57.004     ,  55.208     ,  55.992     ,\n",
       "        55.068     ,  54.754     ,  53.678     ,  54.938     ,\n",
       "        56.636     ,  57.426     ,  55.002     ,  59.112     ,\n",
       "        56.252     ,  57.004     ,  55.208     ,  55.992     ,\n",
       "        55.068     ,  54.754     ,  53.678     ,  54.938     ,\n",
       "        56.636     ,  57.426     ,  55.002     ,  59.112     ,\n",
       "        56.252     ,  57.004     ,  55.208     ,  55.992     ,\n",
       "        55.068     ,  54.754     ,  53.678     ,  54.938     ,\n",
       "        56.636     ,  57.426     ,  55.002     ,  59.112     ,\n",
       "        56.252     ,  57.004     ,  55.208     ,  55.992     ,\n",
       "        55.068     ,  54.754     ,  53.678     ,  54.938     ,\n",
       "        42.31      ,  44.472     ,  43.68      ,  45.148     ,\n",
       "        44.78      ,  44.678     ,  42.43      ,  44.492     ,\n",
       "        44.098     ,  44.166     ,  44.16      ,  43.758     ,\n",
       "        42.31      ,  44.472     ,  43.68      ,  45.148     ,\n",
       "        44.78      ,  44.678     ,  42.43      ,  44.492     ,\n",
       "        44.098     ,  44.166     ,  44.16      ,  43.758     ,\n",
       "        56.636     ,  57.426     ,  55.002     ,  59.112     ,\n",
       "        56.252     ,  57.004     ,  55.208     ,  55.992     ,\n",
       "        55.068     ,  56.28      ,  54.904     ,  55.098     ,\n",
       "       106.1694    , 109.09883333, 101.592     ,  97.525     ,\n",
       "        95.388     ,  79.922     ,  96.0004    ,  98.86683333,\n",
       "        92.58      ,  87.34333333,  84.26133333,  73.96733333,\n",
       "       106.1694    , 109.09883333, 101.592     ,  97.525     ,\n",
       "        95.388     ,  79.922     ,  96.0004    ,  98.86683333,\n",
       "        92.58      ,  87.34333333,  84.26133333,  73.96733333,\n",
       "       106.1694    , 109.09883333, 101.592     ,  97.525     ,\n",
       "        95.388     ,  79.922     ,  96.0004    ,  98.86683333,\n",
       "        92.58      ,  87.34333333,  84.26133333,  73.96733333,\n",
       "       106.1694    , 109.09883333, 101.592     ,  97.525     ,\n",
       "        95.388     ,  79.922     ,  96.0004    ,  98.86683333,\n",
       "        92.58      ,  87.34333333,  84.26133333,  73.96733333,\n",
       "        65.39406667,  69.54924286,  69.58136667,  67.752     ,\n",
       "        70.60016667,  66.87533333,  60.3431    ,  63.78184286,\n",
       "        63.88296667,  63.        ,  64.78216667,  60.94533333,\n",
       "        65.39406667,  69.54924286,  69.58136667,  67.752     ,\n",
       "        70.60016667,  66.87533333,  60.3431    ,  63.78184286,\n",
       "        63.88296667,  63.        ,  64.78216667,  60.94533333,\n",
       "       106.1694    , 109.09883333, 101.592     ,  97.525     ,\n",
       "        95.388     ,  79.922     ,  96.0004    ,  98.86683333,\n",
       "        92.58      ,  89.022     ,  87.024     ,  73.546     ,\n",
       "       148.154     , 145.782     , 147.122     , 142.668     ,\n",
       "       139.994     , 127.664     , 142.356     , 139.952     ,\n",
       "       139.64      , 125.446     , 119.994     , 114.714     ,\n",
       "       148.154     , 145.782     , 147.122     , 142.668     ,\n",
       "       139.994     , 127.664     , 142.356     , 139.952     ,\n",
       "       139.64      , 125.446     , 119.994     , 114.714     ,\n",
       "       148.154     , 145.782     , 147.122     , 142.668     ,\n",
       "       139.994     , 127.664     , 142.356     , 139.952     ,\n",
       "       139.64      , 125.446     , 119.994     , 114.714     ,\n",
       "       148.154     , 145.782     , 147.122     , 142.668     ,\n",
       "       139.994     , 127.664     , 142.356     , 139.952     ,\n",
       "       139.64      , 125.446     , 119.994     , 114.714     ,\n",
       "       117.774     , 115.554     , 119.392     , 117.256     ,\n",
       "       117.464     , 117.638     , 115.104     , 113.434     ,\n",
       "       115.484     , 113.342     , 111.642     , 111.628     ,\n",
       "       117.774     , 115.554     , 119.392     , 117.256     ,\n",
       "       117.464     , 117.638     , 115.104     , 113.434     ,\n",
       "       115.484     , 113.342     , 111.642     , 111.628     ,\n",
       "       148.154     , 145.782     , 147.122     , 142.668     ,\n",
       "       139.994     , 127.664     , 142.356     , 139.952     ,\n",
       "       139.64      , 135.132     , 130.836     , 118.984     ,\n",
       "        61.704     ,  61.948     ,  62.36      ,  63.064     ,\n",
       "        61.996     ,  58.568     ,  55.338     ,  55.834     ,\n",
       "        56.196     ,  54.678     ,  53.548     ,  51.404     ,\n",
       "        61.704     ,  61.948     ,  62.36      ,  63.064     ,\n",
       "        61.996     ,  58.568     ,  55.338     ,  55.834     ,\n",
       "        56.196     ,  54.678     ,  53.548     ,  51.404     ,\n",
       "        61.704     ,  61.948     ,  62.36      ,  63.064     ,\n",
       "        61.996     ,  58.568     ,  55.338     ,  55.834     ,\n",
       "        56.196     ,  54.678     ,  53.548     ,  51.404     ,\n",
       "        61.704     ,  61.948     ,  62.36      ,  63.064     ,\n",
       "        61.996     ,  58.568     ,  55.338     ,  55.834     ,\n",
       "        56.196     ,  54.678     ,  53.548     ,  51.404     ,\n",
       "        43.786     ,  44.308     ,  43.446     ,  45.698     ,\n",
       "        45.974     ,  44.462     ,  39.782     ,  40.574     ,\n",
       "        39.732     ,  41.69      ,  41.862     ,  40.538     ,\n",
       "        43.786     ,  44.308     ,  43.446     ,  45.698     ,\n",
       "        45.974     ,  44.462     ,  39.782     ,  40.574     ,\n",
       "        39.732     ,  41.69      ,  41.862     ,  40.538     ,\n",
       "        61.704     ,  61.948     ,  62.36      ,  63.064     ,\n",
       "        61.996     ,  58.568     ,  55.338     ,  55.834     ,\n",
       "        56.196     ,  56.434     ,  55.148     ,  53.006     ])"
      ]
     },
     "execution_count": 182,
     "metadata": {},
     "output_type": "execute_result"
    }
   ],
   "source": [
    "values_pred"
   ]
  },
  {
   "cell_type": "code",
   "execution_count": 184,
   "metadata": {},
   "outputs": [
    {
     "data": {
      "text/plain": [
       "array([ 28,  30,  29,  10,  37,  48,  31,  27,  17,  54,  92,  42,  30,\n",
       "        63,  40,  83,  25,  67, 129,  62,  98, 131,  89,  38,  99,  93,\n",
       "       139,  84,  44, 133, 125,  79,  77,  52,  92,  44, 111, 123, 101,\n",
       "        66, 124,  81, 100,  46,  89, 126,  96,  78,  50, 113,  83, 141,\n",
       "       104,  40, 107, 118,  98,  50, 108,  69,  32,  12,  37,  24,  21,\n",
       "        50,  36,  27,   9,  51,  74,  41,  25,  57,  39,  74, 129,  50,\n",
       "        31,  69,  88, 121,  82,  32,  96, 144,  86,  99,  45, 110, 120,\n",
       "        81,  38,  96,  72,  59, 107,  80,  36,  99, 114,  79,  74,  44,\n",
       "       101, 131,  83,  68,  49, 110,  80, 132,  93,  45, 113,  90, 127,\n",
       "       122,  46, 109,  14,  37,  20,  24,  24,  40,  25,  36,  14,  46,\n",
       "        63,  49,  50,  23,  51, 120,  52,  70,  20,  62, 112,  90,  81,\n",
       "        36,  94, 134,  86,  42, 104, 114, 110, 100,  58,  40,  87,  54,\n",
       "        93,  89,  37, 101, 105,  80,  45, 101,  79,  49,  96, 113, 107,\n",
       "        57, 126, 108,  73,  41,  93,  83, 125, 117,  45, 109,  25,  19,\n",
       "        19,   8,  35,  52,  19,  23,  21,  57,  70,  51,  53,  14,  65,\n",
       "        66, 120,  52,  28,  86,  37, 100, 104,  57,  99,  46, 113,  97,\n",
       "       151,  77,  87, 145, 130,  62, 102, 147, 123,  48, 122,  96, 178,\n",
       "       106,  57, 113, 104, 154,  97,  78, 134,  85, 159, 107,  67, 109,\n",
       "        93,  58, 115, 143,  95, 110,  23,  27,  13,  11,  32,  42,  38,\n",
       "        28,  17,  39,  40,  59,  32,  19,  58,  65,  54,  34,  27,  57,\n",
       "        78,  64,  37,  78,  53,  92,  65,  24,  89,  61,  60,  98, 131,\n",
       "        84,  91,  77, 121,  76,  48,  70, 115, 100,  84,  52,  84, 126,\n",
       "       101,  77,  48, 102, 133,  92,  62,  91,  79,  94,  78,  83,  48,\n",
       "       111,  18,  42,  15,  21,   5,  37,  34,  25,  42,   3,  56,  25,\n",
       "        30,  56,   6,  49,  64,  70,  60,   6,  11,  78,  59,  40,  70,\n",
       "        86,  60,  74,  65,  16,  13, 153, 165, 122, 113,  25, 150, 124,\n",
       "       129, 123, 152, 123, 130, 146,  26, 130, 107, 118, 105,  13, 132,\n",
       "       138, 112, 105,  27, 119, 105, 110, 125,  19,  27,  36,  26,  22,\n",
       "        10,  53,  29,  54,  45,  10,  81,  48,  14,  60,  73,  37, 148,\n",
       "        68,  95,  88,  98,  99, 166,  88,  42, 106, 115,  58, 162, 109,\n",
       "       111,  80,  94,  96,  13,  97,  90,  94, 101,  17,  94,  81,  88,\n",
       "       106,  13, 128,  73,  85,  96,  19, 108,  92,  93, 107,  12,  88,\n",
       "        99, 104,  68,  17])"
      ]
     },
     "execution_count": 184,
     "metadata": {},
     "output_type": "execute_result"
    }
   ],
   "source": [
    "values_reais"
   ]
  },
  {
   "cell_type": "code",
   "execution_count": null,
   "metadata": {},
   "outputs": [],
   "source": []
  }
 ],
 "metadata": {
  "kernelspec": {
   "display_name": "Python 3",
   "language": "python",
   "name": "python3"
  },
  "language_info": {
   "codemirror_mode": {
    "name": "ipython",
    "version": 3
   },
   "file_extension": ".py",
   "mimetype": "text/x-python",
   "name": "python",
   "nbconvert_exporter": "python",
   "pygments_lexer": "ipython3",
   "version": "3.7.0"
  }
 },
 "nbformat": 4,
 "nbformat_minor": 2
}

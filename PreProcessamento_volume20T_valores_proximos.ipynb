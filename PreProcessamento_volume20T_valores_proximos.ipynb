{
 "cells": [
  {
   "cell_type": "code",
   "execution_count": 21,
   "metadata": {},
   "outputs": [],
   "source": [
    "import pandas as pd\n",
    "import numpy as np\n",
    "from sklearn.ensemble import GradientBoostingRegressor, RandomForestRegressor\n",
    "from sklearn.linear_model import LinearRegression\n",
    "from sklearn.linear_model import SGDRegressor\n",
    "from datetime import time\n",
    "import matplotlib.pyplot as pplot\n",
    "from sklearn.metrics import mean_squared_error\n",
    "from sklearn.tree import DecisionTreeRegressor\n",
    "from sklearn.ensemble import AdaBoostRegressor\n",
    "import math\n",
    "import random\n",
    "from sklearn.metrics import mean_absolute_error\n"
   ]
  },
  {
   "cell_type": "code",
   "execution_count": 71,
   "metadata": {},
   "outputs": [],
   "source": [
    "v_train = pd.read_csv('dados_treino_volume_com_valor_anterior.csv')\n",
    "v_test = pd.read_csv('dados_teste_volume_com_valor_anterior.csv')"
   ]
  },
  {
   "cell_type": "code",
   "execution_count": 72,
   "metadata": {},
   "outputs": [],
   "source": [
    "df_remove = v_train.loc[(v_train['date'] >= '2016-10-01') \n",
    "                         & (v_train['date'] <= '2016-10-07') \n",
    "                        ]\n",
    "\n",
    "v_train = v_train.drop(df_remove.index)"
   ]
  },
  {
   "cell_type": "code",
   "execution_count": 83,
   "metadata": {},
   "outputs": [
    {
     "name": "stderr",
     "output_type": "stream",
     "text": [
      "/home/matheuspds/miniconda3/lib/python3.7/site-packages/pandas/core/frame.py:6211: FutureWarning: Sorting because non-concatenation axis is not aligned. A future version\n",
      "of pandas will change to not sort by default.\n",
      "\n",
      "To accept the future behavior, pass 'sort=False'.\n",
      "\n",
      "To retain the current behavior and silence the warning, pass 'sort=True'.\n",
      "\n",
      "  sort=sort)\n",
      "/home/matheuspds/miniconda3/lib/python3.7/site-packages/ipykernel_launcher.py:23: DeprecationWarning: \n",
      ".ix is deprecated. Please use\n",
      ".loc for label based indexing or\n",
      ".iloc for positional indexing\n",
      "\n",
      "See the documentation here:\n",
      "http://pandas.pydata.org/pandas-docs/stable/indexing.html#ix-indexer-is-deprecated\n",
      "/home/matheuspds/miniconda3/lib/python3.7/site-packages/ipykernel_launcher.py:26: DeprecationWarning: \n",
      ".ix is deprecated. Please use\n",
      ".loc for label based indexing or\n",
      ".iloc for positional indexing\n",
      "\n",
      "See the documentation here:\n",
      "http://pandas.pydata.org/pandas-docs/stable/indexing.html#ix-indexer-is-deprecated\n",
      "/home/matheuspds/miniconda3/lib/python3.7/site-packages/ipykernel_launcher.py:27: DeprecationWarning: \n",
      ".ix is deprecated. Please use\n",
      ".loc for label based indexing or\n",
      ".iloc for positional indexing\n",
      "\n",
      "See the documentation here:\n",
      "http://pandas.pydata.org/pandas-docs/stable/indexing.html#ix-indexer-is-deprecated\n"
     ]
    },
    {
     "ename": "ValueError",
     "evalue": "Number of features of the model must match the input. Model n_features is 6 and input n_features is 7 ",
     "output_type": "error",
     "traceback": [
      "\u001b[0;31m---------------------------------------------------------------------------\u001b[0m",
      "\u001b[0;31mValueError\u001b[0m                                Traceback (most recent call last)",
      "\u001b[0;32m<ipython-input-83-2f944dffe2d5>\u001b[0m in \u001b[0;36m<module>\u001b[0;34m()\u001b[0m\n\u001b[1;32m     28\u001b[0m \u001b[0;34m\u001b[0m\u001b[0m\n\u001b[1;32m     29\u001b[0m     \u001b[0mregressor_cubic\u001b[0m\u001b[0;34m.\u001b[0m\u001b[0mfit\u001b[0m\u001b[0;34m(\u001b[0m\u001b[0mx\u001b[0m\u001b[0;34m,\u001b[0m \u001b[0my\u001b[0m\u001b[0;34m)\u001b[0m\u001b[0;34m\u001b[0m\u001b[0m\n\u001b[0;32m---> 30\u001b[0;31m     \u001b[0myhat\u001b[0m \u001b[0;34m=\u001b[0m \u001b[0mregressor_cubic\u001b[0m\u001b[0;34m.\u001b[0m\u001b[0mpredict\u001b[0m\u001b[0;34m(\u001b[0m\u001b[0mx1\u001b[0m\u001b[0;34m)\u001b[0m\u001b[0;34m\u001b[0m\u001b[0m\n\u001b[0m\u001b[1;32m     31\u001b[0m \u001b[0;34m\u001b[0m\u001b[0m\n\u001b[1;32m     32\u001b[0m     \u001b[0mtest_data\u001b[0m\u001b[0;34m[\u001b[0m\u001b[0;34m\"volume\"\u001b[0m\u001b[0;34m]\u001b[0m \u001b[0;34m=\u001b[0m \u001b[0myhat\u001b[0m\u001b[0;34m\u001b[0m\u001b[0m\n",
      "\u001b[0;32m~/miniconda3/lib/python3.7/site-packages/sklearn/ensemble/forest.py\u001b[0m in \u001b[0;36mpredict\u001b[0;34m(self, X)\u001b[0m\n\u001b[1;32m    679\u001b[0m         \u001b[0mcheck_is_fitted\u001b[0m\u001b[0;34m(\u001b[0m\u001b[0mself\u001b[0m\u001b[0;34m,\u001b[0m \u001b[0;34m'estimators_'\u001b[0m\u001b[0;34m)\u001b[0m\u001b[0;34m\u001b[0m\u001b[0m\n\u001b[1;32m    680\u001b[0m         \u001b[0;31m# Check data\u001b[0m\u001b[0;34m\u001b[0m\u001b[0;34m\u001b[0m\u001b[0m\n\u001b[0;32m--> 681\u001b[0;31m         \u001b[0mX\u001b[0m \u001b[0;34m=\u001b[0m \u001b[0mself\u001b[0m\u001b[0;34m.\u001b[0m\u001b[0m_validate_X_predict\u001b[0m\u001b[0;34m(\u001b[0m\u001b[0mX\u001b[0m\u001b[0;34m)\u001b[0m\u001b[0;34m\u001b[0m\u001b[0m\n\u001b[0m\u001b[1;32m    682\u001b[0m \u001b[0;34m\u001b[0m\u001b[0m\n\u001b[1;32m    683\u001b[0m         \u001b[0;31m# Assign chunk of trees to jobs\u001b[0m\u001b[0;34m\u001b[0m\u001b[0;34m\u001b[0m\u001b[0m\n",
      "\u001b[0;32m~/miniconda3/lib/python3.7/site-packages/sklearn/ensemble/forest.py\u001b[0m in \u001b[0;36m_validate_X_predict\u001b[0;34m(self, X)\u001b[0m\n\u001b[1;32m    355\u001b[0m                                  \"call `fit` before exploiting the model.\")\n\u001b[1;32m    356\u001b[0m \u001b[0;34m\u001b[0m\u001b[0m\n\u001b[0;32m--> 357\u001b[0;31m         \u001b[0;32mreturn\u001b[0m \u001b[0mself\u001b[0m\u001b[0;34m.\u001b[0m\u001b[0mestimators_\u001b[0m\u001b[0;34m[\u001b[0m\u001b[0;36m0\u001b[0m\u001b[0;34m]\u001b[0m\u001b[0;34m.\u001b[0m\u001b[0m_validate_X_predict\u001b[0m\u001b[0;34m(\u001b[0m\u001b[0mX\u001b[0m\u001b[0;34m,\u001b[0m \u001b[0mcheck_input\u001b[0m\u001b[0;34m=\u001b[0m\u001b[0;32mTrue\u001b[0m\u001b[0;34m)\u001b[0m\u001b[0;34m\u001b[0m\u001b[0m\n\u001b[0m\u001b[1;32m    358\u001b[0m \u001b[0;34m\u001b[0m\u001b[0m\n\u001b[1;32m    359\u001b[0m     \u001b[0;34m@\u001b[0m\u001b[0mproperty\u001b[0m\u001b[0;34m\u001b[0m\u001b[0m\n",
      "\u001b[0;32m~/miniconda3/lib/python3.7/site-packages/sklearn/tree/tree.py\u001b[0m in \u001b[0;36m_validate_X_predict\u001b[0;34m(self, X, check_input)\u001b[0m\n\u001b[1;32m    382\u001b[0m                              \u001b[0;34m\"match the input. Model n_features is %s and \"\u001b[0m\u001b[0;34m\u001b[0m\u001b[0m\n\u001b[1;32m    383\u001b[0m                              \u001b[0;34m\"input n_features is %s \"\u001b[0m\u001b[0;34m\u001b[0m\u001b[0m\n\u001b[0;32m--> 384\u001b[0;31m                              % (self.n_features_, n_features))\n\u001b[0m\u001b[1;32m    385\u001b[0m \u001b[0;34m\u001b[0m\u001b[0m\n\u001b[1;32m    386\u001b[0m         \u001b[0;32mreturn\u001b[0m \u001b[0mX\u001b[0m\u001b[0;34m\u001b[0m\u001b[0m\n",
      "\u001b[0;31mValueError\u001b[0m: Number of features of the model must match the input. Model n_features is 6 and input n_features is 7 "
     ]
    }
   ],
   "source": [
    "df_train_list = [v_train,]\n",
    "random.shuffle(df_train_list)\n",
    "df_train = pd.concat(df_train_list)\n",
    "\n",
    "df_train_grouped = df_train.groupby([\"tollgate_id\", \"direction\"])\n",
    "df_test_grouped = v_test.groupby([\"tollgate_id\", \"direction\"])\n",
    "result = []\n",
    "oob = []\n",
    "for key, train_data in df_train_grouped:\n",
    "\n",
    "    test_data = df_test_grouped.get_group(key)\n",
    "    len_train = len(train_data)\n",
    "    train_data = train_data.append(test_data)[train_data.columns.tolist()]\n",
    "\n",
    "\n",
    "    #train_data = feature_transform_knn(key, train_data)\n",
    "\n",
    "    regressor_cubic = RandomForestRegressor(n_estimators=500, max_features='sqrt', random_state=10, oob_score=True)\n",
    "\n",
    "    train_data = pd.DataFrame.reset_index(train_data)\n",
    "    train_data = train_data.drop(\"index\", axis=1)\n",
    "    y = train_data.ix[:len_train - 1, :][\"volume\"]\n",
    "\n",
    "\n",
    "    x = train_data.ix[:len_train - 1, 5:]\n",
    "    x1 = train_data.ix[len_train:, 5:]\n",
    "\n",
    "    regressor_cubic.fit(x, y)\n",
    "    yhat = regressor_cubic.predict(x1)\n",
    "\n",
    "    test_data[\"volume\"] = yhat\n",
    "    result.append(test_data[['tollgate_id', 'time_window', 'direction', 'volume']])\n",
    "\n",
    "\n",
    "df_result = pd.concat(result, axis=0)"
   ]
  },
  {
   "cell_type": "code",
   "execution_count": 74,
   "metadata": {},
   "outputs": [
    {
     "data": {
      "text/html": [
       "<div>\n",
       "<style scoped>\n",
       "    .dataframe tbody tr th:only-of-type {\n",
       "        vertical-align: middle;\n",
       "    }\n",
       "\n",
       "    .dataframe tbody tr th {\n",
       "        vertical-align: top;\n",
       "    }\n",
       "\n",
       "    .dataframe thead th {\n",
       "        text-align: right;\n",
       "    }\n",
       "</style>\n",
       "<table border=\"1\" class=\"dataframe\">\n",
       "  <thead>\n",
       "    <tr style=\"text-align: right;\">\n",
       "      <th></th>\n",
       "      <th>tollgate_id</th>\n",
       "      <th>time_window</th>\n",
       "      <th>direction</th>\n",
       "      <th>volume</th>\n",
       "    </tr>\n",
       "  </thead>\n",
       "  <tbody>\n",
       "    <tr>\n",
       "      <th>0</th>\n",
       "      <td>1</td>\n",
       "      <td>[06:00:00,06:20:00)</td>\n",
       "      <td>0</td>\n",
       "      <td>12.484</td>\n",
       "    </tr>\n",
       "    <tr>\n",
       "      <th>5</th>\n",
       "      <td>1</td>\n",
       "      <td>[06:20:00,06:40:00)</td>\n",
       "      <td>0</td>\n",
       "      <td>16.200</td>\n",
       "    </tr>\n",
       "    <tr>\n",
       "      <th>10</th>\n",
       "      <td>1</td>\n",
       "      <td>[06:40:00,07:00:00)</td>\n",
       "      <td>0</td>\n",
       "      <td>19.844</td>\n",
       "    </tr>\n",
       "    <tr>\n",
       "      <th>15</th>\n",
       "      <td>1</td>\n",
       "      <td>[07:00:00,07:20:00)</td>\n",
       "      <td>0</td>\n",
       "      <td>26.156</td>\n",
       "    </tr>\n",
       "    <tr>\n",
       "      <th>20</th>\n",
       "      <td>1</td>\n",
       "      <td>[07:20:00,07:40:00)</td>\n",
       "      <td>0</td>\n",
       "      <td>28.204</td>\n",
       "    </tr>\n",
       "  </tbody>\n",
       "</table>\n",
       "</div>"
      ],
      "text/plain": [
       "    tollgate_id          time_window  direction  volume\n",
       "0             1  [06:00:00,06:20:00)          0  12.484\n",
       "5             1  [06:20:00,06:40:00)          0  16.200\n",
       "10            1  [06:40:00,07:00:00)          0  19.844\n",
       "15            1  [07:00:00,07:20:00)          0  26.156\n",
       "20            1  [07:20:00,07:40:00)          0  28.204"
      ]
     },
     "execution_count": 74,
     "metadata": {},
     "output_type": "execute_result"
    }
   ],
   "source": [
    "df_result.head()"
   ]
  },
  {
   "cell_type": "code",
   "execution_count": 75,
   "metadata": {},
   "outputs": [],
   "source": [
    "test_0 = pd.read_csv(\"predicao-com-serie/data_after_process/test_0.csv\")"
   ]
  },
  {
   "cell_type": "code",
   "execution_count": 76,
   "metadata": {},
   "outputs": [
    {
     "data": {
      "text/html": [
       "<div>\n",
       "<style scoped>\n",
       "    .dataframe tbody tr th:only-of-type {\n",
       "        vertical-align: middle;\n",
       "    }\n",
       "\n",
       "    .dataframe tbody tr th {\n",
       "        vertical-align: top;\n",
       "    }\n",
       "\n",
       "    .dataframe thead th {\n",
       "        text-align: right;\n",
       "    }\n",
       "</style>\n",
       "<table border=\"1\" class=\"dataframe\">\n",
       "  <thead>\n",
       "    <tr style=\"text-align: right;\">\n",
       "      <th></th>\n",
       "      <th>time_start</th>\n",
       "      <th>volume</th>\n",
       "      <th>direction</th>\n",
       "      <th>tollgate_id</th>\n",
       "    </tr>\n",
       "  </thead>\n",
       "  <tbody>\n",
       "    <tr>\n",
       "      <th>18</th>\n",
       "      <td>2016-10-25 06:00:00</td>\n",
       "      <td>10</td>\n",
       "      <td>0</td>\n",
       "      <td>1</td>\n",
       "    </tr>\n",
       "    <tr>\n",
       "      <th>19</th>\n",
       "      <td>2016-10-25 06:20:00</td>\n",
       "      <td>17</td>\n",
       "      <td>0</td>\n",
       "      <td>1</td>\n",
       "    </tr>\n",
       "    <tr>\n",
       "      <th>20</th>\n",
       "      <td>2016-10-25 06:40:00</td>\n",
       "      <td>30</td>\n",
       "      <td>0</td>\n",
       "      <td>1</td>\n",
       "    </tr>\n",
       "    <tr>\n",
       "      <th>21</th>\n",
       "      <td>2016-10-25 07:00:00</td>\n",
       "      <td>25</td>\n",
       "      <td>0</td>\n",
       "      <td>1</td>\n",
       "    </tr>\n",
       "    <tr>\n",
       "      <th>22</th>\n",
       "      <td>2016-10-25 07:20:00</td>\n",
       "      <td>38</td>\n",
       "      <td>0</td>\n",
       "      <td>1</td>\n",
       "    </tr>\n",
       "  </tbody>\n",
       "</table>\n",
       "</div>"
      ],
      "text/plain": [
       "             time_start  volume  direction  tollgate_id\n",
       "18  2016-10-25 06:00:00      10          0            1\n",
       "19  2016-10-25 06:20:00      17          0            1\n",
       "20  2016-10-25 06:40:00      30          0            1\n",
       "21  2016-10-25 07:00:00      25          0            1\n",
       "22  2016-10-25 07:20:00      38          0            1"
      ]
     },
     "execution_count": 76,
     "metadata": {},
     "output_type": "execute_result"
    }
   ],
   "source": [
    "df_remove = test_0.loc[(test_0['volume'] == 0)]\n",
    "\n",
    "test_0 = test_0.drop(df_remove.index)\n",
    "test_0.head()"
   ]
  },
  {
   "cell_type": "code",
   "execution_count": 77,
   "metadata": {},
   "outputs": [],
   "source": [
    "volume_real = test_0['volume'].values\n",
    "volume_prediction = df_result['volume'].values"
   ]
  },
  {
   "cell_type": "code",
   "execution_count": 78,
   "metadata": {},
   "outputs": [],
   "source": [
    "def mean_absolute_percentage_error(y_true, y_pred): \n",
    "    y_true, y_pred = np.array(y_true), np.array(y_pred)\n",
    "    return np.mean(np.abs((y_true - y_pred) / y_true)) * 100"
   ]
  },
  {
   "cell_type": "code",
   "execution_count": 79,
   "metadata": {},
   "outputs": [
    {
     "data": {
      "text/plain": [
       "50.85381247751025"
      ]
     },
     "execution_count": 79,
     "metadata": {},
     "output_type": "execute_result"
    }
   ],
   "source": [
    "mean_absolute_percentage_error(volume_real, volume_prediction)"
   ]
  },
  {
   "cell_type": "code",
   "execution_count": 80,
   "metadata": {},
   "outputs": [
    {
     "data": {
      "text/plain": [
       "23.03997777777778"
      ]
     },
     "execution_count": 80,
     "metadata": {},
     "output_type": "execute_result"
    }
   ],
   "source": [
    "mean_absolute_error(volume_real, volume_prediction)"
   ]
  },
  {
   "cell_type": "code",
   "execution_count": 81,
   "metadata": {},
   "outputs": [
    {
     "data": {
      "text/plain": [
       "array([ 10,  17,  30,  25,  38,  44,  52,  44,  46,  50,  40,  50,  12,\n",
       "         9,  25,  31,  32,  45,  38,  36,  44,  49,  45,  46,  14,  14,\n",
       "        23,  20,  36,  42,  40,  37,  45,  49,  41,  45,   8,  21,  14,\n",
       "        28,  37,  46,  62,  48,  57,  78,  67,  58,  11,  17,  19,  27,\n",
       "        37,  24,  60,  48,  52,  48,  62,  48,  18,  25,  30,  49,  40,\n",
       "        74, 122, 129, 152, 118, 112, 110,  27,  54,  60,  95,  98, 106,\n",
       "        94,  94,  88,  85,  93,  88,  29,  27,  40,  83,  98,  93,  77,\n",
       "        66, 100,  78,  83,  69,  32,  27,  39,  74,  88,  99,  72,  59,\n",
       "        74,  68,  80,  90,  20,  36,  50,  70,  81, 114,  58,  54,  79,\n",
       "        57,  73,  83,  19,  23,  53,  66,  99,  97,  87,  96, 104,  85,\n",
       "        93, 110,  23,  42,  40,  34,  53,  61,  91,  77,  84,  77,  79,\n",
       "        83,   5,   3,   6,   6,  11,  16,  13,  25,  26,  13,  27,  19,\n",
       "        10,  10,  14,  37,  42,  58,  13,  17,  13,  19,  12,  17,  28,\n",
       "        48,  92, 129, 131, 139, 125, 123, 124, 126, 141, 118,  24,  50,\n",
       "        74, 129, 121, 144, 120, 107, 114, 131, 132, 127,  24,  40,  63,\n",
       "       120, 112, 134, 110,  93, 105, 113, 126, 125,  25,  52,  70, 120,\n",
       "       104, 151, 145, 147, 178, 154, 159, 143,  27,  38,  59,  65,  78,\n",
       "        92, 131, 121, 115, 126, 133,  94,  15,  37,  56,  70,  78,  86,\n",
       "       153, 150, 130, 130, 132, 119,  26,  53,  81, 148, 166, 162, 111,\n",
       "        97,  94, 128, 108, 104,  37,  54,  63,  67,  99, 133,  92, 111,\n",
       "        89, 113, 107, 108,  37,  51,  57,  69,  96, 110,  96,  99, 101,\n",
       "       110, 113, 109,  37,  46,  51,  62,  94, 104,  87, 101, 101,  96,\n",
       "        93, 109,  35,  57,  65,  86, 100, 113, 102, 122, 113, 134, 109,\n",
       "       115,  32,  39,  58,  57,  78,  89,  98,  70,  84, 102,  91, 111,\n",
       "        42,  42,  56,  64,  70,  65, 113, 123, 123, 105, 105, 125,  36,\n",
       "        45,  73,  88,  99, 115,  96, 101, 106,  96, 107,  99,  30,  31,\n",
       "        42,  62,  89,  84,  79, 101,  81,  96, 104,  98,  21,  36,  41,\n",
       "        50,  82,  86,  81,  80,  79,  83,  93, 122,  24,  25,  49,  52,\n",
       "        90,  86, 100,  89,  80, 107, 108, 117,  19,  19,  51,  52,  57,\n",
       "        77, 130, 123, 106,  97, 107,  95,  13,  28,  32,  54,  64,  65,\n",
       "        84,  76, 100, 101,  92,  78,  21,  34,  25,  60,  59,  60, 165,\n",
       "       124, 146, 107, 138, 105,  22,  29,  48,  68,  88, 109,  80,  90,\n",
       "        81,  73,  92,  68])"
      ]
     },
     "execution_count": 81,
     "metadata": {},
     "output_type": "execute_result"
    }
   ],
   "source": [
    "volume_real"
   ]
  },
  {
   "cell_type": "code",
   "execution_count": 82,
   "metadata": {},
   "outputs": [
    {
     "data": {
      "text/plain": [
       "array([ 12.484     ,  16.2       ,  19.844     ,  26.156     ,\n",
       "        28.204     ,  40.884     ,  47.388     ,  38.068     ,\n",
       "        34.2       ,  50.766     ,  43.016     ,  48.532     ,\n",
       "        17.41      ,  15.712     ,  16.702     ,  21.574     ,\n",
       "        34.878     ,  38.848     ,  39.106     ,  33.386     ,\n",
       "        46.462     ,  39.408     ,  39.372     ,  35.588     ,\n",
       "        14.448     ,  15.322     ,  20.726     ,  21.666     ,\n",
       "        29.792     ,  36.024     ,  39.098     ,  39.866     ,\n",
       "        40.286     ,  43.786     ,  35.77      ,  37.038     ,\n",
       "        14.502     ,  12.816     ,  19.226     ,  26.216     ,\n",
       "        38.27      ,  37.234     ,  44.136     ,  45.762     ,\n",
       "        49.274     ,  50.866     ,  54.182     ,  56.958     ,\n",
       "        15.66      ,   8.186     ,  19.308     ,  15.154     ,\n",
       "        25.296     ,  32.132     ,  36.784     ,  44.176     ,\n",
       "        47.298     ,  44.582     ,  50.008     ,  48.752     ,\n",
       "        17.822     ,  10.242     ,   8.374     ,  16.196     ,\n",
       "        23.666     ,  29.326     ,  46.864     ,  53.762     ,\n",
       "        51.628     ,  51.292     ,  50.464     ,  52.068     ,\n",
       "        21.018     ,  18.998     ,  21.516     ,  29.096     ,\n",
       "        32.182     ,  40.292     ,  46.1       ,  44.094     ,\n",
       "        28.262     ,  41.918     ,  46.882     ,  42.46      ,\n",
       "        35.63      ,  46.348     ,  68.458     ,  67.62      ,\n",
       "        93.414     ,  97.622     ,  76.92      ,  94.942     ,\n",
       "       101.842     ,  93.16      ,  82.002     , 100.36      ,\n",
       "        46.36      ,  31.89      ,  53.898     ,  66.044     ,\n",
       "        97.196     ,  96.348     ,  81.846     ,  91.824     ,\n",
       "        86.376     ,  79.344     ,  79.548     ,  83.274     ,\n",
       "        45.424     ,  30.522     ,  51.952     ,  68.64      ,\n",
       "        88.942     , 100.388     ,  89.756     , 101.624     ,\n",
       "       104.84      ,  84.96      ,  76.484     , 103.498     ,\n",
       "        36.636     ,  39.034     ,  52.472     ,  64.97      ,\n",
       "       100.816     ,  84.91      ,  99.814     ,  97.202     ,\n",
       "       108.44      ,  96.388     ,  96.998     ,  98.498     ,\n",
       "        35.74      ,  36.934     ,  53.9       ,  52.6       ,\n",
       "        59.87866667,  77.248     ,  92.158     ,  89.034     ,\n",
       "        87.67      ,  96.632     ,  94.188     ,  79.12      ,\n",
       "        31.292     ,  45.434     ,  40.84      ,  49.364     ,\n",
       "        56.692     ,  73.532     ,  93.254     , 105.984     ,\n",
       "       101.204     ,  94.704     ,  99.918     ,  98.03      ,\n",
       "        35.768     ,  52.634     ,  57.17      ,  71.724     ,\n",
       "       110.834     , 108.614     ,  81.624     ,  79.978     ,\n",
       "        95.358     ,  89.726     ,  97.656     ,  95.824     ,\n",
       "        22.888     ,  34.128     ,  44.254     ,  81.068     ,\n",
       "        86.262     ,  96.642     ,  77.418     ,  76.098     ,\n",
       "        57.22      ,  61.566     ,  64.19      ,  78.394     ,\n",
       "        31.442     ,  41.132     ,  46.556     ,  84.702     ,\n",
       "        93.088     ,  99.134     ,  74.004     ,  69.298     ,\n",
       "        59.408     ,  56.89      ,  62.078     ,  64.986     ,\n",
       "        27.778     ,  24.138     ,  40.076     ,  74.58      ,\n",
       "        87.904     , 105.852     ,  76.502     ,  76.732     ,\n",
       "        68.772     ,  64.956     ,  66.424     ,  74.796     ,\n",
       "        25.086     ,  24.822     ,  37.516     ,  67.312     ,\n",
       "        77.57      ,  90.334     ,  88.278     ,  77.352     ,\n",
       "        86.924     ,  77.512     ,  90.124     ,  78.454     ,\n",
       "        28.318     ,  22.72      ,  40.36      ,  37.708     ,\n",
       "        50.558     ,  62.648     ,  75.004     ,  75.77      ,\n",
       "        61.746     ,  76.398     ,  66.638     ,  68.768     ,\n",
       "        22.142     ,  14.012     ,  27.214     ,  37.4       ,\n",
       "        41.62      ,  47.48      ,  69.852     ,  78.748     ,\n",
       "        74.22      ,  61.628     ,  71.214     ,  62.708     ,\n",
       "        31.252     ,  37.094     ,  51.284     ,  95.416     ,\n",
       "       107.536     , 117.308     ,  72.208     ,  72.518     ,\n",
       "        70.832     ,  67.99      ,  75.014     ,  77.242     ,\n",
       "        28.752     ,  41.472     ,  78.118     , 112.128     ,\n",
       "       131.346     , 155.848     , 118.174     ,  87.956     ,\n",
       "       105.736     , 109.678     , 116.922     , 118.016     ,\n",
       "        38.082     ,  52.246     ,  72.986     , 115.11      ,\n",
       "       135.546     , 150.49      , 110.248     ,  96.13      ,\n",
       "        96.938     , 110.084     , 105.306     ,  97.104     ,\n",
       "        45.494     ,  43.122     ,  71.674     , 111.732     ,\n",
       "       122.228     , 121.922     ,  95.856     , 106.824     ,\n",
       "       108.306     , 121.272     , 106.448     , 142.516     ,\n",
       "        40.154     ,  46.036     ,  65.592     , 108.888     ,\n",
       "       133.734     , 153.408     , 128.182     , 148.478     ,\n",
       "       154.124     , 149.892     , 147.482     , 158.012     ,\n",
       "        42.976     ,  37.512     ,  54.652     ,  78.782     ,\n",
       "        90.116     ,  86.746     , 105.872     ,  98.404     ,\n",
       "       113.348     , 114.604     , 114.802     , 101.288     ,\n",
       "        34.692     ,  31.288     ,  48.796     ,  60.292     ,\n",
       "        75.904     ,  75.922     , 115.36      , 109.694     ,\n",
       "       131.892     , 122.108     , 110.782     , 121.792     ,\n",
       "        49.746     ,  50.484     ,  89.41      , 138.022     ,\n",
       "       146.456     , 159.398     , 139.704     , 106.034     ,\n",
       "       105.104     , 114.654     , 100.542     , 129.762     ,\n",
       "        21.314     ,  29.958     ,  48.088     ,  53.846     ,\n",
       "        73.658     ,  85.866     ,  85.146     ,  85.024     ,\n",
       "        76.952     ,  78.014     ,  82.516     ,  77.63      ,\n",
       "        20.956     ,  26.766     ,  43.028     ,  52.072     ,\n",
       "        65.33      ,  93.736     ,  98.772     ,  96.588     ,\n",
       "        75.87      ,  77.446     ,  80.734     ,  74.758     ,\n",
       "        17.696     ,  44.14      ,  39.33      ,  47.958     ,\n",
       "        62.966     ,  93.398     ,  99.43      ,  95.396     ,\n",
       "        73.436     ,  83.566     ,  77.328     ,  81.292     ,\n",
       "        21.056     ,  28.714     ,  42.25      ,  52.366     ,\n",
       "        72.75      ,  78.786     , 108.928     ,  91.532     ,\n",
       "        86.496     ,  75.82      ,  83.034     ,  92.83      ,\n",
       "        19.97      ,  21.328     ,  28.144     ,  42.274     ,\n",
       "        46.754     ,  72.6       ,  82.07      ,  79.732     ,\n",
       "        87.048     ,  84.35      ,  72.628     ,  80.964     ,\n",
       "        13.702     ,  20.892     ,  34.848     ,  41.948     ,\n",
       "        54.874     ,  58.266     , 117.98      , 102.146     ,\n",
       "        81.602     ,  84.498     ,  82.02      ,  92.49      ,\n",
       "        22.37      ,  40.296     ,  56.488     ,  68.506     ,\n",
       "        88.578     ,  90.698     ,  84.618     ,  91.468     ,\n",
       "        72.044     ,  88.954     ,  75.268     ,  76.948     ])"
      ]
     },
     "execution_count": 82,
     "metadata": {},
     "output_type": "execute_result"
    }
   ],
   "source": [
    "volume_prediction"
   ]
  },
  {
   "cell_type": "code",
   "execution_count": null,
   "metadata": {},
   "outputs": [],
   "source": []
  }
 ],
 "metadata": {
  "kernelspec": {
   "display_name": "Python 3",
   "language": "python",
   "name": "python3"
  },
  "language_info": {
   "codemirror_mode": {
    "name": "ipython",
    "version": 3
   },
   "file_extension": ".py",
   "mimetype": "text/x-python",
   "name": "python",
   "nbconvert_exporter": "python",
   "pygments_lexer": "ipython3",
   "version": "3.7.0"
  }
 },
 "nbformat": 4,
 "nbformat_minor": 2
}

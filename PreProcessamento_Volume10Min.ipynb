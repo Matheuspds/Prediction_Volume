{
 "cells": [
  {
   "cell_type": "code",
   "execution_count": 1,
   "metadata": {},
   "outputs": [
    {
     "name": "stderr",
     "output_type": "stream",
     "text": [
      "/home/matheuspds/miniconda3/lib/python3.7/site-packages/sklearn/utils/__init__.py:4: DeprecationWarning: Using or importing the ABCs from 'collections' instead of from 'collections.abc' is deprecated, and in 3.8 it will stop working\n",
      "  from collections import Sequence\n",
      "/home/matheuspds/miniconda3/lib/python3.7/site-packages/sklearn/ensemble/weight_boosting.py:29: DeprecationWarning: numpy.core.umath_tests is an internal NumPy module and should not be imported. It will be removed in a future NumPy release.\n",
      "  from numpy.core.umath_tests import inner1d\n"
     ]
    }
   ],
   "source": [
    "import pandas as pd\n",
    "import numpy as np\n",
    "from sklearn.ensemble import GradientBoostingRegressor\n",
    "from sklearn.linear_model import LinearRegression\n",
    "from sklearn.linear_model import SGDRegressor\n",
    "from datetime import time\n",
    "import matplotlib.pyplot as pplot\n",
    "from sklearn.metrics import mean_squared_error\n",
    "from sklearn.tree import DecisionTreeRegressor\n",
    "from sklearn.ensemble import AdaBoostRegressor"
   ]
  },
  {
   "cell_type": "code",
   "execution_count": null,
   "metadata": {},
   "outputs": [],
   "source": [
    "#Função que será usada para obter a janela de tempo de 10 minutos\n",
    "def get_timewindow(t):\n",
    "        time_window = 10\n",
    "        if t.minute < time_window:\n",
    "            window = [time(t.hour, 0), time(t.hour,10)]\n",
    "        elif t.minute < time_window*2:\n",
    "            window = [time(t.hour, 10), time(t.hour, 20)]\n",
    "        elif t.minute < time_window*3:\n",
    "            window = [time(t.hour, 20), time(t.hour, 30)]\n",
    "        elif t.minute < time_window*4:\n",
    "            window = [time(t.hour, 30), time(t.hour, 40)]\n",
    "        elif t.minute < time_window*5:\n",
    "            window = [time(t.hour, 40), time(t.hour, 50)]\n",
    "        elif t.minute < time_window*6:\n",
    "            window = [time(t.hour, 50), time(t.hour, 60)]\n",
    "        elif t.minute < time_window*7:\n",
    "            window = [time(t.hour, 60), time(t.hour, 60)]\n",
    "        elif t.minute < time_window*6:\n",
    "            window = [time(t.hour, 50), time(t.hour, 60)]\n",
    "        elif t.minute < time_window*6:\n",
    "            window = [time(t.hour, 50), time(t.hour, 60)]\n",
    "        else:\n",
    "            try:\n",
    "                window = [time(t.hour, 40), time(t.hour + 1, 0)]\n",
    "            except ValueError:\n",
    "                window = [time(t.hour, 40), time(0,0,0)]\n",
    "        s_window = '[' + str(window[0]) + ',' + str(window[1]) + ')'\n",
    "        return s_window\n",
    "\n",
    "def get_hour(t):\n",
    "        return t.hour"
   ]
  }
 ],
 "metadata": {
  "kernelspec": {
   "display_name": "Python 3",
   "language": "python",
   "name": "python3"
  },
  "language_info": {
   "codemirror_mode": {
    "name": "ipython",
    "version": 3
   },
   "file_extension": ".py",
   "mimetype": "text/x-python",
   "name": "python",
   "nbconvert_exporter": "python",
   "pygments_lexer": "ipython3",
   "version": "3.7.0"
  }
 },
 "nbformat": 4,
 "nbformat_minor": 2
}

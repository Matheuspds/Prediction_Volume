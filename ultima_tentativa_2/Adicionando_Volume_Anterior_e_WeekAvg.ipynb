{
 "cells": [
  {
   "cell_type": "code",
   "execution_count": 25,
   "metadata": {},
   "outputs": [],
   "source": [
    "import pandas as pd\n",
    "from datetime import time\n",
    "import numpy as np\n",
    "\n",
    "path = \"dados_sem_feriado/\"\n",
    "path_result=\"dados_finais/\""
   ]
  },
  {
   "cell_type": "code",
   "execution_count": 2,
   "metadata": {},
   "outputs": [],
   "source": [
    "df_train1 = pd.read_csv(path+\"train1.csv\")\n",
    "df_train2 = pd.read_csv(path+\"train2.csv\")\n",
    "df_train3 = pd.read_csv(path+\"train3.csv\")\n",
    "df_train4 = pd.read_csv(path+\"train4.csv\")\n",
    "df_test1 = pd.read_csv(path+\"test1.csv\")\n",
    "df_test2 = pd.read_csv(path+\"test2.csv\")\n",
    "df_test3 = pd.read_csv(path+\"test3.csv\")\n",
    "df_test4 = pd.read_csv(path+\"test4.csv\")"
   ]
  },
  {
   "cell_type": "code",
   "execution_count": 6,
   "metadata": {},
   "outputs": [],
   "source": [
    "def adiciona_volume_anterior(df):\n",
    "    df[\"volume_anterior\"] = df.groupby(['direction', 'tollgate_id'])[\"volume\"].transform(\"shift\")\n",
    "    df[\"volume_anterior\"] = df.groupby(['direction', 'tollgate_id'])[\"volume_anterior\"].fillna(method=\"ffill\").fillna(0)\n",
    "    return df"
   ]
  },
  {
   "cell_type": "code",
   "execution_count": 7,
   "metadata": {},
   "outputs": [],
   "source": [
    "def adiciona_volume_anterior_2(df):\n",
    "    df[\"volume_anterior_2\"] = df.groupby(['direction', 'tollgate_id'])[\"volume\"].transform(\"shift\", 2)\n",
    "    df[\"volume_anterior_2\"] =df.groupby(['direction', 'tollgate_id'])[\"volume_anterior_2\"].fillna(method=\"ffill\").fillna(0)\n",
    "    return df"
   ]
  },
  {
   "cell_type": "code",
   "execution_count": 13,
   "metadata": {},
   "outputs": [],
   "source": [
    "def adiciona_media_desvio_semana(df):\n",
    "    df['media_volume'] = df.groupby(['time_window', 'weekday', 'direction', 'tollgate_id'])[\"volume\"].transform(np.mean)\n",
    "    df['desvio_padrao'] = df.groupby(['time_window', 'weekday', 'direction', 'tollgate_id'])[\"volume\"].transform(np.std)\n",
    "    df['desvio_padrao'].fillna(df.groupby(['time_window', 'weekday', 'direction', 'tollgate_id'])[\"volume\"].transform(np.mean), inplace=True)\n",
    "    return df"
   ]
  },
  {
   "cell_type": "code",
   "execution_count": 14,
   "metadata": {},
   "outputs": [],
   "source": [
    "df_train1 = adiciona_volume_anterior(df_train1)\n",
    "df_train2 = adiciona_volume_anterior(df_train2)\n",
    "df_train3 = adiciona_volume_anterior(df_train3)\n",
    "df_train4 = adiciona_volume_anterior(df_train4)\n",
    "df_test1 = adiciona_volume_anterior(df_test1)\n",
    "df_test2 = adiciona_volume_anterior(df_test2)\n",
    "df_test3 = adiciona_volume_anterior(df_test3)\n",
    "df_test4 = adiciona_volume_anterior(df_test4)"
   ]
  },
  {
   "cell_type": "code",
   "execution_count": 17,
   "metadata": {},
   "outputs": [],
   "source": [
    "df_train1 = adiciona_volume_anterior_2(df_train1)\n",
    "df_train2 = adiciona_volume_anterior_2(df_train2)\n",
    "df_train3 = adiciona_volume_anterior_2(df_train3)\n",
    "df_train4 = adiciona_volume_anterior_2(df_train4)\n",
    "df_test1 = adiciona_volume_anterior_2(df_test1)\n",
    "df_test2 = adiciona_volume_anterior_2(df_test2)\n",
    "df_test3 = adiciona_volume_anterior_2(df_test3)\n",
    "df_test4 = adiciona_volume_anterior_2(df_test4)"
   ]
  },
  {
   "cell_type": "code",
   "execution_count": 20,
   "metadata": {},
   "outputs": [],
   "source": [
    "df_train1 = adiciona_media_desvio_semana(df_train1)\n",
    "df_train2 = adiciona_media_desvio_semana(df_train2)\n",
    "df_train3 = adiciona_media_desvio_semana(df_train3)\n",
    "df_train4 = adiciona_media_desvio_semana(df_train4)"
   ]
  },
  {
   "cell_type": "code",
   "execution_count": 22,
   "metadata": {},
   "outputs": [],
   "source": [
    "def adiciona_media_desvio_semana_test(df):\n",
    "    df['media_volume'] = df.groupby(['time_window', 'direction', 'tollgate_id'])[\"volume\"].transform(np.mean)\n",
    "    df['desvio_padrao'] = df.groupby(['time_window', 'direction', 'tollgate_id'])[\"volume\"].transform(np.std)\n",
    "    df['desvio_padrao'].fillna(df.groupby(['time_window', 'direction', 'tollgate_id'])[\"volume\"].transform(np.mean), inplace=True)\n",
    "    return df"
   ]
  },
  {
   "cell_type": "code",
   "execution_count": 23,
   "metadata": {},
   "outputs": [],
   "source": [
    "df_test1 = adiciona_media_desvio_semana_test(df_test1)\n",
    "df_test2 = adiciona_media_desvio_semana_test(df_test2)\n",
    "df_test3 = adiciona_media_desvio_semana_test(df_test3)\n",
    "df_test4 = adiciona_media_desvio_semana_test(df_test4)"
   ]
  },
  {
   "cell_type": "code",
   "execution_count": 26,
   "metadata": {},
   "outputs": [],
   "source": [
    "df_train1.to_csv(path_result+\"train1.csv\", index=False)\n",
    "df_train2.to_csv(path_result+\"train2.csv\", index=False)\n",
    "df_train3.to_csv(path_result+\"train3.csv\", index=False)\n",
    "df_train4.to_csv(path_result+\"train4.csv\", index=False)"
   ]
  },
  {
   "cell_type": "code",
   "execution_count": 27,
   "metadata": {},
   "outputs": [],
   "source": [
    "df_test1.to_csv(path_result+\"test1.csv\", index=False)\n",
    "df_test2.to_csv(path_result+\"test2.csv\", index=False)\n",
    "df_test3.to_csv(path_result+\"test3.csv\", index=False)\n",
    "df_test4.to_csv(path_result+\"test4.csv\", index=False)"
   ]
  },
  {
   "cell_type": "code",
   "execution_count": null,
   "metadata": {},
   "outputs": [],
   "source": []
  }
 ],
 "metadata": {
  "kernelspec": {
   "display_name": "Python 3",
   "language": "python",
   "name": "python3"
  },
  "language_info": {
   "codemirror_mode": {
    "name": "ipython",
    "version": 3
   },
   "file_extension": ".py",
   "mimetype": "text/x-python",
   "name": "python",
   "nbconvert_exporter": "python",
   "pygments_lexer": "ipython3",
   "version": "3.7.0"
  }
 },
 "nbformat": 4,
 "nbformat_minor": 2
}

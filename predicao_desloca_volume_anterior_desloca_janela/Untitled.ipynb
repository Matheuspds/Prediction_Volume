{
 "cells": [
  {
   "cell_type": "code",
   "execution_count": 3,
   "metadata": {},
   "outputs": [],
   "source": [
    "import pandas as pd\n",
    "import numpy as np\n",
    "import random\n",
    "from sklearn.ensemble import GradientBoostingRegressor, RandomForestRegressor\n",
    "from sklearn.metrics import mean_squared_error\n",
    "from sklearn.metrics import r2_score\n",
    "from math import sqrt\n",
    "path_final = 'data_final/'"
   ]
  },
  {
   "cell_type": "code",
   "execution_count": 4,
   "metadata": {},
   "outputs": [],
   "source": [
    "df_test1 = pd.read_csv(path_final+\"test_final_0.csv\")\n",
    "df_test2 = pd.read_csv(path_final+\"test_final_5.csv\")\n",
    "df_test3 = pd.read_csv(path_final+\"test_final_10.csv\")\n",
    "df_test4 = pd.read_csv(path_final+\"test_final_15.csv\")\n",
    "df_train1 = pd.read_csv(path_final+\"train_final_0.csv\")\n",
    "df_train2 = pd.read_csv(path_final+\"train_final_5.csv\")\n",
    "df_train3 = pd.read_csv(path_final+\"train_final_10.csv\")\n",
    "df_train4 = pd.read_csv(path_final+\"train_final_15.csv\")"
   ]
  },
  {
   "cell_type": "code",
   "execution_count": 5,
   "metadata": {},
   "outputs": [],
   "source": [
    "df_train_list = [df_train1,df_train2, df_train3, df_train4]\n",
    "df_test_list = [df_test1, df_test2, df_test3, df_test4]"
   ]
  },
  {
   "cell_type": "code",
   "execution_count": null,
   "metadata": {},
   "outputs": [],
   "source": []
  },
  {
   "cell_type": "code",
   "execution_count": 7,
   "metadata": {},
   "outputs": [],
   "source": [
    "df_train = pd.concat(df_train_list)"
   ]
  },
  {
   "cell_type": "code",
   "execution_count": 8,
   "metadata": {},
   "outputs": [
    {
     "data": {
      "text/html": [
       "<div>\n",
       "<style scoped>\n",
       "    .dataframe tbody tr th:only-of-type {\n",
       "        vertical-align: middle;\n",
       "    }\n",
       "\n",
       "    .dataframe tbody tr th {\n",
       "        vertical-align: top;\n",
       "    }\n",
       "\n",
       "    .dataframe thead th {\n",
       "        text-align: right;\n",
       "    }\n",
       "</style>\n",
       "<table border=\"1\" class=\"dataframe\">\n",
       "  <thead>\n",
       "    <tr style=\"text-align: right;\">\n",
       "      <th></th>\n",
       "      <th>time_start</th>\n",
       "      <th>volume</th>\n",
       "      <th>direction</th>\n",
       "      <th>tollgate_id</th>\n",
       "      <th>time_window</th>\n",
       "      <th>weekday</th>\n",
       "      <th>weekend</th>\n",
       "      <th>hour</th>\n",
       "      <th>date</th>\n",
       "      <th>volume_anterior</th>\n",
       "      <th>...</th>\n",
       "      <th>media_volume</th>\n",
       "      <th>desvio_padrao</th>\n",
       "      <th>am_pm</th>\n",
       "      <th>pressure</th>\n",
       "      <th>sea_pressure</th>\n",
       "      <th>wind_direction</th>\n",
       "      <th>wind_speed</th>\n",
       "      <th>temperature</th>\n",
       "      <th>rel_humidity</th>\n",
       "      <th>precipitation</th>\n",
       "    </tr>\n",
       "  </thead>\n",
       "  <tbody>\n",
       "    <tr>\n",
       "      <th>888</th>\n",
       "      <td>2016-10-01 08:00:00</td>\n",
       "      <td>217</td>\n",
       "      <td>0</td>\n",
       "      <td>1</td>\n",
       "      <td>[08:00:00,08:20:00)</td>\n",
       "      <td>6</td>\n",
       "      <td>1</td>\n",
       "      <td>8</td>\n",
       "      <td>2016-10-01</td>\n",
       "      <td>233.0</td>\n",
       "      <td>...</td>\n",
       "      <td>74.0</td>\n",
       "      <td>80.124902</td>\n",
       "      <td>1</td>\n",
       "      <td>NaN</td>\n",
       "      <td>NaN</td>\n",
       "      <td>NaN</td>\n",
       "      <td>NaN</td>\n",
       "      <td>NaN</td>\n",
       "      <td>NaN</td>\n",
       "      <td>NaN</td>\n",
       "    </tr>\n",
       "    <tr>\n",
       "      <th>889</th>\n",
       "      <td>2016-10-01 08:20:00</td>\n",
       "      <td>210</td>\n",
       "      <td>0</td>\n",
       "      <td>1</td>\n",
       "      <td>[08:20:00,08:40:00)</td>\n",
       "      <td>6</td>\n",
       "      <td>1</td>\n",
       "      <td>8</td>\n",
       "      <td>2016-10-01</td>\n",
       "      <td>217.0</td>\n",
       "      <td>...</td>\n",
       "      <td>82.4</td>\n",
       "      <td>71.904798</td>\n",
       "      <td>1</td>\n",
       "      <td>NaN</td>\n",
       "      <td>NaN</td>\n",
       "      <td>NaN</td>\n",
       "      <td>NaN</td>\n",
       "      <td>NaN</td>\n",
       "      <td>NaN</td>\n",
       "      <td>NaN</td>\n",
       "    </tr>\n",
       "    <tr>\n",
       "      <th>890</th>\n",
       "      <td>2016-10-01 08:40:00</td>\n",
       "      <td>198</td>\n",
       "      <td>0</td>\n",
       "      <td>1</td>\n",
       "      <td>[08:40:00,09:00:00)</td>\n",
       "      <td>6</td>\n",
       "      <td>1</td>\n",
       "      <td>8</td>\n",
       "      <td>2016-10-01</td>\n",
       "      <td>210.0</td>\n",
       "      <td>...</td>\n",
       "      <td>80.2</td>\n",
       "      <td>67.221276</td>\n",
       "      <td>1</td>\n",
       "      <td>NaN</td>\n",
       "      <td>NaN</td>\n",
       "      <td>NaN</td>\n",
       "      <td>NaN</td>\n",
       "      <td>NaN</td>\n",
       "      <td>NaN</td>\n",
       "      <td>NaN</td>\n",
       "    </tr>\n",
       "    <tr>\n",
       "      <th>3480</th>\n",
       "      <td>2016-10-01 08:00:00</td>\n",
       "      <td>14</td>\n",
       "      <td>0</td>\n",
       "      <td>2</td>\n",
       "      <td>[08:00:00,08:20:00)</td>\n",
       "      <td>6</td>\n",
       "      <td>1</td>\n",
       "      <td>8</td>\n",
       "      <td>2016-10-01</td>\n",
       "      <td>20.0</td>\n",
       "      <td>...</td>\n",
       "      <td>75.0</td>\n",
       "      <td>36.687873</td>\n",
       "      <td>1</td>\n",
       "      <td>NaN</td>\n",
       "      <td>NaN</td>\n",
       "      <td>NaN</td>\n",
       "      <td>NaN</td>\n",
       "      <td>NaN</td>\n",
       "      <td>NaN</td>\n",
       "      <td>NaN</td>\n",
       "    </tr>\n",
       "    <tr>\n",
       "      <th>3481</th>\n",
       "      <td>2016-10-01 08:20:00</td>\n",
       "      <td>14</td>\n",
       "      <td>0</td>\n",
       "      <td>2</td>\n",
       "      <td>[08:20:00,08:40:00)</td>\n",
       "      <td>6</td>\n",
       "      <td>1</td>\n",
       "      <td>8</td>\n",
       "      <td>2016-10-01</td>\n",
       "      <td>14.0</td>\n",
       "      <td>...</td>\n",
       "      <td>77.4</td>\n",
       "      <td>38.688500</td>\n",
       "      <td>1</td>\n",
       "      <td>NaN</td>\n",
       "      <td>NaN</td>\n",
       "      <td>NaN</td>\n",
       "      <td>NaN</td>\n",
       "      <td>NaN</td>\n",
       "      <td>NaN</td>\n",
       "      <td>NaN</td>\n",
       "    </tr>\n",
       "  </tbody>\n",
       "</table>\n",
       "<p>5 rows × 21 columns</p>\n",
       "</div>"
      ],
      "text/plain": [
       "               time_start  volume  direction  tollgate_id  \\\n",
       "888   2016-10-01 08:00:00     217          0            1   \n",
       "889   2016-10-01 08:20:00     210          0            1   \n",
       "890   2016-10-01 08:40:00     198          0            1   \n",
       "3480  2016-10-01 08:00:00      14          0            2   \n",
       "3481  2016-10-01 08:20:00      14          0            2   \n",
       "\n",
       "              time_window  weekday  weekend  hour        date  \\\n",
       "888   [08:00:00,08:20:00)        6        1     8  2016-10-01   \n",
       "889   [08:20:00,08:40:00)        6        1     8  2016-10-01   \n",
       "890   [08:40:00,09:00:00)        6        1     8  2016-10-01   \n",
       "3480  [08:00:00,08:20:00)        6        1     8  2016-10-01   \n",
       "3481  [08:20:00,08:40:00)        6        1     8  2016-10-01   \n",
       "\n",
       "      volume_anterior      ...        media_volume  desvio_padrao  am_pm  \\\n",
       "888             233.0      ...                74.0      80.124902      1   \n",
       "889             217.0      ...                82.4      71.904798      1   \n",
       "890             210.0      ...                80.2      67.221276      1   \n",
       "3480             20.0      ...                75.0      36.687873      1   \n",
       "3481             14.0      ...                77.4      38.688500      1   \n",
       "\n",
       "      pressure  sea_pressure  wind_direction  wind_speed  temperature  \\\n",
       "888        NaN           NaN             NaN         NaN          NaN   \n",
       "889        NaN           NaN             NaN         NaN          NaN   \n",
       "890        NaN           NaN             NaN         NaN          NaN   \n",
       "3480       NaN           NaN             NaN         NaN          NaN   \n",
       "3481       NaN           NaN             NaN         NaN          NaN   \n",
       "\n",
       "      rel_humidity  precipitation  \n",
       "888            NaN            NaN  \n",
       "889            NaN            NaN  \n",
       "890            NaN            NaN  \n",
       "3480           NaN            NaN  \n",
       "3481           NaN            NaN  \n",
       "\n",
       "[5 rows x 21 columns]"
      ]
     },
     "execution_count": 8,
     "metadata": {},
     "output_type": "execute_result"
    }
   ],
   "source": [
    "df_train[(df_train['date'] == '2016-10-01') & (df_train['hour'] == 8)].head()"
   ]
  },
  {
   "cell_type": "code",
   "execution_count": 9,
   "metadata": {},
   "outputs": [],
   "source": [
    "df_remove = df_train.loc[(df_train['date'] >= '2016-10-01') \n",
    "                         & (df_train['date'] <= '2016-10-07') \n",
    "                        ]\n",
    "\n",
    "df_train = df_train.drop(df_remove.index)"
   ]
  },
  {
   "cell_type": "code",
   "execution_count": 10,
   "metadata": {},
   "outputs": [
    {
     "data": {
      "text/html": [
       "<div>\n",
       "<style scoped>\n",
       "    .dataframe tbody tr th:only-of-type {\n",
       "        vertical-align: middle;\n",
       "    }\n",
       "\n",
       "    .dataframe tbody tr th {\n",
       "        vertical-align: top;\n",
       "    }\n",
       "\n",
       "    .dataframe thead th {\n",
       "        text-align: right;\n",
       "    }\n",
       "</style>\n",
       "<table border=\"1\" class=\"dataframe\">\n",
       "  <thead>\n",
       "    <tr style=\"text-align: right;\">\n",
       "      <th></th>\n",
       "      <th>time_start</th>\n",
       "      <th>volume</th>\n",
       "      <th>direction</th>\n",
       "      <th>tollgate_id</th>\n",
       "      <th>time_window</th>\n",
       "      <th>weekday</th>\n",
       "      <th>weekend</th>\n",
       "      <th>hour</th>\n",
       "      <th>date</th>\n",
       "      <th>volume_anterior</th>\n",
       "      <th>...</th>\n",
       "      <th>media_volume</th>\n",
       "      <th>desvio_padrao</th>\n",
       "      <th>am_pm</th>\n",
       "      <th>pressure</th>\n",
       "      <th>sea_pressure</th>\n",
       "      <th>wind_direction</th>\n",
       "      <th>wind_speed</th>\n",
       "      <th>temperature</th>\n",
       "      <th>rel_humidity</th>\n",
       "      <th>precipitation</th>\n",
       "    </tr>\n",
       "  </thead>\n",
       "  <tbody>\n",
       "  </tbody>\n",
       "</table>\n",
       "<p>0 rows × 21 columns</p>\n",
       "</div>"
      ],
      "text/plain": [
       "Empty DataFrame\n",
       "Columns: [time_start, volume, direction, tollgate_id, time_window, weekday, weekend, hour, date, volume_anterior, volume_anterior_2, media_volume, desvio_padrao, am_pm, pressure, sea_pressure, wind_direction, wind_speed, temperature, rel_humidity, precipitation]\n",
       "Index: []\n",
       "\n",
       "[0 rows x 21 columns]"
      ]
     },
     "execution_count": 10,
     "metadata": {},
     "output_type": "execute_result"
    }
   ],
   "source": [
    "df_train[(df_train['date'] == '2016-10-01') & (df_train['hour'] == 8)].head()"
   ]
  },
  {
   "cell_type": "code",
   "execution_count": 11,
   "metadata": {},
   "outputs": [],
   "source": [
    "df_test = pd.concat(df_test_list)"
   ]
  },
  {
   "cell_type": "code",
   "execution_count": 12,
   "metadata": {},
   "outputs": [
    {
     "data": {
      "text/html": [
       "<div>\n",
       "<style scoped>\n",
       "    .dataframe tbody tr th:only-of-type {\n",
       "        vertical-align: middle;\n",
       "    }\n",
       "\n",
       "    .dataframe tbody tr th {\n",
       "        vertical-align: top;\n",
       "    }\n",
       "\n",
       "    .dataframe thead th {\n",
       "        text-align: right;\n",
       "    }\n",
       "</style>\n",
       "<table border=\"1\" class=\"dataframe\">\n",
       "  <thead>\n",
       "    <tr style=\"text-align: right;\">\n",
       "      <th></th>\n",
       "      <th>time_start</th>\n",
       "      <th>volume</th>\n",
       "      <th>direction</th>\n",
       "      <th>tollgate_id</th>\n",
       "      <th>time_window</th>\n",
       "      <th>weekday</th>\n",
       "      <th>weekend</th>\n",
       "      <th>hour</th>\n",
       "      <th>date</th>\n",
       "      <th>volume_anterior</th>\n",
       "      <th>...</th>\n",
       "      <th>media_volume</th>\n",
       "      <th>desvio_padrao</th>\n",
       "      <th>am_pm</th>\n",
       "      <th>pressure</th>\n",
       "      <th>sea_pressure</th>\n",
       "      <th>wind_direction</th>\n",
       "      <th>wind_speed</th>\n",
       "      <th>temperature</th>\n",
       "      <th>rel_humidity</th>\n",
       "      <th>precipitation</th>\n",
       "    </tr>\n",
       "  </thead>\n",
       "  <tbody>\n",
       "    <tr>\n",
       "      <th>0</th>\n",
       "      <td>2016-10-25 00:00:00</td>\n",
       "      <td>0</td>\n",
       "      <td>0</td>\n",
       "      <td>1</td>\n",
       "      <td>[00:00:00,00:20:00)</td>\n",
       "      <td>2</td>\n",
       "      <td>0</td>\n",
       "      <td>0</td>\n",
       "      <td>2016-10-25</td>\n",
       "      <td>0.0</td>\n",
       "      <td>...</td>\n",
       "      <td>0</td>\n",
       "      <td>0.0</td>\n",
       "      <td>1</td>\n",
       "      <td>1010.6</td>\n",
       "      <td>1015.6</td>\n",
       "      <td>356.0</td>\n",
       "      <td>3.4</td>\n",
       "      <td>20.2</td>\n",
       "      <td>86.0</td>\n",
       "      <td>0.0</td>\n",
       "    </tr>\n",
       "    <tr>\n",
       "      <th>1</th>\n",
       "      <td>2016-10-25 00:20:00</td>\n",
       "      <td>0</td>\n",
       "      <td>0</td>\n",
       "      <td>1</td>\n",
       "      <td>[00:20:00,00:40:00)</td>\n",
       "      <td>2</td>\n",
       "      <td>0</td>\n",
       "      <td>0</td>\n",
       "      <td>2016-10-25</td>\n",
       "      <td>0.0</td>\n",
       "      <td>...</td>\n",
       "      <td>0</td>\n",
       "      <td>0.0</td>\n",
       "      <td>1</td>\n",
       "      <td>1010.6</td>\n",
       "      <td>1015.6</td>\n",
       "      <td>356.0</td>\n",
       "      <td>3.4</td>\n",
       "      <td>20.2</td>\n",
       "      <td>86.0</td>\n",
       "      <td>0.0</td>\n",
       "    </tr>\n",
       "    <tr>\n",
       "      <th>2</th>\n",
       "      <td>2016-10-25 00:40:00</td>\n",
       "      <td>0</td>\n",
       "      <td>0</td>\n",
       "      <td>1</td>\n",
       "      <td>[00:40:00,01:00:00)</td>\n",
       "      <td>2</td>\n",
       "      <td>0</td>\n",
       "      <td>0</td>\n",
       "      <td>2016-10-25</td>\n",
       "      <td>0.0</td>\n",
       "      <td>...</td>\n",
       "      <td>0</td>\n",
       "      <td>0.0</td>\n",
       "      <td>1</td>\n",
       "      <td>1010.6</td>\n",
       "      <td>1015.6</td>\n",
       "      <td>356.0</td>\n",
       "      <td>3.4</td>\n",
       "      <td>20.2</td>\n",
       "      <td>86.0</td>\n",
       "      <td>0.0</td>\n",
       "    </tr>\n",
       "    <tr>\n",
       "      <th>3</th>\n",
       "      <td>2016-10-25 01:00:00</td>\n",
       "      <td>0</td>\n",
       "      <td>0</td>\n",
       "      <td>1</td>\n",
       "      <td>[01:00:00,01:20:00)</td>\n",
       "      <td>2</td>\n",
       "      <td>0</td>\n",
       "      <td>1</td>\n",
       "      <td>2016-10-25</td>\n",
       "      <td>0.0</td>\n",
       "      <td>...</td>\n",
       "      <td>0</td>\n",
       "      <td>0.0</td>\n",
       "      <td>1</td>\n",
       "      <td>NaN</td>\n",
       "      <td>NaN</td>\n",
       "      <td>NaN</td>\n",
       "      <td>NaN</td>\n",
       "      <td>NaN</td>\n",
       "      <td>NaN</td>\n",
       "      <td>NaN</td>\n",
       "    </tr>\n",
       "    <tr>\n",
       "      <th>4</th>\n",
       "      <td>2016-10-25 01:20:00</td>\n",
       "      <td>0</td>\n",
       "      <td>0</td>\n",
       "      <td>1</td>\n",
       "      <td>[01:20:00,01:40:00)</td>\n",
       "      <td>2</td>\n",
       "      <td>0</td>\n",
       "      <td>1</td>\n",
       "      <td>2016-10-25</td>\n",
       "      <td>0.0</td>\n",
       "      <td>...</td>\n",
       "      <td>0</td>\n",
       "      <td>0.0</td>\n",
       "      <td>1</td>\n",
       "      <td>NaN</td>\n",
       "      <td>NaN</td>\n",
       "      <td>NaN</td>\n",
       "      <td>NaN</td>\n",
       "      <td>NaN</td>\n",
       "      <td>NaN</td>\n",
       "      <td>NaN</td>\n",
       "    </tr>\n",
       "  </tbody>\n",
       "</table>\n",
       "<p>5 rows × 21 columns</p>\n",
       "</div>"
      ],
      "text/plain": [
       "            time_start  volume  direction  tollgate_id          time_window  \\\n",
       "0  2016-10-25 00:00:00       0          0            1  [00:00:00,00:20:00)   \n",
       "1  2016-10-25 00:20:00       0          0            1  [00:20:00,00:40:00)   \n",
       "2  2016-10-25 00:40:00       0          0            1  [00:40:00,01:00:00)   \n",
       "3  2016-10-25 01:00:00       0          0            1  [01:00:00,01:20:00)   \n",
       "4  2016-10-25 01:20:00       0          0            1  [01:20:00,01:40:00)   \n",
       "\n",
       "   weekday  weekend  hour        date  volume_anterior      ...        \\\n",
       "0        2        0     0  2016-10-25              0.0      ...         \n",
       "1        2        0     0  2016-10-25              0.0      ...         \n",
       "2        2        0     0  2016-10-25              0.0      ...         \n",
       "3        2        0     1  2016-10-25              0.0      ...         \n",
       "4        2        0     1  2016-10-25              0.0      ...         \n",
       "\n",
       "   media_volume  desvio_padrao  am_pm  pressure  sea_pressure  wind_direction  \\\n",
       "0             0            0.0      1    1010.6        1015.6           356.0   \n",
       "1             0            0.0      1    1010.6        1015.6           356.0   \n",
       "2             0            0.0      1    1010.6        1015.6           356.0   \n",
       "3             0            0.0      1       NaN           NaN             NaN   \n",
       "4             0            0.0      1       NaN           NaN             NaN   \n",
       "\n",
       "   wind_speed  temperature  rel_humidity  precipitation  \n",
       "0         3.4         20.2          86.0            0.0  \n",
       "1         3.4         20.2          86.0            0.0  \n",
       "2         3.4         20.2          86.0            0.0  \n",
       "3         NaN          NaN           NaN            NaN  \n",
       "4         NaN          NaN           NaN            NaN  \n",
       "\n",
       "[5 rows x 21 columns]"
      ]
     },
     "execution_count": 12,
     "metadata": {},
     "output_type": "execute_result"
    }
   ],
   "source": [
    "df_test.head()"
   ]
  },
  {
   "cell_type": "code",
   "execution_count": 13,
   "metadata": {},
   "outputs": [],
   "source": [
    "df_remove = df_test.loc[(df_test['volume'] == 0)]\n",
    "\n",
    "df_test = df_test.drop(df_remove.index)"
   ]
  },
  {
   "cell_type": "code",
   "execution_count": 32,
   "metadata": {},
   "outputs": [],
   "source": [
    "df_test.head()\n",
    "df_test.to_csv(\"test_real.csv\", index=False)"
   ]
  },
  {
   "cell_type": "code",
   "execution_count": 14,
   "metadata": {},
   "outputs": [],
   "source": [
    "def feature_format():\n",
    "    #pd_volume_train = pd_volume_train.set_index(['time'])\n",
    "    #pd_volume_test = pd_volume_test.set_index(['time'])\n",
    "    #volume_train = v_train.groupby(['time_window','tollgate_id','direction','date', 'hour']).size().reset_index().rename(columns = {0:'volume'})\n",
    "    #volume_test = v_test.groupby(['time_window','tollgate_id','direction','date', 'hour']).size().reset_index().rename(columns = {0:'volume'})\n",
    "    #print(volume_train)                \n",
    "    x = pd.Series(df_train['time_window'].unique())\n",
    "    s = pd.Series(range(len(x)),index = x.values)\n",
    "    df_train['window_n'] = df_train['time_window'].map(s)\n",
    "    df_test['window_n'] = df_test['time_window'].map(s)\n",
    "#        print vol_test.tail()\n",
    "    #volume_train['weekday'] = v_train['weekday']\n",
    "    #volume_test['weekday'] = v_test['weekday']\n",
    "    \n",
    "    feature_train = df_train.drop('volume', axis = 1)\n",
    "    feature_test = df_test.drop('volume',axis = 1)\n",
    "    values_train = df_train['volume'].values\n",
    "    values_test = df_test['volume'].values\n",
    "    \n",
    "    return feature_train, feature_test, values_train, values_test"
   ]
  },
  {
   "cell_type": "code",
   "execution_count": 15,
   "metadata": {},
   "outputs": [
    {
     "data": {
      "text/html": [
       "<div>\n",
       "<style scoped>\n",
       "    .dataframe tbody tr th:only-of-type {\n",
       "        vertical-align: middle;\n",
       "    }\n",
       "\n",
       "    .dataframe tbody tr th {\n",
       "        vertical-align: top;\n",
       "    }\n",
       "\n",
       "    .dataframe thead th {\n",
       "        text-align: right;\n",
       "    }\n",
       "</style>\n",
       "<table border=\"1\" class=\"dataframe\">\n",
       "  <thead>\n",
       "    <tr style=\"text-align: right;\">\n",
       "      <th></th>\n",
       "      <th>time_start</th>\n",
       "      <th>direction</th>\n",
       "      <th>tollgate_id</th>\n",
       "      <th>time_window</th>\n",
       "      <th>weekday</th>\n",
       "      <th>weekend</th>\n",
       "      <th>hour</th>\n",
       "      <th>date</th>\n",
       "      <th>volume_anterior</th>\n",
       "      <th>volume_anterior_2</th>\n",
       "      <th>...</th>\n",
       "      <th>desvio_padrao</th>\n",
       "      <th>am_pm</th>\n",
       "      <th>pressure</th>\n",
       "      <th>sea_pressure</th>\n",
       "      <th>wind_direction</th>\n",
       "      <th>wind_speed</th>\n",
       "      <th>temperature</th>\n",
       "      <th>rel_humidity</th>\n",
       "      <th>precipitation</th>\n",
       "      <th>window_n</th>\n",
       "    </tr>\n",
       "  </thead>\n",
       "  <tbody>\n",
       "    <tr>\n",
       "      <th>0</th>\n",
       "      <td>2016-09-19 00:00:00</td>\n",
       "      <td>0</td>\n",
       "      <td>1</td>\n",
       "      <td>[00:00:00,00:20:00)</td>\n",
       "      <td>1</td>\n",
       "      <td>0</td>\n",
       "      <td>0</td>\n",
       "      <td>2016-09-19</td>\n",
       "      <td>0.0</td>\n",
       "      <td>0.0</td>\n",
       "      <td>...</td>\n",
       "      <td>4.750439</td>\n",
       "      <td>1</td>\n",
       "      <td>1008.2</td>\n",
       "      <td>1013.2</td>\n",
       "      <td>329.0</td>\n",
       "      <td>2.8</td>\n",
       "      <td>22.2</td>\n",
       "      <td>76.0</td>\n",
       "      <td>0.0</td>\n",
       "      <td>0</td>\n",
       "    </tr>\n",
       "    <tr>\n",
       "      <th>1</th>\n",
       "      <td>2016-09-19 00:20:00</td>\n",
       "      <td>0</td>\n",
       "      <td>1</td>\n",
       "      <td>[00:20:00,00:40:00)</td>\n",
       "      <td>1</td>\n",
       "      <td>0</td>\n",
       "      <td>0</td>\n",
       "      <td>2016-09-19</td>\n",
       "      <td>13.0</td>\n",
       "      <td>0.0</td>\n",
       "      <td>...</td>\n",
       "      <td>3.816630</td>\n",
       "      <td>1</td>\n",
       "      <td>1008.2</td>\n",
       "      <td>1013.2</td>\n",
       "      <td>329.0</td>\n",
       "      <td>2.8</td>\n",
       "      <td>22.2</td>\n",
       "      <td>76.0</td>\n",
       "      <td>0.0</td>\n",
       "      <td>1</td>\n",
       "    </tr>\n",
       "    <tr>\n",
       "      <th>2</th>\n",
       "      <td>2016-09-19 00:40:00</td>\n",
       "      <td>0</td>\n",
       "      <td>1</td>\n",
       "      <td>[00:40:00,01:00:00)</td>\n",
       "      <td>1</td>\n",
       "      <td>0</td>\n",
       "      <td>0</td>\n",
       "      <td>2016-09-19</td>\n",
       "      <td>6.0</td>\n",
       "      <td>13.0</td>\n",
       "      <td>...</td>\n",
       "      <td>2.664583</td>\n",
       "      <td>1</td>\n",
       "      <td>1008.2</td>\n",
       "      <td>1013.2</td>\n",
       "      <td>329.0</td>\n",
       "      <td>2.8</td>\n",
       "      <td>22.2</td>\n",
       "      <td>76.0</td>\n",
       "      <td>0.0</td>\n",
       "      <td>2</td>\n",
       "    </tr>\n",
       "    <tr>\n",
       "      <th>3</th>\n",
       "      <td>2016-09-19 01:00:00</td>\n",
       "      <td>0</td>\n",
       "      <td>1</td>\n",
       "      <td>[01:00:00,01:20:00)</td>\n",
       "      <td>1</td>\n",
       "      <td>0</td>\n",
       "      <td>1</td>\n",
       "      <td>2016-09-19</td>\n",
       "      <td>9.0</td>\n",
       "      <td>6.0</td>\n",
       "      <td>...</td>\n",
       "      <td>2.857738</td>\n",
       "      <td>1</td>\n",
       "      <td>NaN</td>\n",
       "      <td>NaN</td>\n",
       "      <td>NaN</td>\n",
       "      <td>NaN</td>\n",
       "      <td>NaN</td>\n",
       "      <td>NaN</td>\n",
       "      <td>NaN</td>\n",
       "      <td>3</td>\n",
       "    </tr>\n",
       "    <tr>\n",
       "      <th>4</th>\n",
       "      <td>2016-09-19 01:20:00</td>\n",
       "      <td>0</td>\n",
       "      <td>1</td>\n",
       "      <td>[01:20:00,01:40:00)</td>\n",
       "      <td>1</td>\n",
       "      <td>0</td>\n",
       "      <td>1</td>\n",
       "      <td>2016-09-19</td>\n",
       "      <td>10.0</td>\n",
       "      <td>9.0</td>\n",
       "      <td>...</td>\n",
       "      <td>4.593474</td>\n",
       "      <td>1</td>\n",
       "      <td>NaN</td>\n",
       "      <td>NaN</td>\n",
       "      <td>NaN</td>\n",
       "      <td>NaN</td>\n",
       "      <td>NaN</td>\n",
       "      <td>NaN</td>\n",
       "      <td>NaN</td>\n",
       "      <td>4</td>\n",
       "    </tr>\n",
       "  </tbody>\n",
       "</table>\n",
       "<p>5 rows × 21 columns</p>\n",
       "</div>"
      ],
      "text/plain": [
       "            time_start  direction  tollgate_id          time_window  weekday  \\\n",
       "0  2016-09-19 00:00:00          0            1  [00:00:00,00:20:00)        1   \n",
       "1  2016-09-19 00:20:00          0            1  [00:20:00,00:40:00)        1   \n",
       "2  2016-09-19 00:40:00          0            1  [00:40:00,01:00:00)        1   \n",
       "3  2016-09-19 01:00:00          0            1  [01:00:00,01:20:00)        1   \n",
       "4  2016-09-19 01:20:00          0            1  [01:20:00,01:40:00)        1   \n",
       "\n",
       "   weekend  hour        date  volume_anterior  volume_anterior_2    ...     \\\n",
       "0        0     0  2016-09-19              0.0                0.0    ...      \n",
       "1        0     0  2016-09-19             13.0                0.0    ...      \n",
       "2        0     0  2016-09-19              6.0               13.0    ...      \n",
       "3        0     1  2016-09-19              9.0                6.0    ...      \n",
       "4        0     1  2016-09-19             10.0                9.0    ...      \n",
       "\n",
       "   desvio_padrao  am_pm  pressure  sea_pressure  wind_direction  wind_speed  \\\n",
       "0       4.750439      1    1008.2        1013.2           329.0         2.8   \n",
       "1       3.816630      1    1008.2        1013.2           329.0         2.8   \n",
       "2       2.664583      1    1008.2        1013.2           329.0         2.8   \n",
       "3       2.857738      1       NaN           NaN             NaN         NaN   \n",
       "4       4.593474      1       NaN           NaN             NaN         NaN   \n",
       "\n",
       "   temperature  rel_humidity  precipitation  window_n  \n",
       "0         22.2          76.0            0.0         0  \n",
       "1         22.2          76.0            0.0         1  \n",
       "2         22.2          76.0            0.0         2  \n",
       "3          NaN           NaN            NaN         3  \n",
       "4          NaN           NaN            NaN         4  \n",
       "\n",
       "[5 rows x 21 columns]"
      ]
     },
     "execution_count": 15,
     "metadata": {},
     "output_type": "execute_result"
    }
   ],
   "source": [
    "feature_train, feature_test, values_train, values_test = feature_format()\n",
    "feature_train.head()"
   ]
  },
  {
   "cell_type": "code",
   "execution_count": 19,
   "metadata": {},
   "outputs": [],
   "source": [
    "def feature_transform_split(data):\n",
    "    data[\"precipitation\"] = data[[\"precipitation\"]].fillna(value=0)\n",
    "    data[\"rel_humidity\"] = data[[\"rel_humidity\"]].fillna(value=50)\n",
    "\n",
    "    data[\"precipitation\"] = data[\"precipitation\"].apply(lambda x: x > 0)\n",
    "    data[\"rel_humidity\"] = data[\"rel_humidity\"].apply(lambda x: x > 90)\n",
    "\n",
    "    data = data.drop(\"precipitation\", axis=1)\n",
    "    return data"
   ]
  },
  {
   "cell_type": "code",
   "execution_count": 47,
   "metadata": {},
   "outputs": [],
   "source": [
    "def feature_transform_split_complete(key, data):\n",
    "    # data = remove_exception(data)\n",
    "\n",
    "    data[\"precipitation\"] = data[[\"precipitation\"]].fillna(value=0)\n",
    "    data[\"rel_humidity\"] = data[[\"rel_humidity\"]].fillna(value=50)\n",
    "\n",
    "    data[\"precipitation\"] = data[\"precipitation\"].apply(lambda x: x > 0)\n",
    "    data[\"rel_humidity\"] = data[\"rel_humidity\"].apply(lambda x: x > 90)\n",
    "\n",
    "    data = data.drop(\"precipitation\", axis=1)\n",
    "    # data = data.drop(\"rel_humidity\", axis= 1)\n",
    "\n",
    "\n",
    "\n",
    "\n",
    "    # data[\"sum\"] = data[\"0\"] + data[\"1\"] + data[\"2\"] + data[\"3\"] + data[\"4\"] + data[\"5\"]\n",
    "\n",
    "    #data = pd.concat([data, pd.get_dummies(data['period_num'])], axis=1)\n",
    "    #data = data.drop(\"period_num\", axis=1)\n",
    "\n",
    "   # data = pd.concat([data, pd.get_dummies(data['holiday'])], axis=1)\n",
    "    #data = data.drop(\"holiday\", axis=1)\n",
    "    #\n",
    "    # data = pd.concat([data, pd.get_dummies(data['first_last_workday'])], axis=1)\n",
    "    #data = data.drop(\"first_last_workday\", axis=1)\n",
    "\n",
    "    #data = data.drop(\"day_of_week\", axis=1)\n",
    "\n",
    "    if (key == 1):\n",
    "        data = pd.concat([data, pd.get_dummies(data['tollgate_id'])], axis=1)\n",
    "        # data[\"tollgate_id1\"] = data['tollgate_id']\n",
    "        data[\"direction1\"] = data['direction']\n",
    "    return data"
   ]
  },
  {
   "cell_type": "code",
   "execution_count": 15,
   "metadata": {},
   "outputs": [],
   "source": [
    "feature_train = feature_transform_split(feature_train)"
   ]
  },
  {
   "cell_type": "code",
   "execution_count": 16,
   "metadata": {},
   "outputs": [],
   "source": [
    "feature_test = feature_transform_split(feature_test)"
   ]
  },
  {
   "cell_type": "code",
   "execution_count": 16,
   "metadata": {},
   "outputs": [
    {
     "data": {
      "text/html": [
       "<div>\n",
       "<style scoped>\n",
       "    .dataframe tbody tr th:only-of-type {\n",
       "        vertical-align: middle;\n",
       "    }\n",
       "\n",
       "    .dataframe tbody tr th {\n",
       "        vertical-align: top;\n",
       "    }\n",
       "\n",
       "    .dataframe thead th {\n",
       "        text-align: right;\n",
       "    }\n",
       "</style>\n",
       "<table border=\"1\" class=\"dataframe\">\n",
       "  <thead>\n",
       "    <tr style=\"text-align: right;\">\n",
       "      <th></th>\n",
       "      <th>time_start</th>\n",
       "      <th>direction</th>\n",
       "      <th>tollgate_id</th>\n",
       "      <th>time_window</th>\n",
       "      <th>weekday</th>\n",
       "      <th>weekend</th>\n",
       "      <th>hour</th>\n",
       "      <th>date</th>\n",
       "      <th>volume_anterior</th>\n",
       "      <th>volume_anterior_2</th>\n",
       "      <th>...</th>\n",
       "      <th>desvio_padrao</th>\n",
       "      <th>am_pm</th>\n",
       "      <th>pressure</th>\n",
       "      <th>sea_pressure</th>\n",
       "      <th>wind_direction</th>\n",
       "      <th>wind_speed</th>\n",
       "      <th>temperature</th>\n",
       "      <th>rel_humidity</th>\n",
       "      <th>precipitation</th>\n",
       "      <th>window_n</th>\n",
       "    </tr>\n",
       "  </thead>\n",
       "  <tbody>\n",
       "    <tr>\n",
       "      <th>0</th>\n",
       "      <td>2016-09-19 00:00:00</td>\n",
       "      <td>0</td>\n",
       "      <td>1</td>\n",
       "      <td>[00:00:00,00:20:00)</td>\n",
       "      <td>1</td>\n",
       "      <td>0</td>\n",
       "      <td>0</td>\n",
       "      <td>2016-09-19</td>\n",
       "      <td>0.0</td>\n",
       "      <td>0.0</td>\n",
       "      <td>...</td>\n",
       "      <td>4.750439</td>\n",
       "      <td>1</td>\n",
       "      <td>1008.2</td>\n",
       "      <td>1013.2</td>\n",
       "      <td>329.0</td>\n",
       "      <td>2.8</td>\n",
       "      <td>22.2</td>\n",
       "      <td>76.0</td>\n",
       "      <td>0.0</td>\n",
       "      <td>0</td>\n",
       "    </tr>\n",
       "    <tr>\n",
       "      <th>1</th>\n",
       "      <td>2016-09-19 00:20:00</td>\n",
       "      <td>0</td>\n",
       "      <td>1</td>\n",
       "      <td>[00:20:00,00:40:00)</td>\n",
       "      <td>1</td>\n",
       "      <td>0</td>\n",
       "      <td>0</td>\n",
       "      <td>2016-09-19</td>\n",
       "      <td>13.0</td>\n",
       "      <td>0.0</td>\n",
       "      <td>...</td>\n",
       "      <td>3.816630</td>\n",
       "      <td>1</td>\n",
       "      <td>1008.2</td>\n",
       "      <td>1013.2</td>\n",
       "      <td>329.0</td>\n",
       "      <td>2.8</td>\n",
       "      <td>22.2</td>\n",
       "      <td>76.0</td>\n",
       "      <td>0.0</td>\n",
       "      <td>1</td>\n",
       "    </tr>\n",
       "    <tr>\n",
       "      <th>2</th>\n",
       "      <td>2016-09-19 00:40:00</td>\n",
       "      <td>0</td>\n",
       "      <td>1</td>\n",
       "      <td>[00:40:00,01:00:00)</td>\n",
       "      <td>1</td>\n",
       "      <td>0</td>\n",
       "      <td>0</td>\n",
       "      <td>2016-09-19</td>\n",
       "      <td>6.0</td>\n",
       "      <td>13.0</td>\n",
       "      <td>...</td>\n",
       "      <td>2.664583</td>\n",
       "      <td>1</td>\n",
       "      <td>1008.2</td>\n",
       "      <td>1013.2</td>\n",
       "      <td>329.0</td>\n",
       "      <td>2.8</td>\n",
       "      <td>22.2</td>\n",
       "      <td>76.0</td>\n",
       "      <td>0.0</td>\n",
       "      <td>2</td>\n",
       "    </tr>\n",
       "    <tr>\n",
       "      <th>3</th>\n",
       "      <td>2016-09-19 01:00:00</td>\n",
       "      <td>0</td>\n",
       "      <td>1</td>\n",
       "      <td>[01:00:00,01:20:00)</td>\n",
       "      <td>1</td>\n",
       "      <td>0</td>\n",
       "      <td>1</td>\n",
       "      <td>2016-09-19</td>\n",
       "      <td>9.0</td>\n",
       "      <td>6.0</td>\n",
       "      <td>...</td>\n",
       "      <td>2.857738</td>\n",
       "      <td>1</td>\n",
       "      <td>NaN</td>\n",
       "      <td>NaN</td>\n",
       "      <td>NaN</td>\n",
       "      <td>NaN</td>\n",
       "      <td>NaN</td>\n",
       "      <td>NaN</td>\n",
       "      <td>NaN</td>\n",
       "      <td>3</td>\n",
       "    </tr>\n",
       "    <tr>\n",
       "      <th>4</th>\n",
       "      <td>2016-09-19 01:20:00</td>\n",
       "      <td>0</td>\n",
       "      <td>1</td>\n",
       "      <td>[01:20:00,01:40:00)</td>\n",
       "      <td>1</td>\n",
       "      <td>0</td>\n",
       "      <td>1</td>\n",
       "      <td>2016-09-19</td>\n",
       "      <td>10.0</td>\n",
       "      <td>9.0</td>\n",
       "      <td>...</td>\n",
       "      <td>4.593474</td>\n",
       "      <td>1</td>\n",
       "      <td>NaN</td>\n",
       "      <td>NaN</td>\n",
       "      <td>NaN</td>\n",
       "      <td>NaN</td>\n",
       "      <td>NaN</td>\n",
       "      <td>NaN</td>\n",
       "      <td>NaN</td>\n",
       "      <td>4</td>\n",
       "    </tr>\n",
       "  </tbody>\n",
       "</table>\n",
       "<p>5 rows × 21 columns</p>\n",
       "</div>"
      ],
      "text/plain": [
       "            time_start  direction  tollgate_id          time_window  weekday  \\\n",
       "0  2016-09-19 00:00:00          0            1  [00:00:00,00:20:00)        1   \n",
       "1  2016-09-19 00:20:00          0            1  [00:20:00,00:40:00)        1   \n",
       "2  2016-09-19 00:40:00          0            1  [00:40:00,01:00:00)        1   \n",
       "3  2016-09-19 01:00:00          0            1  [01:00:00,01:20:00)        1   \n",
       "4  2016-09-19 01:20:00          0            1  [01:20:00,01:40:00)        1   \n",
       "\n",
       "   weekend  hour        date  volume_anterior  volume_anterior_2    ...     \\\n",
       "0        0     0  2016-09-19              0.0                0.0    ...      \n",
       "1        0     0  2016-09-19             13.0                0.0    ...      \n",
       "2        0     0  2016-09-19              6.0               13.0    ...      \n",
       "3        0     1  2016-09-19              9.0                6.0    ...      \n",
       "4        0     1  2016-09-19             10.0                9.0    ...      \n",
       "\n",
       "   desvio_padrao  am_pm  pressure  sea_pressure  wind_direction  wind_speed  \\\n",
       "0       4.750439      1    1008.2        1013.2           329.0         2.8   \n",
       "1       3.816630      1    1008.2        1013.2           329.0         2.8   \n",
       "2       2.664583      1    1008.2        1013.2           329.0         2.8   \n",
       "3       2.857738      1       NaN           NaN             NaN         NaN   \n",
       "4       4.593474      1       NaN           NaN             NaN         NaN   \n",
       "\n",
       "   temperature  rel_humidity  precipitation  window_n  \n",
       "0         22.2          76.0            0.0         0  \n",
       "1         22.2          76.0            0.0         1  \n",
       "2         22.2          76.0            0.0         2  \n",
       "3          NaN           NaN            NaN         3  \n",
       "4          NaN           NaN            NaN         4  \n",
       "\n",
       "[5 rows x 21 columns]"
      ]
     },
     "execution_count": 16,
     "metadata": {},
     "output_type": "execute_result"
    }
   ],
   "source": [
    "feature_train.head()"
   ]
  },
  {
   "cell_type": "code",
   "execution_count": 17,
   "metadata": {},
   "outputs": [],
   "source": [
    "regressor_cubic = RandomForestRegressor(n_estimators = 1500, random_state = 42)"
   ]
  },
  {
   "cell_type": "code",
   "execution_count": 20,
   "metadata": {},
   "outputs": [
    {
     "data": {
      "text/plain": [
       "RandomForestRegressor(bootstrap=True, criterion='mse', max_depth=None,\n",
       "           max_features='auto', max_leaf_nodes=None,\n",
       "           min_impurity_decrease=0.0, min_impurity_split=None,\n",
       "           min_samples_leaf=1, min_samples_split=2,\n",
       "           min_weight_fraction_leaf=0.0, n_estimators=1500, n_jobs=1,\n",
       "           oob_score=False, random_state=42, verbose=0, warm_start=False)"
      ]
     },
     "execution_count": 20,
     "metadata": {},
     "output_type": "execute_result"
    }
   ],
   "source": [
    "regressor_cubic.fit(feature_train[['weekday','volume_anterior', 'volume_anterior_2','media_volume', 'desvio_padrao', 'am_pm']], values_train)"
   ]
  },
  {
   "cell_type": "code",
   "execution_count": 42,
   "metadata": {},
   "outputs": [],
   "source": [
    "y_pred = regressor_cubic.predict(feature_test[['weekday','volume_anterior', 'volume_anterior_2','media_volume', 'desvio_padrao', 'am_pm']])y_pred = regressor_cubic.predict(feature_test[['weekday','volume_anterior', 'volume_anterior_2','media_volume', 'desvio_padrao', 'am_pm']])"
   ]
  },
  {
   "cell_type": "code",
   "execution_count": 83,
   "metadata": {},
   "outputs": [],
   "source": [
    "def mean_absolute_percentage_error(y_true, y_pred): \n",
    "    y_true, y_pred = np.array(y_true), np.array(y_pred)\n",
    "    return np.mean(np.abs((y_true - y_pred) / y_true)) * 100"
   ]
  },
  {
   "cell_type": "code",
   "execution_count": 84,
   "metadata": {},
   "outputs": [
    {
     "data": {
      "text/plain": [
       "45.456665522996744"
      ]
     },
     "execution_count": 84,
     "metadata": {},
     "output_type": "execute_result"
    }
   ],
   "source": [
    "mean_absolute_percentage_error(values_test, y_pred)"
   ]
  },
  {
   "cell_type": "code",
   "execution_count": 36,
   "metadata": {},
   "outputs": [
    {
     "ename": "AttributeError",
     "evalue": "'numpy.ndarray' object has no attribute 'transform'",
     "output_type": "error",
     "traceback": [
      "\u001b[0;31m---------------------------------------------------------------------------\u001b[0m",
      "\u001b[0;31mAttributeError\u001b[0m                            Traceback (most recent call last)",
      "\u001b[0;32m<ipython-input-36-8baebbebe1f7>\u001b[0m in \u001b[0;36m<module>\u001b[0;34m()\u001b[0m\n\u001b[0;32m----> 1\u001b[0;31m \u001b[0my_pred\u001b[0m\u001b[0;34m.\u001b[0m\u001b[0mtransform\u001b[0m\u001b[0;34m(\u001b[0m\u001b[0;34m\"shift\"\u001b[0m\u001b[0;34m,\u001b[0m\u001b[0;36m1\u001b[0m\u001b[0;34m)\u001b[0m\u001b[0;34m\u001b[0m\u001b[0m\n\u001b[0m\u001b[1;32m      2\u001b[0m \u001b[0;31m#pd_volume_test[\"volume_anterior_2\"] = pd_volume_test.groupby(['direction', 'tollgate_id'])[\"volume\"].transform(\"shift\", 2)\u001b[0m\u001b[0;34m\u001b[0m\u001b[0;34m\u001b[0m\u001b[0m\n",
      "\u001b[0;31mAttributeError\u001b[0m: 'numpy.ndarray' object has no attribute 'transform'"
     ]
    }
   ],
   "source": [
    "y_pred.transform(\"shift\",1)\n",
    "#pd_volume_test[\"volume_anterior_2\"] = pd_volume_test.groupby(['direction', 'tollgate_id'])[\"volume\"].transform(\"shift\", 2)"
   ]
  },
  {
   "cell_type": "code",
   "execution_count": 24,
   "metadata": {},
   "outputs": [
    {
     "data": {
      "text/plain": [
       "array([ 9, 20, 31, ..., 24, 73, 18])"
      ]
     },
     "execution_count": 24,
     "metadata": {},
     "output_type": "execute_result"
    }
   ],
   "source": [
    "values_test"
   ]
  },
  {
   "cell_type": "code",
   "execution_count": 43,
   "metadata": {},
   "outputs": [
    {
     "name": "stdout",
     "output_type": "stream",
     "text": [
      "12.600672222222219\n"
     ]
    }
   ],
   "source": [
    "y_pred = np.delete(y_pred, 0)\n",
    "print (list(y_pred)[0])"
   ]
  },
  {
   "cell_type": "code",
   "execution_count": 74,
   "metadata": {},
   "outputs": [
    {
     "ename": "IndexError",
     "evalue": "index 1119 is out of bounds for axis 1 with size 1119",
     "output_type": "error",
     "traceback": [
      "\u001b[0;31m---------------------------------------------------------------------------\u001b[0m",
      "\u001b[0;31mIndexError\u001b[0m                                Traceback (most recent call last)",
      "\u001b[0;32m<ipython-input-74-18bba6b4d787>\u001b[0m in \u001b[0;36m<module>\u001b[0;34m()\u001b[0m\n\u001b[0;32m----> 1\u001b[0;31m \u001b[0my_pred\u001b[0m\u001b[0;34m[\u001b[0m\u001b[0;34m[\u001b[0m\u001b[0mlen\u001b[0m\u001b[0;34m(\u001b[0m\u001b[0my_pred\u001b[0m\u001b[0;34m+\u001b[0m\u001b[0;36m1\u001b[0m\u001b[0;34m)\u001b[0m\u001b[0;34m]\u001b[0m\u001b[0;34m]\u001b[0m \u001b[0;34m=\u001b[0m \u001b[0;36m2\u001b[0m\u001b[0;34m\u001b[0m\u001b[0m\n\u001b[0m",
      "\u001b[0;31mIndexError\u001b[0m: index 1119 is out of bounds for axis 1 with size 1119"
     ]
    }
   ],
   "source": [
    "y_pred[[len(y_pred+1)]] = 2"
   ]
  },
  {
   "cell_type": "code",
   "execution_count": 70,
   "metadata": {},
   "outputs": [
    {
     "data": {
      "text/plain": [
       "1120"
      ]
     },
     "execution_count": 70,
     "metadata": {},
     "output_type": "execute_result"
    }
   ],
   "source": [
    "len(y_pred)+1"
   ]
  },
  {
   "cell_type": "code",
   "execution_count": 77,
   "metadata": {},
   "outputs": [],
   "source": [
    "values_test = np.delete(values_test, len(values_test)-1)"
   ]
  },
  {
   "cell_type": "code",
   "execution_count": 78,
   "metadata": {},
   "outputs": [
    {
     "name": "stdout",
     "output_type": "stream",
     "text": [
      "38\n"
     ]
    }
   ],
   "source": [
    "print (list(values_test)[4]) "
   ]
  },
  {
   "cell_type": "code",
   "execution_count": 79,
   "metadata": {},
   "outputs": [
    {
     "data": {
      "text/plain": [
       "1124.0483407405834"
      ]
     },
     "execution_count": 79,
     "metadata": {},
     "output_type": "execute_result"
    }
   ],
   "source": [
    "mean_squared_error(y_pred,values_test)"
   ]
  },
  {
   "cell_type": "code",
   "execution_count": 80,
   "metadata": {},
   "outputs": [
    {
     "data": {
      "text/plain": [
       "0.2315901347694015"
      ]
     },
     "execution_count": 80,
     "metadata": {},
     "output_type": "execute_result"
    }
   ],
   "source": [
    "r2_score(values_test, y_pred) "
   ]
  },
  {
   "cell_type": "code",
   "execution_count": 81,
   "metadata": {},
   "outputs": [
    {
     "data": {
      "text/plain": [
       "33.52683016243235"
      ]
     },
     "execution_count": 81,
     "metadata": {},
     "output_type": "execute_result"
    }
   ],
   "source": [
    "rms = sqrt(mean_squared_error(values_test, y_pred))\n",
    "rms"
   ]
  },
  {
   "cell_type": "code",
   "execution_count": 85,
   "metadata": {},
   "outputs": [
    {
     "data": {
      "text/plain": [
       "array([ 10,  17,  30, ..., 108,  24,  73])"
      ]
     },
     "execution_count": 85,
     "metadata": {},
     "output_type": "execute_result"
    }
   ],
   "source": [
    "values_test"
   ]
  },
  {
   "cell_type": "code",
   "execution_count": 86,
   "metadata": {},
   "outputs": [
    {
     "data": {
      "text/plain": [
       "array([12.60067222, 16.43      , 18.58666667, ..., 52.69133333,\n",
       "       70.35311111, 31.34      ])"
      ]
     },
     "execution_count": 86,
     "metadata": {},
     "output_type": "execute_result"
    }
   ],
   "source": [
    "y_pred"
   ]
  },
  {
   "cell_type": "code",
   "execution_count": null,
   "metadata": {},
   "outputs": [],
   "source": []
  }
 ],
 "metadata": {
  "kernelspec": {
   "display_name": "Python 3",
   "language": "python",
   "name": "python3"
  },
  "language_info": {
   "codemirror_mode": {
    "name": "ipython",
    "version": 3
   },
   "file_extension": ".py",
   "mimetype": "text/x-python",
   "name": "python",
   "nbconvert_exporter": "python",
   "pygments_lexer": "ipython3",
   "version": "3.7.0"
  }
 },
 "nbformat": 4,
 "nbformat_minor": 2
}

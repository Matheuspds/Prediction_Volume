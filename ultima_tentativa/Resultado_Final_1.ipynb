{
 "cells": [
  {
   "cell_type": "code",
   "execution_count": 127,
   "metadata": {},
   "outputs": [],
   "source": [
    "import pandas as pd\n",
    "import numpy as np\n",
    "from sklearn.ensemble import GradientBoostingRegressor, RandomForestRegressor\n",
    "from sklearn.linear_model import LinearRegression\n",
    "from sklearn.linear_model import SGDRegressor\n",
    "from datetime import time\n",
    "import matplotlib.pyplot as pplot\n",
    "from sklearn.metrics import mean_squared_error\n",
    "from sklearn.tree import DecisionTreeRegressor\n",
    "from sklearn.ensemble import AdaBoostRegressor\n",
    "import math\n",
    "import random\n",
    "from sklearn.metrics import mean_absolute_error\n",
    "from sklearn.model_selection import RandomizedSearchCV\n",
    "from sklearn.model_selection import GridSearchCV\n",
    "from sklearn.metrics import mean_squared_error\n",
    "from math import sqrt\n",
    "from sklearn.cross_validation import ShuffleSplit, train_test_split"
   ]
  },
  {
   "cell_type": "code",
   "execution_count": 230,
   "metadata": {},
   "outputs": [],
   "source": [
    "df_train = pd.read_csv('data_process_final/treino_final.csv')\n",
    "df_teste = pd.read_csv('data_process_final/teste_final.csv')\n",
    "df_teste_para_weekday = pd.read_csv('data_process_final/teste_final_para_weekday.csv')"
   ]
  },
  {
   "cell_type": "code",
   "execution_count": null,
   "metadata": {},
   "outputs": [],
   "source": []
  },
  {
   "cell_type": "code",
   "execution_count": 231,
   "metadata": {},
   "outputs": [],
   "source": [
    "df_remove = df_train.loc[(df_train['day'] >= 1) & (df_train['day'] <= 7) ]\n",
    "\n",
    "df_train = df_train.drop(df_remove.index)"
   ]
  },
  {
   "cell_type": "code",
   "execution_count": 232,
   "metadata": {},
   "outputs": [],
   "source": [
    "del df_train['volume_proximo']\n",
    "del df_teste['volume_proximo']"
   ]
  },
  {
   "cell_type": "code",
   "execution_count": 233,
   "metadata": {},
   "outputs": [],
   "source": [
    "del df_train['volume_proximo_2']\n",
    "del df_teste['volume_proximo_2']"
   ]
  },
  {
   "cell_type": "code",
   "execution_count": 234,
   "metadata": {},
   "outputs": [],
   "source": [
    "def adiciona_media_desvio_por_dia(df):\n",
    "    df['media_volume_hora_dia'] = df.groupby(['direction', 'tollgate_id', 'day', 'hour'])[\"volume\"].transform(np.mean)\n",
    "    df['desvio_padrao_hora_dia'] = df.groupby(['direction', 'tollgate_id', 'day', 'hour'])[\"volume\"].transform(np.std)\n",
    "    df['desvio_padrao_hora_dia'].fillna(df.groupby(['direction', 'tollgate_id', 'day', 'hour'])[\"volume\"].transform(np.mean), inplace=True)\n",
    "    df['min_volume_hora_dia'] = df.groupby(['direction', 'tollgate_id', 'day', 'hour'])['volume'].transform(np.min)\n",
    "    df['max_volume_hora_dia'] = df.groupby(['direction', 'tollgate_id', 'day', 'hour'])['volume'].transform(np.max)\n",
    "    df['mediana_volume_hora_dia'] = df.groupby(['direction', 'tollgate_id', 'day', 'hour'])['volume'].transform(np.median)\n",
    "    return df"
   ]
  },
  {
   "cell_type": "code",
   "execution_count": 235,
   "metadata": {},
   "outputs": [],
   "source": [
    "df_train = adiciona_media_desvio_por_dia(df_train)\n",
    "df_teste= adiciona_media_desvio_por_dia(df_teste)"
   ]
  },
  {
   "cell_type": "code",
   "execution_count": 236,
   "metadata": {},
   "outputs": [],
   "source": [
    "def adiciona_media_desvio_por_janela_dia_semana_1(df):\n",
    "    df['time'] = pd.to_datetime(df['time'], format = '%Y-%m-%d %H:%M:%S')\n",
    "    df['date'] = df['time'].dt.date\n",
    "    mask = (df['time'] > '2016-09-18 00:00:00') & (df['time'] < '2016-09-26 00:00:00')\n",
    "    df = df.loc[mask]\n",
    "    df['min_volume_weekday'] = df.groupby(['time_window', 'week', 'direction', 'tollgate_id'])[\"volume\"].transform(np.min)\n",
    "    df['max_volume_weekday'] = df.groupby(['time_window', 'week', 'direction', 'tollgate_id'])[\"volume\"].transform(np.max)\n",
    "    df['mediana_volume_weekday'] = df.groupby(['time_window', 'week', 'direction', 'tollgate_id'])[\"volume\"].transform(np.median)\n",
    "    df['media_volume_weekday'] = df.groupby(['time_window', 'week', 'direction', 'tollgate_id'])[\"volume\"].transform(np.mean)\n",
    "    df['desvio_padrao_weekday'] = df.groupby(['time_window', 'week', 'direction', 'tollgate_id'])[\"volume\"].transform(np.std)\n",
    "    df['desvio_padrao_weekday'].fillna(df.groupby(['time_window', 'week', 'direction', 'tollgate_id'])[\"volume\"].transform(np.mean), inplace=True)\n",
    "    return df\n",
    "\n",
    "def adiciona_media_desvio_por_janela_dia_semana_2(df):\n",
    "    \n",
    "    df['time'] = pd.to_datetime(df['time'], format = '%Y-%m-%d %H:%M:%S')\n",
    "    df['date'] = df['time'].dt.date\n",
    "    mask2 = (df['time'] > '2016-09-18 00:00:00') & (df['time'] < '2016-10-10 00:00:00')\n",
    "    df = df.loc[mask2]\n",
    "    df['min_volume_weekday'] = df.groupby(['time_window', 'week', 'direction', 'tollgate_id'])[\"volume\"].transform(np.min)\n",
    "    df['max_volume_weekday'] = df.groupby(['time_window', 'week', 'direction', 'tollgate_id'])[\"volume\"].transform(np.max)\n",
    "    df['mediana_volume_weekday'] = df.groupby(['time_window', 'week', 'direction', 'tollgate_id'])[\"volume\"].transform(np.median)\n",
    "    df['media_volume_weekday'] = df.groupby(['time_window', 'week', 'direction', 'tollgate_id'])[\"volume\"].transform(np.mean)\n",
    "    df['desvio_padrao_weekday'] = df.groupby(['time_window', 'week', 'direction', 'tollgate_id'])[\"volume\"].transform(np.std)\n",
    "    df['desvio_padrao_weekday'].fillna(df.groupby(['time_window', 'week', 'direction', 'tollgate_id'])[\"volume\"].transform(np.mean), inplace=True)\n",
    "    \n",
    "    return df\n",
    "\n",
    "def adiciona_media_desvio_por_janela_dia_semana_3(df):\n",
    "    \n",
    "    df['time'] = pd.to_datetime(df['time'], format = '%Y-%m-%d %H:%M:%S')\n",
    "    df['date'] = df['time'].dt.date\n",
    "    mask3 = (df['time'] > '2016-09-18 00:00:00') & (df['time'] < '2016-10-17 00:00:00')\n",
    "    df = df.loc[mask3]\n",
    "    df['min_volume_weekday'] = df.groupby(['time_window', 'week', 'direction', 'tollgate_id'])[\"volume\"].transform(np.min)\n",
    "    df['max_volume_weekday'] = df.groupby(['time_window', 'week', 'direction', 'tollgate_id'])[\"volume\"].transform(np.max)\n",
    "    df['mediana_volume_weekday'] = df.groupby(['time_window', 'week', 'direction', 'tollgate_id'])[\"volume\"].transform(np.median)\n",
    "    df['media_volume_weekday'] = df.groupby(['time_window', 'week', 'direction', 'tollgate_id'])[\"volume\"].transform(np.mean)\n",
    "    df['desvio_padrao_weekday'] = df.groupby(['time_window', 'week', 'direction', 'tollgate_id'])[\"volume\"].transform(np.std)\n",
    "    df['desvio_padrao_weekday'].fillna(df.groupby(['time_window', 'week', 'direction', 'tollgate_id'])[\"volume\"].transform(np.mean), inplace=True)\n",
    "    return df\n",
    "\n",
    "def adiciona_media_desvio_por_janela_dia_semana_4(df):   \n",
    "    df['time'] = pd.to_datetime(df['time'], format = '%Y-%m-%d %H:%M:%S')\n",
    "    df['date'] = df['time'].dt.date\n",
    "    mask4 = (df['time'] > '2016-09-18 00:00:00') & (df['time'] < '2016-10-25 00:00:00')\n",
    "    df = df.loc[mask4]\n",
    "    df['min_volume_weekday'] = df.groupby(['time_window', 'week', 'direction', 'tollgate_id'])[\"volume\"].transform(np.min)\n",
    "    df['max_volume_weekday'] = df.groupby(['time_window', 'week', 'direction', 'tollgate_id'])[\"volume\"].transform(np.max)\n",
    "    df['mediana_volume_weekday'] = df.groupby(['time_window', 'week', 'direction', 'tollgate_id'])[\"volume\"].transform(np.median)\n",
    "    df['media_volume_weekday'] = df.groupby(['time_window', 'week', 'direction', 'tollgate_id'])[\"volume\"].transform(np.mean)\n",
    "    df['desvio_padrao_weekday'] = df.groupby(['time_window', 'week','direction', 'tollgate_id'])[\"volume\"].transform(np.std)\n",
    "    df['desvio_padrao_weekday'].fillna(df.groupby(['time_window', 'week', 'direction', 'tollgate_id'])[\"volume\"].transform(np.mean), inplace=True)\n",
    "    return df\n",
    "\n",
    "def adiciona_media_desvio_por_janela_dia_semana_5_teste(df1, df2):\n",
    "    df_list = [df1, df2]\n",
    "    df = pd.concat(df_list, ignore_index=True)\n",
    "    df['time'] = pd.to_datetime(df['time'], format = '%Y-%m-%d %H:%M:%S')\n",
    "    df['date'] = df['time'].dt.date\n",
    "    mask4 = (df['time'] >= '2016-10-18 00:00:00') & (df['time'] < '2016-11-01 00:00:00')\n",
    "    df = df.loc[mask4]\n",
    "    df['min_volume_weekday'] = df.groupby(['time_window', 'week', 'direction', 'tollgate_id'])[\"volume\"].transform(np.min)\n",
    "    df['max_volume_weekday'] = df.groupby(['time_window', 'week', 'direction', 'tollgate_id'])[\"volume\"].transform(np.max)\n",
    "    df['mediana_volume_weekday'] = df.groupby(['time_window', 'week', 'direction', 'tollgate_id'])[\"volume\"].transform(np.median)\n",
    "    df['media_volume_weekday'] = df.groupby(['time_window', 'week', 'direction', 'tollgate_id'])[\"volume\"].transform(np.mean)\n",
    "    df['desvio_padrao_weekday'] = df.groupby(['time_window', 'week','direction', 'tollgate_id'])[\"volume\"].transform(np.std)\n",
    "    df['desvio_padrao_weekday'].fillna(df.groupby(['time_window', 'week', 'direction', 'tollgate_id'])[\"volume\"].transform(np.mean), inplace=True)\n",
    "    \n",
    "    \n",
    "    return df"
   ]
  },
  {
   "cell_type": "code",
   "execution_count": 237,
   "metadata": {},
   "outputs": [
    {
     "name": "stderr",
     "output_type": "stream",
     "text": [
      "/home/matheuspds/miniconda3/lib/python3.7/site-packages/ipykernel_launcher.py:6: SettingWithCopyWarning: \n",
      "A value is trying to be set on a copy of a slice from a DataFrame.\n",
      "Try using .loc[row_indexer,col_indexer] = value instead\n",
      "\n",
      "See the caveats in the documentation: http://pandas.pydata.org/pandas-docs/stable/indexing.html#indexing-view-versus-copy\n",
      "  \n",
      "/home/matheuspds/miniconda3/lib/python3.7/site-packages/ipykernel_launcher.py:7: SettingWithCopyWarning: \n",
      "A value is trying to be set on a copy of a slice from a DataFrame.\n",
      "Try using .loc[row_indexer,col_indexer] = value instead\n",
      "\n",
      "See the caveats in the documentation: http://pandas.pydata.org/pandas-docs/stable/indexing.html#indexing-view-versus-copy\n",
      "  import sys\n",
      "/home/matheuspds/miniconda3/lib/python3.7/site-packages/ipykernel_launcher.py:8: SettingWithCopyWarning: \n",
      "A value is trying to be set on a copy of a slice from a DataFrame.\n",
      "Try using .loc[row_indexer,col_indexer] = value instead\n",
      "\n",
      "See the caveats in the documentation: http://pandas.pydata.org/pandas-docs/stable/indexing.html#indexing-view-versus-copy\n",
      "  \n",
      "/home/matheuspds/miniconda3/lib/python3.7/site-packages/ipykernel_launcher.py:9: SettingWithCopyWarning: \n",
      "A value is trying to be set on a copy of a slice from a DataFrame.\n",
      "Try using .loc[row_indexer,col_indexer] = value instead\n",
      "\n",
      "See the caveats in the documentation: http://pandas.pydata.org/pandas-docs/stable/indexing.html#indexing-view-versus-copy\n",
      "  if __name__ == '__main__':\n",
      "/home/matheuspds/miniconda3/lib/python3.7/site-packages/ipykernel_launcher.py:10: SettingWithCopyWarning: \n",
      "A value is trying to be set on a copy of a slice from a DataFrame.\n",
      "Try using .loc[row_indexer,col_indexer] = value instead\n",
      "\n",
      "See the caveats in the documentation: http://pandas.pydata.org/pandas-docs/stable/indexing.html#indexing-view-versus-copy\n",
      "  # Remove the CWD from sys.path while we load stuff.\n",
      "/home/matheuspds/miniconda3/lib/python3.7/site-packages/pandas/core/generic.py:5434: SettingWithCopyWarning: \n",
      "A value is trying to be set on a copy of a slice from a DataFrame\n",
      "\n",
      "See the caveats in the documentation: http://pandas.pydata.org/pandas-docs/stable/indexing.html#indexing-view-versus-copy\n",
      "  self._update_inplace(new_data)\n",
      "/home/matheuspds/miniconda3/lib/python3.7/site-packages/ipykernel_launcher.py:20: SettingWithCopyWarning: \n",
      "A value is trying to be set on a copy of a slice from a DataFrame.\n",
      "Try using .loc[row_indexer,col_indexer] = value instead\n",
      "\n",
      "See the caveats in the documentation: http://pandas.pydata.org/pandas-docs/stable/indexing.html#indexing-view-versus-copy\n",
      "/home/matheuspds/miniconda3/lib/python3.7/site-packages/ipykernel_launcher.py:21: SettingWithCopyWarning: \n",
      "A value is trying to be set on a copy of a slice from a DataFrame.\n",
      "Try using .loc[row_indexer,col_indexer] = value instead\n",
      "\n",
      "See the caveats in the documentation: http://pandas.pydata.org/pandas-docs/stable/indexing.html#indexing-view-versus-copy\n",
      "/home/matheuspds/miniconda3/lib/python3.7/site-packages/ipykernel_launcher.py:22: SettingWithCopyWarning: \n",
      "A value is trying to be set on a copy of a slice from a DataFrame.\n",
      "Try using .loc[row_indexer,col_indexer] = value instead\n",
      "\n",
      "See the caveats in the documentation: http://pandas.pydata.org/pandas-docs/stable/indexing.html#indexing-view-versus-copy\n",
      "/home/matheuspds/miniconda3/lib/python3.7/site-packages/ipykernel_launcher.py:23: SettingWithCopyWarning: \n",
      "A value is trying to be set on a copy of a slice from a DataFrame.\n",
      "Try using .loc[row_indexer,col_indexer] = value instead\n",
      "\n",
      "See the caveats in the documentation: http://pandas.pydata.org/pandas-docs/stable/indexing.html#indexing-view-versus-copy\n",
      "/home/matheuspds/miniconda3/lib/python3.7/site-packages/ipykernel_launcher.py:24: SettingWithCopyWarning: \n",
      "A value is trying to be set on a copy of a slice from a DataFrame.\n",
      "Try using .loc[row_indexer,col_indexer] = value instead\n",
      "\n",
      "See the caveats in the documentation: http://pandas.pydata.org/pandas-docs/stable/indexing.html#indexing-view-versus-copy\n",
      "/home/matheuspds/miniconda3/lib/python3.7/site-packages/ipykernel_launcher.py:35: SettingWithCopyWarning: \n",
      "A value is trying to be set on a copy of a slice from a DataFrame.\n",
      "Try using .loc[row_indexer,col_indexer] = value instead\n",
      "\n",
      "See the caveats in the documentation: http://pandas.pydata.org/pandas-docs/stable/indexing.html#indexing-view-versus-copy\n",
      "/home/matheuspds/miniconda3/lib/python3.7/site-packages/ipykernel_launcher.py:36: SettingWithCopyWarning: \n",
      "A value is trying to be set on a copy of a slice from a DataFrame.\n",
      "Try using .loc[row_indexer,col_indexer] = value instead\n",
      "\n",
      "See the caveats in the documentation: http://pandas.pydata.org/pandas-docs/stable/indexing.html#indexing-view-versus-copy\n",
      "/home/matheuspds/miniconda3/lib/python3.7/site-packages/ipykernel_launcher.py:37: SettingWithCopyWarning: \n",
      "A value is trying to be set on a copy of a slice from a DataFrame.\n",
      "Try using .loc[row_indexer,col_indexer] = value instead\n",
      "\n",
      "See the caveats in the documentation: http://pandas.pydata.org/pandas-docs/stable/indexing.html#indexing-view-versus-copy\n",
      "/home/matheuspds/miniconda3/lib/python3.7/site-packages/ipykernel_launcher.py:38: SettingWithCopyWarning: \n",
      "A value is trying to be set on a copy of a slice from a DataFrame.\n",
      "Try using .loc[row_indexer,col_indexer] = value instead\n",
      "\n",
      "See the caveats in the documentation: http://pandas.pydata.org/pandas-docs/stable/indexing.html#indexing-view-versus-copy\n",
      "/home/matheuspds/miniconda3/lib/python3.7/site-packages/ipykernel_launcher.py:39: SettingWithCopyWarning: \n",
      "A value is trying to be set on a copy of a slice from a DataFrame.\n",
      "Try using .loc[row_indexer,col_indexer] = value instead\n",
      "\n",
      "See the caveats in the documentation: http://pandas.pydata.org/pandas-docs/stable/indexing.html#indexing-view-versus-copy\n",
      "/home/matheuspds/miniconda3/lib/python3.7/site-packages/ipykernel_launcher.py:58: FutureWarning: Sorting because non-concatenation axis is not aligned. A future version\n",
      "of pandas will change to not sort by default.\n",
      "\n",
      "To accept the future behavior, pass 'sort=False'.\n",
      "\n",
      "To retain the current behavior and silence the warning, pass 'sort=True'.\n",
      "\n"
     ]
    }
   ],
   "source": [
    "df_train_a_25 =adiciona_media_desvio_por_janela_dia_semana_1(df_train)\n",
    "df_train_a_10 = adiciona_media_desvio_por_janela_dia_semana_2(df_train)\n",
    "df_train_a_17 = adiciona_media_desvio_por_janela_dia_semana_3(df_train)\n",
    "df_train_a_24 = adiciona_media_desvio_por_janela_dia_semana_4(df_train)\n",
    "df_teste_a_24 = adiciona_media_desvio_por_janela_dia_semana_5_teste(df_teste_para_weekday, df_teste)"
   ]
  },
  {
   "cell_type": "code",
   "execution_count": null,
   "metadata": {},
   "outputs": [],
   "source": []
  },
  {
   "cell_type": "code",
   "execution_count": 238,
   "metadata": {},
   "outputs": [
    {
     "name": "stderr",
     "output_type": "stream",
     "text": [
      "/home/matheuspds/miniconda3/lib/python3.7/site-packages/ipykernel_launcher.py:6: DeprecationWarning: \n",
      ".ix is deprecated. Please use\n",
      ".loc for label based indexing or\n",
      ".iloc for positional indexing\n",
      "\n",
      "See the documentation here:\n",
      "http://pandas.pydata.org/pandas-docs/stable/indexing.html#ix-indexer-is-deprecated\n",
      "  \n",
      "/home/matheuspds/miniconda3/lib/python3.7/site-packages/ipykernel_launcher.py:7: DeprecationWarning: \n",
      ".ix is deprecated. Please use\n",
      ".loc for label based indexing or\n",
      ".iloc for positional indexing\n",
      "\n",
      "See the documentation here:\n",
      "http://pandas.pydata.org/pandas-docs/stable/indexing.html#ix-indexer-is-deprecated\n",
      "  import sys\n",
      "/home/matheuspds/miniconda3/lib/python3.7/site-packages/ipykernel_launcher.py:8: DeprecationWarning: \n",
      ".ix is deprecated. Please use\n",
      ".loc for label based indexing or\n",
      ".iloc for positional indexing\n",
      "\n",
      "See the documentation here:\n",
      "http://pandas.pydata.org/pandas-docs/stable/indexing.html#ix-indexer-is-deprecated\n",
      "  \n",
      "/home/matheuspds/miniconda3/lib/python3.7/site-packages/ipykernel_launcher.py:9: DeprecationWarning: \n",
      ".ix is deprecated. Please use\n",
      ".loc for label based indexing or\n",
      ".iloc for positional indexing\n",
      "\n",
      "See the documentation here:\n",
      "http://pandas.pydata.org/pandas-docs/stable/indexing.html#ix-indexer-is-deprecated\n",
      "  if __name__ == '__main__':\n"
     ]
    }
   ],
   "source": [
    "len_train1 = len(df_train_a_25)\n",
    "len_train2 = len(df_train_a_10)\n",
    "len_train3 = len(df_train_a_17)\n",
    "len_train4 = len(df_train_a_24)\n",
    "\n",
    "x1 = df_train_a_25.ix[:len_train1 - 1, 21:]\n",
    "x2 = df_train_a_10.ix[:len_train2 - 1, 21:]\n",
    "x3 = df_train_a_17.ix[:len_train3 - 1, 21:]\n",
    "x4 = df_train_a_24.ix[:len_train4 - 1, 21:]\n",
    "\n",
    "df_train_list = [x1, x2, x3, x4]\n",
    "\n",
    "#df_train_list = [df_train_a_25[df_train_a_25[['min_volume_weekday']]], df_train_a_10[df_train_a_10['min_volume_weekday']]]\n",
    "#df_train_para_agregar = pd.concat(df_train_list)\n"
   ]
  },
  {
   "cell_type": "code",
   "execution_count": 239,
   "metadata": {},
   "outputs": [],
   "source": [
    "df_train_para_agregar = pd.concat(df_train_list, ignore_index=True)"
   ]
  },
  {
   "cell_type": "code",
   "execution_count": 240,
   "metadata": {},
   "outputs": [],
   "source": [
    "df_train['media_volume_weekday'] = df_train_para_agregar['media_volume_weekday']\n",
    "df_train['min_volume_weekday'] = df_train_para_agregar['min_volume_weekday']\n",
    "df_train['max_volume_weekday'] = df_train_para_agregar['max_volume_weekday']\n",
    "df_train['desvio_padrao_weekday'] = df_train_para_agregar['desvio_padrao_weekday']\n",
    "df_train['mediana_volume_weekday'] = df_train_para_agregar['mediana_volume_weekday']"
   ]
  },
  {
   "cell_type": "code",
   "execution_count": 229,
   "metadata": {},
   "outputs": [],
   "source": [
    "df_train.to_csv('kkk.csv')"
   ]
  },
  {
   "cell_type": "code",
   "execution_count": 241,
   "metadata": {},
   "outputs": [],
   "source": [
    "df_teste['min_volume_weekday'] = df_teste_a_24['min_volume_weekday']\n",
    "df_teste['max_volume_weekday'] = df_teste_a_24['max_volume_weekday']\n",
    "df_teste['mediana_volume_weekday'] = df_teste_a_24['mediana_volume_weekday']\n",
    "df_teste['media_volume_weekday'] = df_teste_a_24['media_volume_weekday']\n",
    "df_teste['desvio_padrao_weekday'] = df_teste_a_24['desvio_padrao_weekday']"
   ]
  },
  {
   "cell_type": "code",
   "execution_count": null,
   "metadata": {},
   "outputs": [],
   "source": [
    "#media do volume do dia naquela tollgate naquela direcao"
   ]
  },
  {
   "cell_type": "code",
   "execution_count": 242,
   "metadata": {},
   "outputs": [],
   "source": [
    "def medidas_volume_tollgate_direction_am_pm(df):\n",
    "    df['min_volume_dia_am_pm'] = df.groupby(['day', 'direction', 'tollgate_id', 'am_pm'])[\"volume\"].transform(np.min)\n",
    "    df['max_volume_dia_am_pm'] = df.groupby(['day', 'direction', 'tollgate_id', 'am_pm'])[\"volume\"].transform(np.max)\n",
    "    df['mediana_volume_dia_am_pm'] = df.groupby(['day', 'direction', 'tollgate_id', 'am_pm'])[\"volume\"].transform(np.median)\n",
    "    df['media_volume_dia_am_pm'] = df.groupby(['day', 'direction', 'tollgate_id', 'am_pm'])[\"volume\"].transform(np.mean)\n",
    "    df['desvio_padrao_am_pm'] = df.groupby(['day','direction', 'tollgate_id', 'am_pm'])[\"volume\"].transform(np.std)\n",
    "    df['desvio_padrao_am_pm'].fillna(df.groupby(['day', 'direction', 'tollgate_id', 'am_pm'])[\"volume\"].transform(np.mean), inplace=True)\n",
    "    return df"
   ]
  },
  {
   "cell_type": "code",
   "execution_count": 243,
   "metadata": {},
   "outputs": [],
   "source": [
    "df_train = medidas_volume_tollgate_direction_am_pm(df_train)\n",
    "df_teste = medidas_volume_tollgate_direction_am_pm(df_teste)"
   ]
  },
  {
   "cell_type": "code",
   "execution_count": 170,
   "metadata": {},
   "outputs": [],
   "source": [
    "#df_train_para_agregar.to_csv(\"huehue.csv\", index=False)\n",
    "df_teste.to_csv(\"huehue2.csv\", index=False)"
   ]
  },
  {
   "cell_type": "code",
   "execution_count": 244,
   "metadata": {},
   "outputs": [],
   "source": [
    "def feature_format():\n",
    "    #pd_volume_train = pd_volume_train.set_index(['time'])\n",
    "    #pd_volume_test = pd_volume_test.set_index(['time'])\n",
    "    #volume_train = v_train.groupby(['time_window','tollgate_id','direction','date', 'hour']).size().reset_index().rename(columns = {0:'volume'})\n",
    "    #volume_test = v_test.groupby(['time_window','tollgate_id','direction','date', 'hour']).size().reset_index().rename(columns = {0:'volume'})\n",
    "    #print(volume_train)                \n",
    "    x = pd.Series(df_train['time_window'].unique())\n",
    "    s = pd.Series(range(len(x)),index = x.values)\n",
    "    df_train['window_n'] = df_train['time_window'].map(s)\n",
    "    df_teste['window_n'] = df_teste['time_window'].map(s)\n",
    "#        print vol_test.tail()\n",
    "    #volume_train['weekday'] = v_train['weekday']\n",
    "    #volume_test['weekday'] = v_test['weekday']\n",
    "    \n",
    "    feature_train = df_train.drop('volume', axis = 1)\n",
    "    feature_test = df_teste.drop('volume',axis = 1)\n",
    "    values_train = df_train['volume'].values\n",
    "    values_test = df_teste['volume'].values\n",
    "    \n",
    "    return feature_train, feature_test, values_train, values_test"
   ]
  },
  {
   "cell_type": "code",
   "execution_count": 245,
   "metadata": {},
   "outputs": [],
   "source": [
    "feature_train, feature_test, values_train, values_test = feature_format()\n",
    "feature_train = pd.concat([feature_train, pd.get_dummies(feature_train['tollgate_id'])], axis=1)\n",
    "feature_test = pd.concat([feature_test, pd.get_dummies(feature_test['tollgate_id'])], axis=1)"
   ]
  },
  {
   "cell_type": "code",
   "execution_count": 125,
   "metadata": {},
   "outputs": [],
   "source": []
  },
  {
   "cell_type": "code",
   "execution_count": null,
   "metadata": {},
   "outputs": [],
   "source": []
  },
  {
   "cell_type": "code",
   "execution_count": 246,
   "metadata": {},
   "outputs": [],
   "source": [
    "regressor_cubic = RandomForestRegressor(n_estimators=500, max_depth=10, oob_score=True)"
   ]
  },
  {
   "cell_type": "code",
   "execution_count": 270,
   "metadata": {},
   "outputs": [
    {
     "data": {
      "text/plain": [
       "RandomForestRegressor(bootstrap=True, criterion='mse', max_depth=10,\n",
       "           max_features='auto', max_leaf_nodes=None,\n",
       "           min_impurity_decrease=0.0, min_impurity_split=None,\n",
       "           min_samples_leaf=1, min_samples_split=2,\n",
       "           min_weight_fraction_leaf=0.0, n_estimators=500, n_jobs=1,\n",
       "           oob_score=True, random_state=None, verbose=0, warm_start=False)"
      ]
     },
     "execution_count": 270,
     "metadata": {},
     "output_type": "execute_result"
    }
   ],
   "source": [
    "regressor_cubic.fit(feature_train[[1,2,3,'direction','week', 'weekend','volume_anterior', 'volume_anterior_2', 'am_pm', 'window_n', 'desvio_padrao_hora_dia', 'mediana_volume_hora_dia', 'max_volume_hora_dia', 'media_volume_hora_dia', 'min_volume_hora_dia', 'media_volume_dia_am_pm', 'max_volume_dia_am_pm', 'mediana_volume_dia_am_pm', 'min_volume_dia_am_pm', 'desvio_padrao_am_pm', 'media_volume_weekday', 'desvio_padrao_weekday', 'max_volume_weekday', 'min_volume_weekday', 'mediana_volume_weekday']], values_train)"
   ]
  },
  {
   "cell_type": "code",
   "execution_count": 271,
   "metadata": {},
   "outputs": [],
   "source": [
    "y_pred = regressor_cubic.predict(feature_test[[1,2,3,'direction','week', 'weekend','volume_anterior', 'volume_anterior_2', 'am_pm', 'window_n', 'desvio_padrao_hora_dia', 'mediana_volume_hora_dia', 'max_volume_hora_dia', 'media_volume_hora_dia', 'min_volume_hora_dia', 'media_volume_dia_am_pm', 'max_volume_dia_am_pm', 'mediana_volume_dia_am_pm', 'min_volume_dia_am_pm', 'desvio_padrao_am_pm', 'media_volume_weekday', 'desvio_padrao_weekday', 'max_volume_weekday', 'min_volume_weekday', 'mediana_volume_weekday']])"
   ]
  },
  {
   "cell_type": "code",
   "execution_count": 272,
   "metadata": {},
   "outputs": [
    {
     "data": {
      "text/plain": [
       "0.13030441999133693"
      ]
     },
     "execution_count": 272,
     "metadata": {},
     "output_type": "execute_result"
    }
   ],
   "source": [
    "mean_absolute_percentage_error(values_test, y_pred)"
   ]
  },
  {
   "cell_type": "code",
   "execution_count": 250,
   "metadata": {},
   "outputs": [
    {
     "data": {
      "text/plain": [
       "8.717719916802679"
      ]
     },
     "execution_count": 250,
     "metadata": {},
     "output_type": "execute_result"
    }
   ],
   "source": [
    "rmse = sqrt(mean_squared_error(y_pred, values_test))\n",
    "rmse"
   ]
  },
  {
   "cell_type": "code",
   "execution_count": null,
   "metadata": {},
   "outputs": [],
   "source": []
  },
  {
   "cell_type": "code",
   "execution_count": 32,
   "metadata": {},
   "outputs": [],
   "source": []
  },
  {
   "cell_type": "code",
   "execution_count": null,
   "metadata": {},
   "outputs": [],
   "source": []
  },
  {
   "cell_type": "code",
   "execution_count": null,
   "metadata": {},
   "outputs": [],
   "source": []
  },
  {
   "cell_type": "code",
   "execution_count": null,
   "metadata": {},
   "outputs": [],
   "source": []
  },
  {
   "cell_type": "code",
   "execution_count": 273,
   "metadata": {},
   "outputs": [],
   "source": [
    "# Create the parameter grid based on the results of random search \n",
    "param_grid = {\n",
    "    'max_depth': [int(x) for x in np.linspace(10, 110, num = 11)],\n",
    "    'max_features': [None],\n",
    "    'n_estimators': [200, 300, 500, 800, 1200, 1500, 1800]\n",
    "    #colocar um intervalo mais logico. Treino teste e validacao (tira uma parte do treino para validacao, e os\n",
    "    # e eu nao posso fazer isso pra proxima janela de treino)\n",
    "    #volume proximo nao pode ser utilizado\n",
    "    # a media de dias da semana anterior\n",
    "    # max altura, max numero de features, n_estimadores (100, 200, 300, 400)\n",
    "    # max altura (80, 90,100, 110)\n",
    "    # n_features deixa o numero de features fixo que eu tenho passa o auto\n",
    "    # random_state tirar do decision tree\n",
    "    #fazer isso\n",
    "    #falar primeiro do decision tree antes mesmo do random forest\n",
    "}\n",
    "# Create a based model\n",
    "rf = RandomForestRegressor()\n",
    "# Instantiate the grid search model\n",
    "grid_search = GridSearchCV(estimator = rf, param_grid = param_grid, \n",
    "                          cv = 4, n_jobs = -1, verbose = 2)"
   ]
  },
  {
   "cell_type": "code",
   "execution_count": 274,
   "metadata": {},
   "outputs": [
    {
     "name": "stdout",
     "output_type": "stream",
     "text": [
      "Fitting 4 folds for each of 77 candidates, totalling 308 fits\n",
      "[CV] max_depth=10, max_features=None, n_estimators=200 ...............\n",
      "[CV] max_depth=10, max_features=None, n_estimators=200 ...............\n",
      "[CV] max_depth=10, max_features=None, n_estimators=200 ...............\n",
      "[CV] max_depth=10, max_features=None, n_estimators=200 ...............\n",
      "[CV]  max_depth=10, max_features=None, n_estimators=200, total=  15.7s\n",
      "[CV] max_depth=10, max_features=None, n_estimators=300 ...............\n",
      "[CV]  max_depth=10, max_features=None, n_estimators=200, total=  15.9s\n",
      "[CV]  max_depth=10, max_features=None, n_estimators=200, total=  15.9s\n",
      "[CV] max_depth=10, max_features=None, n_estimators=300 ...............\n",
      "[CV] max_depth=10, max_features=None, n_estimators=300 ...............\n",
      "[CV]  max_depth=10, max_features=None, n_estimators=200, total=  16.6s\n",
      "[CV] max_depth=10, max_features=None, n_estimators=300 ...............\n",
      "[CV]  max_depth=10, max_features=None, n_estimators=300, total=  23.8s\n",
      "[CV] max_depth=10, max_features=None, n_estimators=500 ...............\n",
      "[CV]  max_depth=10, max_features=None, n_estimators=300, total=  23.9s\n",
      "[CV] max_depth=10, max_features=None, n_estimators=500 ...............\n",
      "[CV]  max_depth=10, max_features=None, n_estimators=300, total=  24.8s\n",
      "[CV] max_depth=10, max_features=None, n_estimators=500 ...............\n",
      "[CV]  max_depth=10, max_features=None, n_estimators=300, total=  24.0s\n",
      "[CV] max_depth=10, max_features=None, n_estimators=500 ...............\n",
      "[CV]  max_depth=10, max_features=None, n_estimators=500, total=  40.7s\n",
      "[CV] max_depth=10, max_features=None, n_estimators=800 ...............\n",
      "[CV]  max_depth=10, max_features=None, n_estimators=500, total=  41.0s\n",
      "[CV] max_depth=10, max_features=None, n_estimators=800 ...............\n",
      "[CV]  max_depth=10, max_features=None, n_estimators=500, total=  41.3s\n",
      "[CV] max_depth=10, max_features=None, n_estimators=800 ...............\n",
      "[CV]  max_depth=10, max_features=None, n_estimators=500, total=  42.8s\n",
      "[CV] max_depth=10, max_features=None, n_estimators=800 ...............\n",
      "[CV]  max_depth=10, max_features=None, n_estimators=800, total= 1.1min\n",
      "[CV] max_depth=10, max_features=None, n_estimators=1200 ..............\n",
      "[CV]  max_depth=10, max_features=None, n_estimators=800, total= 1.1min\n",
      "[CV] max_depth=10, max_features=None, n_estimators=1200 ..............\n",
      "[CV]  max_depth=10, max_features=None, n_estimators=800, total= 1.1min\n",
      "[CV] max_depth=10, max_features=None, n_estimators=1200 ..............\n",
      "[CV]  max_depth=10, max_features=None, n_estimators=800, total= 1.1min\n",
      "[CV] max_depth=10, max_features=None, n_estimators=1200 ..............\n",
      "[CV]  max_depth=10, max_features=None, n_estimators=1200, total= 1.6min\n",
      "[CV] max_depth=10, max_features=None, n_estimators=1500 ..............\n",
      "[CV]  max_depth=10, max_features=None, n_estimators=1200, total= 1.6min\n",
      "[CV] max_depth=10, max_features=None, n_estimators=1500 ..............\n",
      "[CV]  max_depth=10, max_features=None, n_estimators=1200, total= 1.6min\n",
      "[CV] max_depth=10, max_features=None, n_estimators=1500 ..............\n",
      "[CV]  max_depth=10, max_features=None, n_estimators=1200, total= 1.6min\n",
      "[CV] max_depth=10, max_features=None, n_estimators=1500 ..............\n",
      "[CV]  max_depth=10, max_features=None, n_estimators=1500, total= 2.0min\n",
      "[CV] max_depth=10, max_features=None, n_estimators=1800 ..............\n",
      "[CV]  max_depth=10, max_features=None, n_estimators=1500, total= 2.0min\n",
      "[CV] max_depth=10, max_features=None, n_estimators=1800 ..............\n",
      "[CV]  max_depth=10, max_features=None, n_estimators=1500, total= 2.1min\n",
      "[CV] max_depth=10, max_features=None, n_estimators=1800 ..............\n",
      "[CV]  max_depth=10, max_features=None, n_estimators=1500, total= 2.0min\n",
      "[CV] max_depth=10, max_features=None, n_estimators=1800 ..............\n",
      "[CV]  max_depth=10, max_features=None, n_estimators=1800, total= 2.4min\n",
      "[CV] max_depth=20, max_features=None, n_estimators=200 ...............\n",
      "[CV]  max_depth=10, max_features=None, n_estimators=1800, total= 2.4min\n",
      "[CV] max_depth=20, max_features=None, n_estimators=200 ...............\n",
      "[CV]  max_depth=10, max_features=None, n_estimators=1800, total= 2.4min\n",
      "[CV] max_depth=20, max_features=None, n_estimators=200 ...............\n",
      "[CV]  max_depth=10, max_features=None, n_estimators=1800, total= 2.5min\n",
      "[CV] max_depth=20, max_features=None, n_estimators=200 ...............\n",
      "[CV]  max_depth=20, max_features=None, n_estimators=200, total=  25.4s\n",
      "[CV] max_depth=20, max_features=None, n_estimators=300 ...............\n",
      "[CV]  max_depth=20, max_features=None, n_estimators=200, total=  27.7s\n",
      "[CV] max_depth=20, max_features=None, n_estimators=300 ...............\n",
      "[CV]  max_depth=20, max_features=None, n_estimators=200, total=  25.6s\n",
      "[CV] max_depth=20, max_features=None, n_estimators=300 ...............\n",
      "[CV]  max_depth=20, max_features=None, n_estimators=200, total=  25.8s\n",
      "[CV] max_depth=20, max_features=None, n_estimators=300 ...............\n",
      "[CV]  max_depth=20, max_features=None, n_estimators=300, total=  37.8s\n",
      "[CV] max_depth=20, max_features=None, n_estimators=500 ...............\n",
      "[CV]  max_depth=20, max_features=None, n_estimators=300, total=  37.6s\n",
      "[CV] max_depth=20, max_features=None, n_estimators=500 ...............\n"
     ]
    },
    {
     "name": "stderr",
     "output_type": "stream",
     "text": [
      "[Parallel(n_jobs=-1)]: Done  33 tasks      | elapsed:  9.7min\n"
     ]
    },
    {
     "name": "stdout",
     "output_type": "stream",
     "text": [
      "[CV]  max_depth=20, max_features=None, n_estimators=300, total=  37.8s\n",
      "[CV] max_depth=20, max_features=None, n_estimators=500 ...............\n",
      "[CV]  max_depth=20, max_features=None, n_estimators=300, total=  41.8s\n",
      "[CV] max_depth=20, max_features=None, n_estimators=500 ...............\n",
      "[CV]  max_depth=20, max_features=None, n_estimators=500, total= 1.0min\n",
      "[CV] max_depth=20, max_features=None, n_estimators=800 ...............\n",
      "[CV]  max_depth=20, max_features=None, n_estimators=500, total= 1.0min\n",
      "[CV] max_depth=20, max_features=None, n_estimators=800 ...............\n",
      "[CV]  max_depth=20, max_features=None, n_estimators=500, total= 1.1min\n",
      "[CV] max_depth=20, max_features=None, n_estimators=800 ...............\n",
      "[CV]  max_depth=20, max_features=None, n_estimators=500, total= 1.1min\n",
      "[CV] max_depth=20, max_features=None, n_estimators=800 ...............\n",
      "[CV]  max_depth=20, max_features=None, n_estimators=800, total= 1.7min\n",
      "[CV] max_depth=20, max_features=None, n_estimators=1200 ..............\n",
      "[CV]  max_depth=20, max_features=None, n_estimators=800, total= 1.7min\n",
      "[CV] max_depth=20, max_features=None, n_estimators=1200 ..............\n",
      "[CV]  max_depth=20, max_features=None, n_estimators=800, total= 1.7min\n",
      "[CV] max_depth=20, max_features=None, n_estimators=1200 ..............\n",
      "[CV]  max_depth=20, max_features=None, n_estimators=800, total= 1.8min\n",
      "[CV] max_depth=20, max_features=None, n_estimators=1200 ..............\n",
      "[CV]  max_depth=20, max_features=None, n_estimators=1200, total= 2.5min\n",
      "[CV] max_depth=20, max_features=None, n_estimators=1500 ..............\n",
      "[CV]  max_depth=20, max_features=None, n_estimators=1200, total= 2.5min\n",
      "[CV] max_depth=20, max_features=None, n_estimators=1500 ..............\n",
      "[CV]  max_depth=20, max_features=None, n_estimators=1200, total= 2.6min\n",
      "[CV] max_depth=20, max_features=None, n_estimators=1500 ..............\n",
      "[CV]  max_depth=20, max_features=None, n_estimators=1200, total= 2.8min\n",
      "[CV] max_depth=20, max_features=None, n_estimators=1500 ..............\n",
      "[CV]  max_depth=20, max_features=None, n_estimators=1500, total= 3.1min\n",
      "[CV] max_depth=20, max_features=None, n_estimators=1800 ..............\n",
      "[CV]  max_depth=20, max_features=None, n_estimators=1500, total= 3.1min\n",
      "[CV] max_depth=20, max_features=None, n_estimators=1800 ..............\n",
      "[CV]  max_depth=20, max_features=None, n_estimators=1500, total= 3.2min\n",
      "[CV] max_depth=20, max_features=None, n_estimators=1800 ..............\n",
      "[CV]  max_depth=20, max_features=None, n_estimators=1500, total= 3.4min\n",
      "[CV] max_depth=20, max_features=None, n_estimators=1800 ..............\n",
      "[CV]  max_depth=20, max_features=None, n_estimators=1800, total= 3.8min\n",
      "[CV] max_depth=30, max_features=None, n_estimators=200 ...............\n",
      "[CV]  max_depth=20, max_features=None, n_estimators=1800, total= 3.8min\n",
      "[CV] max_depth=30, max_features=None, n_estimators=200 ...............\n",
      "[CV]  max_depth=20, max_features=None, n_estimators=1800, total= 3.8min\n",
      "[CV] max_depth=30, max_features=None, n_estimators=200 ...............\n",
      "[CV]  max_depth=20, max_features=None, n_estimators=1800, total= 4.2min\n",
      "[CV] max_depth=30, max_features=None, n_estimators=200 ...............\n",
      "[CV]  max_depth=30, max_features=None, n_estimators=200, total=  28.3s\n",
      "[CV] max_depth=30, max_features=None, n_estimators=300 ...............\n",
      "[CV]  max_depth=30, max_features=None, n_estimators=200, total=  25.8s\n",
      "[CV] max_depth=30, max_features=None, n_estimators=300 ...............\n",
      "[CV]  max_depth=30, max_features=None, n_estimators=200, total=  26.0s\n",
      "[CV] max_depth=30, max_features=None, n_estimators=300 ...............\n",
      "[CV]  max_depth=30, max_features=None, n_estimators=200, total=  26.3s\n",
      "[CV] max_depth=30, max_features=None, n_estimators=300 ...............\n",
      "[CV]  max_depth=30, max_features=None, n_estimators=300, total=  42.9s\n",
      "[CV] max_depth=30, max_features=None, n_estimators=500 ...............\n",
      "[CV]  max_depth=30, max_features=None, n_estimators=300, total=  38.7s\n",
      "[CV] max_depth=30, max_features=None, n_estimators=500 ...............\n",
      "[CV]  max_depth=30, max_features=None, n_estimators=300, total=  39.8s\n",
      "[CV] max_depth=30, max_features=None, n_estimators=500 ...............\n",
      "[CV]  max_depth=30, max_features=None, n_estimators=300, total=  39.8s\n",
      "[CV] max_depth=30, max_features=None, n_estimators=500 ...............\n",
      "[CV]  max_depth=30, max_features=None, n_estimators=500, total= 1.1min\n",
      "[CV] max_depth=30, max_features=None, n_estimators=800 ...............\n",
      "[CV]  max_depth=30, max_features=None, n_estimators=500, total= 1.2min\n",
      "[CV] max_depth=30, max_features=None, n_estimators=800 ...............\n",
      "[CV]  max_depth=30, max_features=None, n_estimators=500, total= 1.1min\n",
      "[CV] max_depth=30, max_features=None, n_estimators=800 ...............\n",
      "[CV]  max_depth=30, max_features=None, n_estimators=500, total= 1.1min\n",
      "[CV] max_depth=30, max_features=None, n_estimators=800 ...............\n",
      "[CV]  max_depth=30, max_features=None, n_estimators=800, total= 1.7min\n",
      "[CV] max_depth=30, max_features=None, n_estimators=1200 ..............\n",
      "[CV]  max_depth=30, max_features=None, n_estimators=800, total= 1.7min\n",
      "[CV] max_depth=30, max_features=None, n_estimators=1200 ..............\n",
      "[CV]  max_depth=30, max_features=None, n_estimators=800, total= 1.9min\n",
      "[CV] max_depth=30, max_features=None, n_estimators=1200 ..............\n",
      "[CV]  max_depth=30, max_features=None, n_estimators=800, total= 1.8min\n",
      "[CV] max_depth=30, max_features=None, n_estimators=1200 ..............\n",
      "[CV]  max_depth=30, max_features=None, n_estimators=1200, total= 2.6min\n",
      "[CV] max_depth=30, max_features=None, n_estimators=1500 ..............\n",
      "[CV]  max_depth=30, max_features=None, n_estimators=1200, total= 2.6min\n",
      "[CV] max_depth=30, max_features=None, n_estimators=1500 ..............\n",
      "[CV]  max_depth=30, max_features=None, n_estimators=1200, total= 2.9min\n",
      "[CV] max_depth=30, max_features=None, n_estimators=1500 ..............\n",
      "[CV]  max_depth=30, max_features=None, n_estimators=1200, total= 2.7min\n",
      "[CV] max_depth=30, max_features=None, n_estimators=1500 ..............\n",
      "[CV]  max_depth=30, max_features=None, n_estimators=1500, total= 3.3min\n",
      "[CV] max_depth=30, max_features=None, n_estimators=1800 ..............\n",
      "[CV]  max_depth=30, max_features=None, n_estimators=1500, total= 3.2min\n",
      "[CV] max_depth=30, max_features=None, n_estimators=1800 ..............\n",
      "[CV]  max_depth=30, max_features=None, n_estimators=1500, total= 3.3min\n",
      "[CV] max_depth=30, max_features=None, n_estimators=1800 ..............\n",
      "[CV]  max_depth=30, max_features=None, n_estimators=1500, total= 3.5min\n",
      "[CV] max_depth=30, max_features=None, n_estimators=1800 ..............\n",
      "[CV]  max_depth=30, max_features=None, n_estimators=1800, total= 3.9min\n",
      "[CV] max_depth=40, max_features=None, n_estimators=200 ...............\n",
      "[CV]  max_depth=30, max_features=None, n_estimators=1800, total= 3.9min\n",
      "[CV] max_depth=40, max_features=None, n_estimators=200 ...............\n",
      "[CV]  max_depth=30, max_features=None, n_estimators=1800, total= 3.9min\n",
      "[CV] max_depth=40, max_features=None, n_estimators=200 ...............\n",
      "[CV]  max_depth=30, max_features=None, n_estimators=1800, total= 4.2min\n",
      "[CV] max_depth=40, max_features=None, n_estimators=200 ...............\n",
      "[CV]  max_depth=40, max_features=None, n_estimators=200, total=  28.9s\n",
      "[CV] max_depth=40, max_features=None, n_estimators=300 ...............\n",
      "[CV]  max_depth=40, max_features=None, n_estimators=200, total=  26.3s\n",
      "[CV] max_depth=40, max_features=None, n_estimators=300 ...............\n",
      "[CV]  max_depth=40, max_features=None, n_estimators=200, total=  26.1s\n",
      "[CV] max_depth=40, max_features=None, n_estimators=300 ...............\n",
      "[CV]  max_depth=40, max_features=None, n_estimators=200, total=  26.4s\n",
      "[CV] max_depth=40, max_features=None, n_estimators=300 ...............\n",
      "[CV]  max_depth=40, max_features=None, n_estimators=300, total=  38.6s\n",
      "[CV] max_depth=40, max_features=None, n_estimators=500 ...............\n",
      "[CV]  max_depth=40, max_features=None, n_estimators=300, total=  42.4s\n",
      "[CV] max_depth=40, max_features=None, n_estimators=500 ...............\n",
      "[CV]  max_depth=40, max_features=None, n_estimators=300, total=  39.0s\n",
      "[CV] max_depth=40, max_features=None, n_estimators=500 ...............\n",
      "[CV]  max_depth=40, max_features=None, n_estimators=300, total=  39.4s\n",
      "[CV] max_depth=40, max_features=None, n_estimators=500 ...............\n"
     ]
    },
    {
     "name": "stdout",
     "output_type": "stream",
     "text": [
      "[CV]  max_depth=40, max_features=None, n_estimators=500, total= 1.1min\n",
      "[CV] max_depth=40, max_features=None, n_estimators=800 ...............\n",
      "[CV]  max_depth=40, max_features=None, n_estimators=500, total= 1.2min\n",
      "[CV] max_depth=40, max_features=None, n_estimators=800 ...............\n",
      "[CV]  max_depth=40, max_features=None, n_estimators=500, total= 1.1min\n",
      "[CV] max_depth=40, max_features=None, n_estimators=800 ...............\n",
      "[CV]  max_depth=40, max_features=None, n_estimators=500, total= 1.1min\n",
      "[CV] max_depth=40, max_features=None, n_estimators=800 ...............\n",
      "[CV]  max_depth=40, max_features=None, n_estimators=800, total= 1.7min\n",
      "[CV] max_depth=40, max_features=None, n_estimators=1200 ..............\n",
      "[CV]  max_depth=40, max_features=None, n_estimators=800, total= 1.7min\n",
      "[CV] max_depth=40, max_features=None, n_estimators=1200 ..............\n",
      "[CV]  max_depth=40, max_features=None, n_estimators=800, total= 1.9min\n",
      "[CV] max_depth=40, max_features=None, n_estimators=1200 ..............\n",
      "[CV]  max_depth=40, max_features=None, n_estimators=800, total= 1.7min\n",
      "[CV] max_depth=40, max_features=None, n_estimators=1200 ..............\n",
      "[CV]  max_depth=40, max_features=None, n_estimators=1200, total= 2.6min\n",
      "[CV] max_depth=40, max_features=None, n_estimators=1500 ..............\n",
      "[CV]  max_depth=40, max_features=None, n_estimators=1200, total= 2.6min\n",
      "[CV] max_depth=40, max_features=None, n_estimators=1500 ..............\n",
      "[CV]  max_depth=40, max_features=None, n_estimators=1200, total= 2.6min\n",
      "[CV] max_depth=40, max_features=None, n_estimators=1500 ..............\n",
      "[CV]  max_depth=40, max_features=None, n_estimators=1200, total= 2.8min\n",
      "[CV] max_depth=40, max_features=None, n_estimators=1500 ..............\n",
      "[CV]  max_depth=40, max_features=None, n_estimators=1500, total= 3.2min\n",
      "[CV] max_depth=40, max_features=None, n_estimators=1800 ..............\n",
      "[CV]  max_depth=40, max_features=None, n_estimators=1500, total= 3.2min\n",
      "[CV] max_depth=40, max_features=None, n_estimators=1800 ..............\n",
      "[CV]  max_depth=40, max_features=None, n_estimators=1500, total= 3.3min\n",
      "[CV] max_depth=40, max_features=None, n_estimators=1800 ..............\n",
      "[CV]  max_depth=40, max_features=None, n_estimators=1500, total= 3.5min\n",
      "[CV] max_depth=40, max_features=None, n_estimators=1800 ..............\n",
      "[CV]  max_depth=40, max_features=None, n_estimators=1800, total= 3.9min\n",
      "[CV] max_depth=50, max_features=None, n_estimators=200 ...............\n",
      "[CV]  max_depth=40, max_features=None, n_estimators=1800, total= 3.9min\n",
      "[CV] max_depth=50, max_features=None, n_estimators=200 ...............\n",
      "[CV]  max_depth=40, max_features=None, n_estimators=1800, total= 3.9min\n",
      "[CV] max_depth=50, max_features=None, n_estimators=200 ...............\n",
      "[CV]  max_depth=40, max_features=None, n_estimators=1800, total= 4.3min\n",
      "[CV] max_depth=50, max_features=None, n_estimators=200 ...............\n",
      "[CV]  max_depth=50, max_features=None, n_estimators=200, total=  29.2s\n",
      "[CV] max_depth=50, max_features=None, n_estimators=300 ...............\n",
      "[CV]  max_depth=50, max_features=None, n_estimators=200, total=  26.9s\n",
      "[CV] max_depth=50, max_features=None, n_estimators=300 ...............\n",
      "[CV]  max_depth=50, max_features=None, n_estimators=200, total=  26.2s\n",
      "[CV] max_depth=50, max_features=None, n_estimators=300 ...............\n",
      "[CV]  max_depth=50, max_features=None, n_estimators=200, total=  27.0s\n",
      "[CV] max_depth=50, max_features=None, n_estimators=300 ...............\n",
      "[CV]  max_depth=50, max_features=None, n_estimators=300, total=  42.5s\n",
      "[CV] max_depth=50, max_features=None, n_estimators=500 ...............\n",
      "[CV]  max_depth=50, max_features=None, n_estimators=300, total=  38.5s\n",
      "[CV] max_depth=50, max_features=None, n_estimators=500 ...............\n",
      "[CV]  max_depth=50, max_features=None, n_estimators=300, total=  39.1s\n",
      "[CV] max_depth=50, max_features=None, n_estimators=500 ...............\n",
      "[CV]  max_depth=50, max_features=None, n_estimators=300, total=  38.7s\n",
      "[CV] max_depth=50, max_features=None, n_estimators=500 ...............\n",
      "[CV]  max_depth=50, max_features=None, n_estimators=500, total= 1.1min\n",
      "[CV] max_depth=50, max_features=None, n_estimators=800 ...............\n",
      "[CV]  max_depth=50, max_features=None, n_estimators=500, total= 1.2min\n",
      "[CV] max_depth=50, max_features=None, n_estimators=800 ...............\n",
      "[CV]  max_depth=50, max_features=None, n_estimators=500, total= 1.1min\n",
      "[CV] max_depth=50, max_features=None, n_estimators=800 ...............\n",
      "[CV]  max_depth=50, max_features=None, n_estimators=500, total= 1.1min\n",
      "[CV] max_depth=50, max_features=None, n_estimators=800 ...............\n",
      "[CV]  max_depth=50, max_features=None, n_estimators=800, total= 1.7min\n",
      "[CV] max_depth=50, max_features=None, n_estimators=1200 ..............\n",
      "[CV]  max_depth=50, max_features=None, n_estimators=800, total= 1.7min\n",
      "[CV] max_depth=50, max_features=None, n_estimators=1200 ..............\n",
      "[CV]  max_depth=50, max_features=None, n_estimators=800, total= 1.9min\n",
      "[CV] max_depth=50, max_features=None, n_estimators=1200 ..............\n",
      "[CV]  max_depth=50, max_features=None, n_estimators=800, total= 1.7min\n",
      "[CV] max_depth=50, max_features=None, n_estimators=1200 ..............\n",
      "[CV]  max_depth=50, max_features=None, n_estimators=1200, total= 2.6min\n",
      "[CV] max_depth=50, max_features=None, n_estimators=1500 ..............\n",
      "[CV]  max_depth=50, max_features=None, n_estimators=1200, total= 2.6min\n",
      "[CV] max_depth=50, max_features=None, n_estimators=1500 ..............\n",
      "[CV]  max_depth=50, max_features=None, n_estimators=1200, total= 2.6min\n",
      "[CV] max_depth=50, max_features=None, n_estimators=1500 ..............\n",
      "[CV]  max_depth=50, max_features=None, n_estimators=1200, total= 2.8min\n",
      "[CV] max_depth=50, max_features=None, n_estimators=1500 ..............\n",
      "[CV]  max_depth=50, max_features=None, n_estimators=1500, total= 3.2min\n",
      "[CV] max_depth=50, max_features=None, n_estimators=1800 ..............\n",
      "[CV]  max_depth=50, max_features=None, n_estimators=1500, total= 3.2min\n",
      "[CV] max_depth=50, max_features=None, n_estimators=1800 ..............\n",
      "[CV]  max_depth=50, max_features=None, n_estimators=1500, total= 3.3min\n",
      "[CV] max_depth=50, max_features=None, n_estimators=1800 ..............\n",
      "[CV]  max_depth=50, max_features=None, n_estimators=1500, total= 3.5min\n",
      "[CV] max_depth=50, max_features=None, n_estimators=1800 ..............\n",
      "[CV]  max_depth=50, max_features=None, n_estimators=1800, total= 3.9min\n",
      "[CV] max_depth=60, max_features=None, n_estimators=200 ...............\n",
      "[CV]  max_depth=50, max_features=None, n_estimators=1800, total= 3.9min\n",
      "[CV] max_depth=60, max_features=None, n_estimators=200 ...............\n",
      "[CV]  max_depth=50, max_features=None, n_estimators=1800, total= 3.9min\n",
      "[CV] max_depth=60, max_features=None, n_estimators=200 ...............\n",
      "[CV]  max_depth=50, max_features=None, n_estimators=1800, total= 4.2min\n",
      "[CV] max_depth=60, max_features=None, n_estimators=200 ...............\n",
      "[CV]  max_depth=60, max_features=None, n_estimators=200, total=  28.6s\n",
      "[CV] max_depth=60, max_features=None, n_estimators=300 ...............\n",
      "[CV]  max_depth=60, max_features=None, n_estimators=200, total=  26.1s\n",
      "[CV] max_depth=60, max_features=None, n_estimators=300 ...............\n",
      "[CV]  max_depth=60, max_features=None, n_estimators=200, total=  25.8s\n",
      "[CV] max_depth=60, max_features=None, n_estimators=300 ...............\n",
      "[CV]  max_depth=60, max_features=None, n_estimators=200, total=  26.2s\n",
      "[CV] max_depth=60, max_features=None, n_estimators=300 ...............\n",
      "[CV]  max_depth=60, max_features=None, n_estimators=300, total=  39.4s\n",
      "[CV] max_depth=60, max_features=None, n_estimators=500 ...............\n",
      "[CV]  max_depth=60, max_features=None, n_estimators=300, total=  42.1s\n",
      "[CV] max_depth=60, max_features=None, n_estimators=500 ...............\n",
      "[CV]  max_depth=60, max_features=None, n_estimators=300, total=  38.8s\n",
      "[CV] max_depth=60, max_features=None, n_estimators=500 ...............\n",
      "[CV]  max_depth=60, max_features=None, n_estimators=300, total=  39.2s\n",
      "[CV] max_depth=60, max_features=None, n_estimators=500 ...............\n",
      "[CV]  max_depth=60, max_features=None, n_estimators=500, total= 1.1min\n",
      "[CV] max_depth=60, max_features=None, n_estimators=800 ...............\n",
      "[CV]  max_depth=60, max_features=None, n_estimators=500, total= 1.2min\n",
      "[CV] max_depth=60, max_features=None, n_estimators=800 ...............\n"
     ]
    },
    {
     "name": "stdout",
     "output_type": "stream",
     "text": [
      "[CV]  max_depth=60, max_features=None, n_estimators=500, total= 1.1min\n",
      "[CV] max_depth=60, max_features=None, n_estimators=800 ...............\n",
      "[CV]  max_depth=60, max_features=None, n_estimators=500, total= 1.1min\n",
      "[CV] max_depth=60, max_features=None, n_estimators=800 ...............\n",
      "[CV]  max_depth=60, max_features=None, n_estimators=800, total= 1.7min\n",
      "[CV] max_depth=60, max_features=None, n_estimators=1200 ..............\n",
      "[CV]  max_depth=60, max_features=None, n_estimators=800, total= 1.7min\n",
      "[CV] max_depth=60, max_features=None, n_estimators=1200 ..............\n"
     ]
    },
    {
     "name": "stderr",
     "output_type": "stream",
     "text": [
      "[Parallel(n_jobs=-1)]: Done 154 tasks      | elapsed: 68.9min\n"
     ]
    },
    {
     "name": "stdout",
     "output_type": "stream",
     "text": [
      "[CV]  max_depth=60, max_features=None, n_estimators=800, total= 1.9min\n",
      "[CV] max_depth=60, max_features=None, n_estimators=1200 ..............\n",
      "[CV]  max_depth=60, max_features=None, n_estimators=800, total= 1.8min\n",
      "[CV] max_depth=60, max_features=None, n_estimators=1200 ..............\n",
      "[CV]  max_depth=60, max_features=None, n_estimators=1200, total= 2.6min\n",
      "[CV] max_depth=60, max_features=None, n_estimators=1500 ..............\n",
      "[CV]  max_depth=60, max_features=None, n_estimators=1200, total= 2.6min\n",
      "[CV] max_depth=60, max_features=None, n_estimators=1500 ..............\n",
      "[CV]  max_depth=60, max_features=None, n_estimators=1200, total= 2.6min\n",
      "[CV] max_depth=60, max_features=None, n_estimators=1500 ..............\n",
      "[CV]  max_depth=60, max_features=None, n_estimators=1200, total= 2.9min\n",
      "[CV] max_depth=60, max_features=None, n_estimators=1500 ..............\n",
      "[CV]  max_depth=60, max_features=None, n_estimators=1500, total= 3.3min\n",
      "[CV] max_depth=60, max_features=None, n_estimators=1800 ..............\n",
      "[CV]  max_depth=60, max_features=None, n_estimators=1500, total= 3.4min\n",
      "[CV] max_depth=60, max_features=None, n_estimators=1800 ..............\n",
      "[CV]  max_depth=60, max_features=None, n_estimators=1500, total= 3.4min\n",
      "[CV] max_depth=60, max_features=None, n_estimators=1800 ..............\n",
      "[CV]  max_depth=60, max_features=None, n_estimators=1500, total= 3.7min\n",
      "[CV] max_depth=60, max_features=None, n_estimators=1800 ..............\n",
      "[CV]  max_depth=60, max_features=None, n_estimators=1800, total= 4.3min\n",
      "[CV] max_depth=70, max_features=None, n_estimators=200 ...............\n",
      "[CV]  max_depth=60, max_features=None, n_estimators=1800, total= 4.4min\n",
      "[CV] max_depth=70, max_features=None, n_estimators=200 ...............\n",
      "[CV]  max_depth=60, max_features=None, n_estimators=1800, total= 4.3min\n",
      "[CV] max_depth=70, max_features=None, n_estimators=200 ...............\n",
      "[CV]  max_depth=60, max_features=None, n_estimators=1800, total= 4.7min\n",
      "[CV] max_depth=70, max_features=None, n_estimators=200 ...............\n",
      "[CV]  max_depth=70, max_features=None, n_estimators=200, total=  29.4s\n",
      "[CV] max_depth=70, max_features=None, n_estimators=300 ...............\n",
      "[CV]  max_depth=70, max_features=None, n_estimators=200, total=  27.2s\n",
      "[CV] max_depth=70, max_features=None, n_estimators=300 ...............\n",
      "[CV]  max_depth=70, max_features=None, n_estimators=200, total=  28.1s\n",
      "[CV] max_depth=70, max_features=None, n_estimators=300 ...............\n",
      "[CV]  max_depth=70, max_features=None, n_estimators=200, total=  29.1s\n",
      "[CV] max_depth=70, max_features=None, n_estimators=300 ...............\n",
      "[CV]  max_depth=70, max_features=None, n_estimators=300, total=  46.3s\n",
      "[CV] max_depth=70, max_features=None, n_estimators=500 ...............\n",
      "[CV]  max_depth=70, max_features=None, n_estimators=300, total=  42.7s\n",
      "[CV] max_depth=70, max_features=None, n_estimators=500 ...............\n",
      "[CV]  max_depth=70, max_features=None, n_estimators=300, total=  44.1s\n",
      "[CV] max_depth=70, max_features=None, n_estimators=500 ...............\n",
      "[CV]  max_depth=70, max_features=None, n_estimators=300, total=  44.4s\n",
      "[CV] max_depth=70, max_features=None, n_estimators=500 ...............\n",
      "[CV]  max_depth=70, max_features=None, n_estimators=500, total= 1.3min\n",
      "[CV] max_depth=70, max_features=None, n_estimators=800 ...............\n",
      "[CV]  max_depth=70, max_features=None, n_estimators=500, total= 1.2min\n",
      "[CV] max_depth=70, max_features=None, n_estimators=800 ...............\n",
      "[CV]  max_depth=70, max_features=None, n_estimators=500, total= 1.2min\n",
      "[CV] max_depth=70, max_features=None, n_estimators=800 ...............\n",
      "[CV]  max_depth=70, max_features=None, n_estimators=500, total= 1.2min\n",
      "[CV] max_depth=70, max_features=None, n_estimators=800 ...............\n",
      "[CV]  max_depth=70, max_features=None, n_estimators=800, total= 1.8min\n",
      "[CV] max_depth=70, max_features=None, n_estimators=1200 ..............\n",
      "[CV]  max_depth=70, max_features=None, n_estimators=800, total= 1.8min\n",
      "[CV] max_depth=70, max_features=None, n_estimators=1200 ..............\n",
      "[CV]  max_depth=70, max_features=None, n_estimators=800, total= 1.9min\n",
      "[CV] max_depth=70, max_features=None, n_estimators=1200 ..............\n",
      "[CV]  max_depth=70, max_features=None, n_estimators=800, total= 1.7min\n",
      "[CV] max_depth=70, max_features=None, n_estimators=1200 ..............\n",
      "[CV]  max_depth=70, max_features=None, n_estimators=1200, total= 2.6min\n",
      "[CV] max_depth=70, max_features=None, n_estimators=1500 ..............\n",
      "[CV]  max_depth=70, max_features=None, n_estimators=1200, total= 2.6min\n",
      "[CV] max_depth=70, max_features=None, n_estimators=1500 ..............\n",
      "[CV]  max_depth=70, max_features=None, n_estimators=1200, total= 2.6min\n",
      "[CV] max_depth=70, max_features=None, n_estimators=1500 ..............\n",
      "[CV]  max_depth=70, max_features=None, n_estimators=1200, total= 2.9min\n",
      "[CV] max_depth=70, max_features=None, n_estimators=1500 ..............\n",
      "[CV]  max_depth=70, max_features=None, n_estimators=1500, total= 3.3min\n",
      "[CV] max_depth=70, max_features=None, n_estimators=1800 ..............\n",
      "[CV]  max_depth=70, max_features=None, n_estimators=1500, total= 3.2min\n",
      "[CV] max_depth=70, max_features=None, n_estimators=1800 ..............\n",
      "[CV]  max_depth=70, max_features=None, n_estimators=1500, total= 3.2min\n",
      "[CV] max_depth=70, max_features=None, n_estimators=1800 ..............\n",
      "[CV]  max_depth=70, max_features=None, n_estimators=1500, total= 3.5min\n",
      "[CV] max_depth=70, max_features=None, n_estimators=1800 ..............\n",
      "[CV]  max_depth=70, max_features=None, n_estimators=1800, total= 3.9min\n",
      "[CV] max_depth=80, max_features=None, n_estimators=200 ...............\n",
      "[CV]  max_depth=70, max_features=None, n_estimators=1800, total= 3.9min\n",
      "[CV] max_depth=80, max_features=None, n_estimators=200 ...............\n",
      "[CV]  max_depth=70, max_features=None, n_estimators=1800, total= 3.9min\n",
      "[CV] max_depth=80, max_features=None, n_estimators=200 ...............\n",
      "[CV]  max_depth=70, max_features=None, n_estimators=1800, total= 4.3min\n",
      "[CV] max_depth=80, max_features=None, n_estimators=200 ...............\n",
      "[CV]  max_depth=80, max_features=None, n_estimators=200, total=  28.8s\n",
      "[CV] max_depth=80, max_features=None, n_estimators=300 ...............\n",
      "[CV]  max_depth=80, max_features=None, n_estimators=200, total=  25.5s\n",
      "[CV] max_depth=80, max_features=None, n_estimators=300 ...............\n",
      "[CV]  max_depth=80, max_features=None, n_estimators=200, total=  26.2s\n",
      "[CV] max_depth=80, max_features=None, n_estimators=300 ...............\n",
      "[CV]  max_depth=80, max_features=None, n_estimators=200, total=  26.0s\n",
      "[CV] max_depth=80, max_features=None, n_estimators=300 ...............\n",
      "[CV]  max_depth=80, max_features=None, n_estimators=300, total=  38.9s\n",
      "[CV] max_depth=80, max_features=None, n_estimators=500 ...............\n",
      "[CV]  max_depth=80, max_features=None, n_estimators=300, total=  42.5s\n",
      "[CV] max_depth=80, max_features=None, n_estimators=500 ...............\n",
      "[CV]  max_depth=80, max_features=None, n_estimators=300, total=  38.9s\n",
      "[CV] max_depth=80, max_features=None, n_estimators=500 ...............\n",
      "[CV]  max_depth=80, max_features=None, n_estimators=300, total=  39.1s\n",
      "[CV] max_depth=80, max_features=None, n_estimators=500 ...............\n",
      "[CV]  max_depth=80, max_features=None, n_estimators=500, total= 1.1min\n",
      "[CV] max_depth=80, max_features=None, n_estimators=800 ...............\n",
      "[CV]  max_depth=80, max_features=None, n_estimators=500, total= 1.2min\n",
      "[CV] max_depth=80, max_features=None, n_estimators=800 ...............\n",
      "[CV]  max_depth=80, max_features=None, n_estimators=500, total= 1.1min\n",
      "[CV] max_depth=80, max_features=None, n_estimators=800 ...............\n",
      "[CV]  max_depth=80, max_features=None, n_estimators=500, total= 1.1min\n",
      "[CV] max_depth=80, max_features=None, n_estimators=800 ...............\n",
      "[CV]  max_depth=80, max_features=None, n_estimators=800, total= 1.7min\n",
      "[CV] max_depth=80, max_features=None, n_estimators=1200 ..............\n",
      "[CV]  max_depth=80, max_features=None, n_estimators=800, total= 1.7min\n",
      "[CV] max_depth=80, max_features=None, n_estimators=1200 ..............\n",
      "[CV]  max_depth=80, max_features=None, n_estimators=800, total= 1.9min\n",
      "[CV] max_depth=80, max_features=None, n_estimators=1200 ..............\n",
      "[CV]  max_depth=80, max_features=None, n_estimators=800, total= 1.7min\n",
      "[CV] max_depth=80, max_features=None, n_estimators=1200 ..............\n"
     ]
    },
    {
     "name": "stdout",
     "output_type": "stream",
     "text": [
      "[CV]  max_depth=80, max_features=None, n_estimators=1200, total= 2.6min\n",
      "[CV] max_depth=80, max_features=None, n_estimators=1500 ..............\n",
      "[CV]  max_depth=80, max_features=None, n_estimators=1200, total= 2.6min\n",
      "[CV] max_depth=80, max_features=None, n_estimators=1500 ..............\n",
      "[CV]  max_depth=80, max_features=None, n_estimators=1200, total= 2.8min\n",
      "[CV] max_depth=80, max_features=None, n_estimators=1500 ..............\n",
      "[CV]  max_depth=80, max_features=None, n_estimators=1200, total= 2.6min\n",
      "[CV] max_depth=80, max_features=None, n_estimators=1500 ..............\n",
      "[CV]  max_depth=80, max_features=None, n_estimators=1500, total= 3.2min\n",
      "[CV] max_depth=80, max_features=None, n_estimators=1800 ..............\n",
      "[CV]  max_depth=80, max_features=None, n_estimators=1500, total= 3.2min\n",
      "[CV] max_depth=80, max_features=None, n_estimators=1800 ..............\n",
      "[CV]  max_depth=80, max_features=None, n_estimators=1500, total= 3.2min\n",
      "[CV] max_depth=80, max_features=None, n_estimators=1800 ..............\n",
      "[CV]  max_depth=80, max_features=None, n_estimators=1500, total= 3.5min\n",
      "[CV] max_depth=80, max_features=None, n_estimators=1800 ..............\n",
      "[CV]  max_depth=80, max_features=None, n_estimators=1800, total= 3.9min\n",
      "[CV] max_depth=90, max_features=None, n_estimators=200 ...............\n",
      "[CV]  max_depth=80, max_features=None, n_estimators=1800, total= 4.0min\n",
      "[CV] max_depth=90, max_features=None, n_estimators=200 ...............\n",
      "[CV]  max_depth=80, max_features=None, n_estimators=1800, total= 3.9min\n",
      "[CV] max_depth=90, max_features=None, n_estimators=200 ...............\n",
      "[CV]  max_depth=80, max_features=None, n_estimators=1800, total= 4.2min\n",
      "[CV] max_depth=90, max_features=None, n_estimators=200 ...............\n",
      "[CV]  max_depth=90, max_features=None, n_estimators=200, total=  28.0s\n",
      "[CV] max_depth=90, max_features=None, n_estimators=300 ...............\n",
      "[CV]  max_depth=90, max_features=None, n_estimators=200, total=  26.2s\n",
      "[CV] max_depth=90, max_features=None, n_estimators=300 ...............\n",
      "[CV]  max_depth=90, max_features=None, n_estimators=200, total=  25.9s\n",
      "[CV] max_depth=90, max_features=None, n_estimators=300 ...............\n",
      "[CV]  max_depth=90, max_features=None, n_estimators=200, total=  25.9s\n",
      "[CV] max_depth=90, max_features=None, n_estimators=300 ...............\n",
      "[CV]  max_depth=90, max_features=None, n_estimators=300, total=  39.3s\n",
      "[CV] max_depth=90, max_features=None, n_estimators=500 ...............\n",
      "[CV]  max_depth=90, max_features=None, n_estimators=300, total=  39.1s\n",
      "[CV] max_depth=90, max_features=None, n_estimators=500 ...............\n",
      "[CV]  max_depth=90, max_features=None, n_estimators=300, total=  42.8s\n",
      "[CV] max_depth=90, max_features=None, n_estimators=500 ...............\n",
      "[CV]  max_depth=90, max_features=None, n_estimators=300, total=  40.1s\n",
      "[CV] max_depth=90, max_features=None, n_estimators=500 ...............\n",
      "[CV]  max_depth=90, max_features=None, n_estimators=500, total= 1.1min\n",
      "[CV] max_depth=90, max_features=None, n_estimators=800 ...............\n",
      "[CV]  max_depth=90, max_features=None, n_estimators=500, total= 1.2min\n",
      "[CV] max_depth=90, max_features=None, n_estimators=800 ...............\n",
      "[CV]  max_depth=90, max_features=None, n_estimators=500, total= 1.2min\n",
      "[CV] max_depth=90, max_features=None, n_estimators=800 ...............\n",
      "[CV]  max_depth=90, max_features=None, n_estimators=500, total= 1.2min\n",
      "[CV] max_depth=90, max_features=None, n_estimators=800 ...............\n",
      "[CV]  max_depth=90, max_features=None, n_estimators=800, total= 1.8min\n",
      "[CV] max_depth=90, max_features=None, n_estimators=1200 ..............\n",
      "[CV]  max_depth=90, max_features=None, n_estimators=800, total= 1.9min\n",
      "[CV] max_depth=90, max_features=None, n_estimators=1200 ..............\n",
      "[CV]  max_depth=90, max_features=None, n_estimators=800, total= 1.9min\n",
      "[CV] max_depth=90, max_features=None, n_estimators=1200 ..............\n",
      "[CV]  max_depth=90, max_features=None, n_estimators=800, total= 2.0min\n",
      "[CV] max_depth=90, max_features=None, n_estimators=1200 ..............\n",
      "[CV]  max_depth=90, max_features=None, n_estimators=1200, total= 3.3min\n",
      "[CV] max_depth=90, max_features=None, n_estimators=1500 ..............\n",
      "[CV]  max_depth=90, max_features=None, n_estimators=1200, total= 3.2min\n",
      "[CV] max_depth=90, max_features=None, n_estimators=1500 ..............\n",
      "[CV]  max_depth=90, max_features=None, n_estimators=1200, total= 3.4min\n",
      "[CV] max_depth=90, max_features=None, n_estimators=1500 ..............\n",
      "[CV]  max_depth=90, max_features=None, n_estimators=1200, total= 3.6min\n",
      "[CV] max_depth=90, max_features=None, n_estimators=1500 ..............\n",
      "[CV]  max_depth=90, max_features=None, n_estimators=1500, total= 3.6min\n",
      "[CV] max_depth=90, max_features=None, n_estimators=1800 ..............\n",
      "[CV]  max_depth=90, max_features=None, n_estimators=1500, total= 3.6min\n",
      "[CV] max_depth=90, max_features=None, n_estimators=1800 ..............\n",
      "[CV]  max_depth=90, max_features=None, n_estimators=1500, total= 3.6min\n",
      "[CV] max_depth=90, max_features=None, n_estimators=1800 ..............\n",
      "[CV]  max_depth=90, max_features=None, n_estimators=1500, total= 4.0min\n",
      "[CV] max_depth=90, max_features=None, n_estimators=1800 ..............\n",
      "[CV]  max_depth=90, max_features=None, n_estimators=1800, total= 4.2min\n",
      "[CV] max_depth=100, max_features=None, n_estimators=200 ..............\n",
      "[CV]  max_depth=90, max_features=None, n_estimators=1800, total= 4.2min\n",
      "[CV] max_depth=100, max_features=None, n_estimators=200 ..............\n",
      "[CV]  max_depth=90, max_features=None, n_estimators=1800, total= 4.2min\n",
      "[CV] max_depth=100, max_features=None, n_estimators=200 ..............\n",
      "[CV]  max_depth=90, max_features=None, n_estimators=1800, total= 4.6min\n",
      "[CV] max_depth=100, max_features=None, n_estimators=200 ..............\n",
      "[CV]  max_depth=100, max_features=None, n_estimators=200, total=  30.1s\n",
      "[CV] max_depth=100, max_features=None, n_estimators=300 ..............\n",
      "[CV]  max_depth=100, max_features=None, n_estimators=200, total=  27.1s\n",
      "[CV] max_depth=100, max_features=None, n_estimators=300 ..............\n",
      "[CV]  max_depth=100, max_features=None, n_estimators=200, total=  28.3s\n",
      "[CV] max_depth=100, max_features=None, n_estimators=300 ..............\n",
      "[CV]  max_depth=100, max_features=None, n_estimators=200, total=  27.0s\n",
      "[CV] max_depth=100, max_features=None, n_estimators=300 ..............\n",
      "[CV]  max_depth=100, max_features=None, n_estimators=300, total=  41.3s\n",
      "[CV] max_depth=100, max_features=None, n_estimators=500 ..............\n",
      "[CV]  max_depth=100, max_features=None, n_estimators=300, total=  44.3s\n",
      "[CV] max_depth=100, max_features=None, n_estimators=500 ..............\n",
      "[CV]  max_depth=100, max_features=None, n_estimators=300, total=  41.3s\n",
      "[CV] max_depth=100, max_features=None, n_estimators=500 ..............\n",
      "[CV]  max_depth=100, max_features=None, n_estimators=300, total=  41.5s\n",
      "[CV] max_depth=100, max_features=None, n_estimators=500 ..............\n",
      "[CV]  max_depth=100, max_features=None, n_estimators=500, total= 1.1min\n",
      "[CV] max_depth=100, max_features=None, n_estimators=800 ..............\n",
      "[CV]  max_depth=100, max_features=None, n_estimators=500, total= 1.2min\n",
      "[CV] max_depth=100, max_features=None, n_estimators=800 ..............\n",
      "[CV]  max_depth=100, max_features=None, n_estimators=500, total= 1.1min\n",
      "[CV] max_depth=100, max_features=None, n_estimators=800 ..............\n",
      "[CV]  max_depth=100, max_features=None, n_estimators=500, total= 1.1min\n",
      "[CV] max_depth=100, max_features=None, n_estimators=800 ..............\n",
      "[CV]  max_depth=100, max_features=None, n_estimators=800, total= 1.8min\n",
      "[CV] max_depth=100, max_features=None, n_estimators=1200 .............\n",
      "[CV]  max_depth=100, max_features=None, n_estimators=800, total= 1.8min\n",
      "[CV] max_depth=100, max_features=None, n_estimators=1200 .............\n",
      "[CV]  max_depth=100, max_features=None, n_estimators=800, total= 1.9min\n",
      "[CV] max_depth=100, max_features=None, n_estimators=1200 .............\n",
      "[CV]  max_depth=100, max_features=None, n_estimators=800, total= 2.0min\n",
      "[CV] max_depth=100, max_features=None, n_estimators=1200 .............\n",
      "[CV]  max_depth=100, max_features=None, n_estimators=1200, total= 2.7min\n",
      "[CV] max_depth=100, max_features=None, n_estimators=1500 .............\n",
      "[CV]  max_depth=100, max_features=None, n_estimators=1200, total= 2.8min\n"
     ]
    },
    {
     "name": "stdout",
     "output_type": "stream",
     "text": [
      "[CV] max_depth=100, max_features=None, n_estimators=1500 .............\n",
      "[CV]  max_depth=100, max_features=None, n_estimators=1200, total= 2.7min\n",
      "[CV] max_depth=100, max_features=None, n_estimators=1500 .............\n",
      "[CV]  max_depth=100, max_features=None, n_estimators=1200, total= 3.0min\n",
      "[CV] max_depth=100, max_features=None, n_estimators=1500 .............\n",
      "[CV]  max_depth=100, max_features=None, n_estimators=1500, total= 3.4min\n",
      "[CV] max_depth=100, max_features=None, n_estimators=1800 .............\n",
      "[CV]  max_depth=100, max_features=None, n_estimators=1500, total= 3.4min\n",
      "[CV] max_depth=100, max_features=None, n_estimators=1800 .............\n",
      "[CV]  max_depth=100, max_features=None, n_estimators=1500, total= 3.4min\n",
      "[CV] max_depth=100, max_features=None, n_estimators=1800 .............\n",
      "[CV]  max_depth=100, max_features=None, n_estimators=1500, total= 3.8min\n",
      "[CV] max_depth=100, max_features=None, n_estimators=1800 .............\n",
      "[CV]  max_depth=100, max_features=None, n_estimators=1800, total= 4.3min\n",
      "[CV] max_depth=110, max_features=None, n_estimators=200 ..............\n",
      "[CV]  max_depth=100, max_features=None, n_estimators=1800, total= 4.3min\n",
      "[CV] max_depth=110, max_features=None, n_estimators=200 ..............\n",
      "[CV]  max_depth=100, max_features=None, n_estimators=1800, total= 4.3min\n",
      "[CV] max_depth=110, max_features=None, n_estimators=200 ..............\n",
      "[CV]  max_depth=100, max_features=None, n_estimators=1800, total= 4.6min\n",
      "[CV] max_depth=110, max_features=None, n_estimators=200 ..............\n",
      "[CV]  max_depth=110, max_features=None, n_estimators=200, total=  32.6s\n",
      "[CV] max_depth=110, max_features=None, n_estimators=300 ..............\n",
      "[CV]  max_depth=110, max_features=None, n_estimators=200, total=  29.2s\n",
      "[CV] max_depth=110, max_features=None, n_estimators=300 ..............\n",
      "[CV]  max_depth=110, max_features=None, n_estimators=200, total=  26.6s\n",
      "[CV] max_depth=110, max_features=None, n_estimators=300 ..............\n",
      "[CV]  max_depth=110, max_features=None, n_estimators=200, total=  29.4s\n",
      "[CV] max_depth=110, max_features=None, n_estimators=300 ..............\n",
      "[CV]  max_depth=110, max_features=None, n_estimators=300, total=  48.7s\n",
      "[CV] max_depth=110, max_features=None, n_estimators=500 ..............\n",
      "[CV]  max_depth=110, max_features=None, n_estimators=300, total=  43.2s\n",
      "[CV] max_depth=110, max_features=None, n_estimators=500 ..............\n",
      "[CV]  max_depth=110, max_features=None, n_estimators=300, total=  46.5s\n",
      "[CV] max_depth=110, max_features=None, n_estimators=500 ..............\n",
      "[CV]  max_depth=110, max_features=None, n_estimators=300, total=  44.6s\n",
      "[CV] max_depth=110, max_features=None, n_estimators=500 ..............\n",
      "[CV]  max_depth=110, max_features=None, n_estimators=500, total= 1.2min\n",
      "[CV] max_depth=110, max_features=None, n_estimators=800 ..............\n",
      "[CV]  max_depth=110, max_features=None, n_estimators=500, total= 1.2min\n",
      "[CV] max_depth=110, max_features=None, n_estimators=800 ..............\n",
      "[CV]  max_depth=110, max_features=None, n_estimators=500, total= 1.3min\n",
      "[CV] max_depth=110, max_features=None, n_estimators=800 ..............\n",
      "[CV]  max_depth=110, max_features=None, n_estimators=500, total= 1.2min\n",
      "[CV] max_depth=110, max_features=None, n_estimators=800 ..............\n",
      "[CV]  max_depth=110, max_features=None, n_estimators=800, total= 1.8min\n",
      "[CV] max_depth=110, max_features=None, n_estimators=1200 .............\n",
      "[CV]  max_depth=110, max_features=None, n_estimators=800, total= 1.9min\n",
      "[CV] max_depth=110, max_features=None, n_estimators=1200 .............\n",
      "[CV]  max_depth=110, max_features=None, n_estimators=800, total= 2.0min\n",
      "[CV] max_depth=110, max_features=None, n_estimators=1200 .............\n",
      "[CV]  max_depth=110, max_features=None, n_estimators=800, total= 2.1min\n",
      "[CV] max_depth=110, max_features=None, n_estimators=1200 .............\n",
      "[CV]  max_depth=110, max_features=None, n_estimators=1200, total= 3.0min\n",
      "[CV] max_depth=110, max_features=None, n_estimators=1500 .............\n",
      "[CV]  max_depth=110, max_features=None, n_estimators=1200, total= 2.9min\n",
      "[CV] max_depth=110, max_features=None, n_estimators=1500 .............\n",
      "[CV]  max_depth=110, max_features=None, n_estimators=1200, total= 2.9min\n",
      "[CV] max_depth=110, max_features=None, n_estimators=1500 .............\n",
      "[CV]  max_depth=110, max_features=None, n_estimators=1200, total= 3.2min\n",
      "[CV] max_depth=110, max_features=None, n_estimators=1500 .............\n",
      "[CV]  max_depth=110, max_features=None, n_estimators=1500, total= 3.2min\n",
      "[CV] max_depth=110, max_features=None, n_estimators=1800 .............\n",
      "[CV]  max_depth=110, max_features=None, n_estimators=1500, total= 3.3min\n",
      "[CV] max_depth=110, max_features=None, n_estimators=1800 .............\n",
      "[CV]  max_depth=110, max_features=None, n_estimators=1500, total= 3.3min\n",
      "[CV] max_depth=110, max_features=None, n_estimators=1800 .............\n",
      "[CV]  max_depth=110, max_features=None, n_estimators=1500, total= 3.6min\n",
      "[CV] max_depth=110, max_features=None, n_estimators=1800 .............\n",
      "[CV]  max_depth=110, max_features=None, n_estimators=1800, total= 3.8min\n",
      "[CV]  max_depth=110, max_features=None, n_estimators=1800, total= 3.9min\n",
      "[CV]  max_depth=110, max_features=None, n_estimators=1800, total= 3.9min\n",
      "[CV]  max_depth=110, max_features=None, n_estimators=1800, total= 4.2min\n"
     ]
    },
    {
     "name": "stderr",
     "output_type": "stream",
     "text": [
      "[Parallel(n_jobs=-1)]: Done 308 out of 308 | elapsed: 154.5min finished\n"
     ]
    },
    {
     "data": {
      "text/plain": [
       "GridSearchCV(cv=4, error_score='raise',\n",
       "       estimator=RandomForestRegressor(bootstrap=True, criterion='mse', max_depth=None,\n",
       "           max_features='auto', max_leaf_nodes=None,\n",
       "           min_impurity_decrease=0.0, min_impurity_split=None,\n",
       "           min_samples_leaf=1, min_samples_split=2,\n",
       "           min_weight_fraction_leaf=0.0, n_estimators=10, n_jobs=1,\n",
       "           oob_score=False, random_state=None, verbose=0, warm_start=False),\n",
       "       fit_params=None, iid=True, n_jobs=-1,\n",
       "       param_grid={'max_depth': [10, 20, 30, 40, 50, 60, 70, 80, 90, 100, 110], 'max_features': [None], 'n_estimators': [200, 300, 500, 800, 1200, 1500, 1800]},\n",
       "       pre_dispatch='2*n_jobs', refit=True, return_train_score='warn',\n",
       "       scoring=None, verbose=2)"
      ]
     },
     "execution_count": 274,
     "metadata": {},
     "output_type": "execute_result"
    }
   ],
   "source": [
    "grid_search.fit(feature_train[[1,2,3,'direction','week', 'weekend','volume_anterior', 'volume_anterior_2', 'am_pm', 'window_n', 'desvio_padrao_hora_dia', 'mediana_volume_hora_dia', 'max_volume_hora_dia', 'media_volume_hora_dia', 'min_volume_hora_dia', 'media_volume_dia_am_pm', 'max_volume_dia_am_pm', 'mediana_volume_dia_am_pm', 'min_volume_dia_am_pm', 'desvio_padrao_am_pm', 'media_volume_weekday', 'desvio_padrao_weekday', 'max_volume_weekday', 'min_volume_weekday', 'mediana_volume_weekday']], values_train)"
   ]
  },
  {
   "cell_type": "code",
   "execution_count": 275,
   "metadata": {},
   "outputs": [
    {
     "data": {
      "text/plain": [
       "{'max_depth': 10, 'max_features': None, 'n_estimators': 800}"
      ]
     },
     "execution_count": 275,
     "metadata": {},
     "output_type": "execute_result"
    }
   ],
   "source": [
    "grid_search.best_params_\n"
   ]
  },
  {
   "cell_type": "code",
   "execution_count": null,
   "metadata": {},
   "outputs": [],
   "source": []
  },
  {
   "cell_type": "code",
   "execution_count": 36,
   "metadata": {},
   "outputs": [
    {
     "name": "stdout",
     "output_type": "stream",
     "text": [
      "Improvement of 1.68%.\n"
     ]
    }
   ],
   "source": [
    "print('Improvement of {:0.2f}%.'.format( 100 * (grid_accuracy - base_accuracy) / base_accuracy))"
   ]
  },
  {
   "cell_type": "code",
   "execution_count": 277,
   "metadata": {},
   "outputs": [],
   "source": [
    "regressor_cubic = RandomForestRegressor(n_estimators=800, max_features=None, max_depth=10)"
   ]
  },
  {
   "cell_type": "code",
   "execution_count": 278,
   "metadata": {},
   "outputs": [
    {
     "data": {
      "text/plain": [
       "RandomForestRegressor(bootstrap=True, criterion='mse', max_depth=10,\n",
       "           max_features=None, max_leaf_nodes=None,\n",
       "           min_impurity_decrease=0.0, min_impurity_split=None,\n",
       "           min_samples_leaf=1, min_samples_split=2,\n",
       "           min_weight_fraction_leaf=0.0, n_estimators=800, n_jobs=1,\n",
       "           oob_score=False, random_state=None, verbose=0, warm_start=False)"
      ]
     },
     "execution_count": 278,
     "metadata": {},
     "output_type": "execute_result"
    }
   ],
   "source": [
    "regressor_cubic.fit(feature_train[[1,2,3,'direction','week', 'weekend','volume_anterior', 'volume_anterior_2', 'am_pm', 'window_n', 'desvio_padrao_hora_dia', 'mediana_volume_hora_dia', 'max_volume_hora_dia', 'media_volume_hora_dia', 'min_volume_hora_dia', 'media_volume_dia_am_pm', 'max_volume_dia_am_pm', 'mediana_volume_dia_am_pm', 'min_volume_dia_am_pm', 'desvio_padrao_am_pm', 'media_volume_weekday', 'desvio_padrao_weekday', 'max_volume_weekday', 'min_volume_weekday', 'mediana_volume_weekday']], values_train)"
   ]
  },
  {
   "cell_type": "code",
   "execution_count": 279,
   "metadata": {},
   "outputs": [],
   "source": [
    "y_pred = regressor_cubic.predict(feature_test[[1,2,3,'direction','week', 'weekend','volume_anterior', 'volume_anterior_2', 'am_pm', 'window_n', 'desvio_padrao_hora_dia', 'mediana_volume_hora_dia', 'max_volume_hora_dia', 'media_volume_hora_dia', 'min_volume_hora_dia', 'media_volume_dia_am_pm', 'max_volume_dia_am_pm', 'mediana_volume_dia_am_pm', 'min_volume_dia_am_pm', 'desvio_padrao_am_pm', 'media_volume_weekday', 'desvio_padrao_weekday', 'max_volume_weekday', 'min_volume_weekday', 'mediana_volume_weekday']])"
   ]
  },
  {
   "cell_type": "code",
   "execution_count": 280,
   "metadata": {},
   "outputs": [
    {
     "data": {
      "text/plain": [
       "0.13019089509418424"
      ]
     },
     "execution_count": 280,
     "metadata": {},
     "output_type": "execute_result"
    }
   ],
   "source": [
    "mean_absolute_percentage_error(values_test, y_pred)"
   ]
  },
  {
   "cell_type": "code",
   "execution_count": 281,
   "metadata": {},
   "outputs": [
    {
     "data": {
      "text/plain": [
       "8.716885797477966"
      ]
     },
     "execution_count": 281,
     "metadata": {},
     "output_type": "execute_result"
    }
   ],
   "source": [
    "rmse = sqrt(mean_squared_error(y_pred, values_test))\n",
    "rmse"
   ]
  },
  {
   "cell_type": "code",
   "execution_count": null,
   "metadata": {},
   "outputs": [],
   "source": []
  },
  {
   "cell_type": "code",
   "execution_count": null,
   "metadata": {},
   "outputs": [],
   "source": []
  },
  {
   "cell_type": "code",
   "execution_count": null,
   "metadata": {},
   "outputs": [],
   "source": [
    "##ADABOOSTING REGRESSOR"
   ]
  },
  {
   "cell_type": "code",
   "execution_count": 283,
   "metadata": {},
   "outputs": [],
   "source": [
    "def ADABooster(param_grid, n_jobs): \n",
    "    estimator = AdaBoostRegressor() \n",
    "    cv = ShuffleSplit(feature_train[[1,2,3,'direction','week', 'weekend','volume_anterior', 'volume_anterior_2', 'am_pm', 'window_n', 'desvio_padrao_hora_dia', 'mediana_volume_hora_dia', 'max_volume_hora_dia', 'media_volume_hora_dia', 'min_volume_hora_dia', 'media_volume_dia_am_pm', 'max_volume_dia_am_pm', 'mediana_volume_dia_am_pm', 'min_volume_dia_am_pm', 'desvio_padrao_am_pm', 'media_volume_weekday', 'desvio_padrao_weekday', 'max_volume_weekday', 'min_volume_weekday', 'mediana_volume_weekday']].shape[0], test_size=0.2) \n",
    "    classifier = GridSearchCV(estimator=estimator, cv=4, param_grid=param_grid, n_jobs=n_jobs) \n",
    "    classifier.fit(feature_train[[1,2,3,'direction','week', 'weekend','volume_anterior', 'volume_anterior_2', 'am_pm', 'window_n', 'desvio_padrao_hora_dia', 'mediana_volume_hora_dia', 'max_volume_hora_dia', 'media_volume_hora_dia', 'min_volume_hora_dia', 'media_volume_dia_am_pm', 'max_volume_dia_am_pm', 'mediana_volume_dia_am_pm', 'min_volume_dia_am_pm', 'desvio_padrao_am_pm', 'media_volume_weekday', 'desvio_padrao_weekday', 'max_volume_weekday', 'min_volume_weekday', 'mediana_volume_weekday']], values_train) \n",
    "    print (\"Best Estimator learned through GridSearch\")\n",
    "    print (classifier.best_estimator_)\n",
    "    return cv, classifier.best_estimator_"
   ]
  },
  {
   "cell_type": "code",
   "execution_count": 284,
   "metadata": {},
   "outputs": [
    {
     "name": "stdout",
     "output_type": "stream",
     "text": [
      "Best Estimator learned through GridSearch\n",
      "AdaBoostRegressor(base_estimator=None, learning_rate=0.01, loss='square',\n",
      "         n_estimators=1200, random_state=None)\n"
     ]
    }
   ],
   "source": [
    "param_grid={'n_estimators':[200, 300, 500, 800, 1200, 1500, 1800], \n",
    "            'learning_rate': [0.1, 0.05, 0.01, 0.005], \n",
    "            'loss':['linear', 'square', 'exponential']}\n",
    "n_jobs=-1 \n",
    "\n",
    "cv,best_est=ADABooster(param_grid, n_jobs)"
   ]
  },
  {
   "cell_type": "code",
   "execution_count": 285,
   "metadata": {},
   "outputs": [],
   "source": [
    "regr = AdaBoostRegressor(n_estimators=1200, learning_rate=0.01, loss='square')"
   ]
  },
  {
   "cell_type": "code",
   "execution_count": 286,
   "metadata": {},
   "outputs": [
    {
     "data": {
      "text/plain": [
       "AdaBoostRegressor(base_estimator=None, learning_rate=0.01, loss='square',\n",
       "         n_estimators=1200, random_state=None)"
      ]
     },
     "execution_count": 286,
     "metadata": {},
     "output_type": "execute_result"
    }
   ],
   "source": [
    "regr.fit(feature_train[[1,2,3,'direction','week', 'weekend','volume_anterior', 'volume_anterior_2', 'am_pm', 'window_n', 'desvio_padrao_hora_dia', 'mediana_volume_hora_dia', 'max_volume_hora_dia', 'media_volume_hora_dia', 'min_volume_hora_dia', 'media_volume_dia_am_pm', 'max_volume_dia_am_pm', 'mediana_volume_dia_am_pm', 'min_volume_dia_am_pm', 'desvio_padrao_am_pm', 'media_volume_weekday', 'desvio_padrao_weekday', 'max_volume_weekday', 'min_volume_weekday', 'mediana_volume_weekday']], values_train) "
   ]
  },
  {
   "cell_type": "code",
   "execution_count": 123,
   "metadata": {},
   "outputs": [
    {
     "data": {
      "text/plain": [
       "array([0.00000000e+00, 0.00000000e+00, 0.00000000e+00, 2.46036113e-05,\n",
       "       0.00000000e+00, 4.90057580e-03, 3.37452797e-03, 0.00000000e+00,\n",
       "       7.94052041e-03, 0.00000000e+00, 6.97806457e-03, 2.38786604e-02,\n",
       "       9.50440266e-01, 2.46278120e-03])"
      ]
     },
     "execution_count": 123,
     "metadata": {},
     "output_type": "execute_result"
    }
   ],
   "source": [
    "regr.feature_importances_"
   ]
  },
  {
   "cell_type": "code",
   "execution_count": 287,
   "metadata": {},
   "outputs": [],
   "source": [
    "y_pred_ada = regr.predict(feature_test[[1,2,3,'direction','week', 'weekend','volume_anterior', 'volume_anterior_2', 'am_pm', 'window_n', 'desvio_padrao_hora_dia', 'mediana_volume_hora_dia', 'max_volume_hora_dia', 'media_volume_hora_dia', 'min_volume_hora_dia', 'media_volume_dia_am_pm', 'max_volume_dia_am_pm', 'mediana_volume_dia_am_pm', 'min_volume_dia_am_pm', 'desvio_padrao_am_pm', 'media_volume_weekday', 'desvio_padrao_weekday', 'max_volume_weekday', 'min_volume_weekday', 'mediana_volume_weekday']])"
   ]
  },
  {
   "cell_type": "code",
   "execution_count": 132,
   "metadata": {},
   "outputs": [
    {
     "data": {
      "text/plain": [
       "0.9324050491518168"
      ]
     },
     "execution_count": 132,
     "metadata": {},
     "output_type": "execute_result"
    }
   ],
   "source": [
    "regr.score(feature_train[['tollgate_id','direction','week', 'weekend','volume_anterior', 'volume_anterior_2', 'am_pm', 'window_n', 'desvio_padrao_hora_dia', 'mediana_volume_hora_dia', 'max_volume_hora_dia', 'media_volume_hora_dia', 'min_volume_hora_dia']], values_train)"
   ]
  },
  {
   "cell_type": "code",
   "execution_count": 288,
   "metadata": {},
   "outputs": [
    {
     "data": {
      "text/plain": [
       "0.1732210121386972"
      ]
     },
     "execution_count": 288,
     "metadata": {},
     "output_type": "execute_result"
    }
   ],
   "source": [
    "mean_absolute_percentage_error(values_test, y_pred_ada)"
   ]
  },
  {
   "cell_type": "code",
   "execution_count": 289,
   "metadata": {},
   "outputs": [
    {
     "data": {
      "text/plain": [
       "10.576933295165214"
      ]
     },
     "execution_count": 289,
     "metadata": {},
     "output_type": "execute_result"
    }
   ],
   "source": [
    "rmse = sqrt(mean_squared_error(values_test, y_pred_ada))\n",
    "rmse"
   ]
  },
  {
   "cell_type": "code",
   "execution_count": null,
   "metadata": {},
   "outputs": [],
   "source": []
  },
  {
   "cell_type": "code",
   "execution_count": null,
   "metadata": {},
   "outputs": [],
   "source": []
  },
  {
   "cell_type": "code",
   "execution_count": null,
   "metadata": {},
   "outputs": [],
   "source": []
  },
  {
   "cell_type": "code",
   "execution_count": 50,
   "metadata": {},
   "outputs": [],
   "source": [
    "rng = np.random.RandomState(1)\n",
    "regr = AdaBoostRegressor(DecisionTreeRegressor(max_depth = 50),\n",
    "                         n_estimators=300, random_state = rng)"
   ]
  },
  {
   "cell_type": "code",
   "execution_count": 51,
   "metadata": {},
   "outputs": [],
   "source": [
    "regr.fit(feature_train[['tollgate_id', 'direction','week', 'am_pm', 'volume_anterior', 'volume_anterior_2', 'volume_proximo', 'volume_proximo_2', 'avg_vol_dia_semana', 'desvio_padrao', 'window_n']], values_train)\n",
    "\n",
    "y_pred = regr.predict(feature_test[['tollgate_id', 'direction','week', 'am_pm', 'volume_anterior', 'volume_anterior_2', 'volume_proximo', 'volume_proximo_2', 'avg_vol_dia_semana', 'desvio_padrao', 'window_n']])"
   ]
  },
  {
   "cell_type": "code",
   "execution_count": 52,
   "metadata": {},
   "outputs": [
    {
     "data": {
      "text/plain": [
       "14.896148431565727"
      ]
     },
     "execution_count": 52,
     "metadata": {},
     "output_type": "execute_result"
    }
   ],
   "source": [
    "rmse = sqrt(mean_squared_error(values_test, y_pred))\n",
    "rmse"
   ]
  },
  {
   "cell_type": "code",
   "execution_count": 69,
   "metadata": {},
   "outputs": [],
   "source": [
    "def mean_absolute_percentage_error(y_true, y_pred): \n",
    "    y_true, y_pred = np.array(y_true), np.array(y_pred)\n",
    "    return np.mean(np.abs((y_true - y_pred) / y_true))"
   ]
  },
  {
   "cell_type": "code",
   "execution_count": 58,
   "metadata": {},
   "outputs": [
    {
     "data": {
      "text/plain": [
       "0.20620277519594812"
      ]
     },
     "execution_count": 58,
     "metadata": {},
     "output_type": "execute_result"
    }
   ],
   "source": [
    "mean_absolute_percentage_error(values_test, y_pred)"
   ]
  },
  {
   "cell_type": "code",
   "execution_count": 1,
   "metadata": {},
   "outputs": [],
   "source": [
    "#GRADIENT BOOSTING"
   ]
  },
  {
   "cell_type": "code",
   "execution_count": 22,
   "metadata": {},
   "outputs": [],
   "source": [
    "#Fazendo o GBRT COM PARAMETROS MAIS SIMPLES"
   ]
  },
  {
   "cell_type": "code",
   "execution_count": 24,
   "metadata": {},
   "outputs": [],
   "source": [
    "gbrt=GradientBoostingRegressor(n_estimators=100) \n",
    "gbrt.fit(feature_train[['tollgate_id', 'direction','week', 'am_pm', 'volume_anterior', 'volume_anterior_2', 'volume_proximo', 'volume_proximo_2', 'avg_vol_dia_semana', 'desvio_padrao', 'window_n']], values_train)\n",
    "\n",
    "y_pred_gbrt=gbrt.predict(feature_test[['tollgate_id', 'direction','week', 'am_pm', 'volume_anterior', 'volume_anterior_2', 'volume_proximo', 'volume_proximo_2', 'avg_vol_dia_semana', 'desvio_padrao', 'window_n']])"
   ]
  },
  {
   "cell_type": "code",
   "execution_count": 25,
   "metadata": {},
   "outputs": [
    {
     "data": {
      "text/plain": [
       "0.2620375772444925"
      ]
     },
     "execution_count": 25,
     "metadata": {},
     "output_type": "execute_result"
    }
   ],
   "source": [
    "mean_absolute_percentage_error(values_test, y_pred_gbrt)"
   ]
  },
  {
   "cell_type": "code",
   "execution_count": 290,
   "metadata": {},
   "outputs": [],
   "source": [
    "def GradientBooster(param_grid, n_jobs): \n",
    "    estimator = GradientBoostingRegressor() \n",
    "    cv = ShuffleSplit(feature_train[[1,2,3,'direction','week', 'weekend','volume_anterior', 'volume_anterior_2', 'am_pm', 'window_n', 'desvio_padrao_hora_dia', 'mediana_volume_hora_dia', 'max_volume_hora_dia', 'media_volume_hora_dia', 'min_volume_hora_dia', 'media_volume_dia_am_pm', 'max_volume_dia_am_pm', 'mediana_volume_dia_am_pm', 'min_volume_dia_am_pm', 'desvio_padrao_am_pm', 'media_volume_weekday', 'desvio_padrao_weekday', 'max_volume_weekday', 'min_volume_weekday', 'mediana_volume_weekday']].shape[0], test_size=0.2) \n",
    "    classifier = GridSearchCV(estimator=estimator, cv=cv, param_grid=param_grid, n_jobs=n_jobs) \n",
    "    classifier.fit(feature_train[[1,2,3,'direction','week', 'weekend','volume_anterior', 'volume_anterior_2', 'am_pm', 'window_n', 'desvio_padrao_hora_dia', 'mediana_volume_hora_dia', 'max_volume_hora_dia', 'media_volume_hora_dia', 'min_volume_hora_dia', 'media_volume_dia_am_pm', 'max_volume_dia_am_pm', 'mediana_volume_dia_am_pm', 'min_volume_dia_am_pm', 'desvio_padrao_am_pm', 'media_volume_weekday', 'desvio_padrao_weekday', 'max_volume_weekday', 'min_volume_weekday', 'mediana_volume_weekday']], values_train) \n",
    "    print (\"Best Estimator learned through GridSearch\")\n",
    "    print (classifier.best_estimator_)\n",
    "    return cv, classifier.best_estimator_"
   ]
  },
  {
   "cell_type": "code",
   "execution_count": null,
   "metadata": {},
   "outputs": [],
   "source": [
    "param_grid={'n_estimators':[200, 300, 500, 800, 1200, 1500, 1800], \n",
    "            'max_depth':[int(x) for x in np.linspace(10, 110, num = 11)],\n",
    "            'max_features': [None]}\n",
    "n_jobs=-1 \n",
    "\n",
    "cv,best_est=GradientBooster(param_grid, n_jobs)"
   ]
  },
  {
   "cell_type": "code",
   "execution_count": 38,
   "metadata": {},
   "outputs": [
    {
     "name": "stdout",
     "output_type": "stream",
     "text": [
      "Best Estimator Parameters\n",
      "---------------------------\n",
      "n_estimators: 100\n",
      "max_depth: 6\n",
      "Learning Rate: 0.1\n",
      "min_samples_leaf: 3\n",
      "max_features: 1.0\n",
      "Train R-squared: 0.97\n"
     ]
    }
   ],
   "source": [
    "print (\"Best Estimator Parameters\") \n",
    "print(\"---------------------------\" )\n",
    "print (\"n_estimators: %d\" %best_est.n_estimators) \n",
    "print (\"max_depth: %d\" %best_est.max_depth) \n",
    "print (\"Learning Rate: %.1f\" %best_est.learning_rate) \n",
    "print (\"min_samples_leaf: %d\" %best_est.min_samples_leaf) \n",
    "print (\"max_features: %.1f\" %best_est.max_features) \n",
    "\n",
    "print (\"Train R-squared: %.2f\" %best_est.score(feature_train[['tollgate_id', 'direction','week', 'am_pm', 'volume_anterior', 'volume_anterior_2', 'volume_proximo', 'volume_proximo_2', 'avg_vol_dia_semana', 'desvio_padrao', 'window_n']], values_train) ) "
   ]
  },
  {
   "cell_type": "code",
   "execution_count": 40,
   "metadata": {},
   "outputs": [
    {
     "data": {
      "text/plain": [
       "GradientBoostingRegressor(alpha=0.9, criterion='friedman_mse', init=None,\n",
       "             learning_rate=0.1, loss='ls', max_depth=6, max_features=1.0,\n",
       "             max_leaf_nodes=None, min_impurity_decrease=0.0,\n",
       "             min_impurity_split=None, min_samples_leaf=3,\n",
       "             min_samples_split=2, min_weight_fraction_leaf=0.0,\n",
       "             n_estimators=100, presort='auto', random_state=None,\n",
       "             subsample=1.0, verbose=0, warm_start=False)"
      ]
     },
     "execution_count": 40,
     "metadata": {},
     "output_type": "execute_result"
    }
   ],
   "source": [
    "estimator = best_est\n",
    "estimator.fit(feature_train[['tollgate_id', 'direction','week', 'am_pm', 'volume_anterior', 'volume_anterior_2', 'volume_proximo', 'volume_proximo_2', 'avg_vol_dia_semana', 'desvio_padrao', 'window_n']], values_train) "
   ]
  },
  {
   "cell_type": "code",
   "execution_count": 43,
   "metadata": {},
   "outputs": [
    {
     "name": "stdout",
     "output_type": "stream",
     "text": [
      "Train R-squared: 0.97\n",
      "Test R-squared: 0.86\n"
     ]
    }
   ],
   "source": [
    "print (\"Train R-squared: %.2f\" %estimator.score(feature_train[['tollgate_id', 'direction','week', 'am_pm', 'volume_anterior', 'volume_anterior_2', 'volume_proximo', 'volume_proximo_2', 'avg_vol_dia_semana', 'desvio_padrao', 'window_n']], values_train)  )\n",
    "\n",
    "print (\"Test R-squared: %.2f\" %estimator.score(feature_test[['tollgate_id', 'direction','week', 'am_pm', 'volume_anterior', 'volume_anterior_2', 'volume_proximo', 'volume_proximo_2', 'avg_vol_dia_semana', 'desvio_padrao', 'window_n']], values_test)) "
   ]
  },
  {
   "cell_type": "code",
   "execution_count": 44,
   "metadata": {},
   "outputs": [],
   "source": [
    "estimator = GradientBoostingRegressor(n_estimators=best_est.n_estimators, max_depth=best_est.max_depth, learning_rate=best_est.learning_rate, min_samples_leaf=best_est.min_samples_leaf, max_features=best_est.max_features)"
   ]
  },
  {
   "cell_type": "code",
   "execution_count": 45,
   "metadata": {},
   "outputs": [
    {
     "data": {
      "text/plain": [
       "GradientBoostingRegressor(alpha=0.9, criterion='friedman_mse', init=None,\n",
       "             learning_rate=0.1, loss='ls', max_depth=6, max_features=1.0,\n",
       "             max_leaf_nodes=None, min_impurity_decrease=0.0,\n",
       "             min_impurity_split=None, min_samples_leaf=3,\n",
       "             min_samples_split=2, min_weight_fraction_leaf=0.0,\n",
       "             n_estimators=100, presort='auto', random_state=None,\n",
       "             subsample=1.0, verbose=0, warm_start=False)"
      ]
     },
     "execution_count": 45,
     "metadata": {},
     "output_type": "execute_result"
    }
   ],
   "source": [
    "estimator.fit(feature_train[['tollgate_id', 'direction','week', 'am_pm', 'volume_anterior', 'volume_anterior_2', 'volume_proximo', 'volume_proximo_2', 'avg_vol_dia_semana', 'desvio_padrao', 'window_n']], values_train)"
   ]
  },
  {
   "cell_type": "code",
   "execution_count": 46,
   "metadata": {},
   "outputs": [],
   "source": [
    "y_pred_gbrt_oficial = estimator.predict(feature_test[['tollgate_id', 'direction','week', 'am_pm', 'volume_anterior', 'volume_anterior_2', 'volume_proximo', 'volume_proximo_2', 'avg_vol_dia_semana', 'desvio_padrao', 'window_n']])"
   ]
  },
  {
   "cell_type": "code",
   "execution_count": 48,
   "metadata": {},
   "outputs": [
    {
     "data": {
      "text/plain": [
       "0.21357123313872148"
      ]
     },
     "execution_count": 48,
     "metadata": {},
     "output_type": "execute_result"
    }
   ],
   "source": [
    "mean_absolute_percentage_error(values_test, y_pred_gbrt_oficial)"
   ]
  },
  {
   "cell_type": "code",
   "execution_count": 49,
   "metadata": {},
   "outputs": [
    {
     "data": {
      "text/plain": [
       "14.16351207391079"
      ]
     },
     "execution_count": 49,
     "metadata": {},
     "output_type": "execute_result"
    }
   ],
   "source": [
    "rmse = sqrt(mean_squared_error(values_test, y_pred_gbrt_oficial))\n",
    "rmse"
   ]
  },
  {
   "cell_type": "code",
   "execution_count": 251,
   "metadata": {},
   "outputs": [],
   "source": [
    "\n",
    "\n",
    "regressor_cubic_g = GradientBoostingRegressor(n_estimators=250, learning_rate=0.05, min_samples_split=15,\n",
    "                                                min_samples_leaf=2, max_depth=5, subsample=0.8,\n",
    "                                                random_state=10, loss=\"lad\")"
   ]
  },
  {
   "cell_type": "code",
   "execution_count": 260,
   "metadata": {},
   "outputs": [],
   "source": [
    "regressor_cubic_g.fit(feature_train[[1,2,3,'direction','week', 'weekend','volume_anterior', 'volume_anterior_2', 'am_pm', 'window_n', 'desvio_padrao_hora_dia', 'mediana_volume_hora_dia', 'max_volume_hora_dia', 'media_volume_hora_dia', 'min_volume_hora_dia', 'media_volume_dia_am_pm', 'max_volume_dia_am_pm', 'mediana_volume_dia_am_pm', 'min_volume_dia_am_pm', 'desvio_padrao_am_pm']], values_train)\n",
    "yhat = regressor_cubic_g.predict(feature_test[[1,2,3,'direction','week', 'weekend','volume_anterior', 'volume_anterior_2', 'am_pm', 'window_n', 'desvio_padrao_hora_dia', 'mediana_volume_hora_dia', 'max_volume_hora_dia', 'media_volume_hora_dia', 'min_volume_hora_dia', 'media_volume_dia_am_pm', 'max_volume_dia_am_pm', 'mediana_volume_dia_am_pm', 'min_volume_dia_am_pm', 'desvio_padrao_am_pm' ]])"
   ]
  },
  {
   "cell_type": "code",
   "execution_count": 261,
   "metadata": {},
   "outputs": [
    {
     "data": {
      "text/plain": [
       "0.13641016695648603"
      ]
     },
     "execution_count": 261,
     "metadata": {},
     "output_type": "execute_result"
    }
   ],
   "source": [
    "mean_absolute_percentage_error(values_test, yhat)"
   ]
  },
  {
   "cell_type": "code",
   "execution_count": 262,
   "metadata": {},
   "outputs": [
    {
     "data": {
      "text/plain": [
       "9.122407266598332"
      ]
     },
     "execution_count": 262,
     "metadata": {},
     "output_type": "execute_result"
    }
   ],
   "source": [
    "rmse = sqrt(mean_squared_error(values_test, yhat))\n",
    "rmse"
   ]
  },
  {
   "cell_type": "code",
   "execution_count": null,
   "metadata": {},
   "outputs": [],
   "source": []
  }
 ],
 "metadata": {
  "kernelspec": {
   "display_name": "Python 3",
   "language": "python",
   "name": "python3"
  },
  "language_info": {
   "codemirror_mode": {
    "name": "ipython",
    "version": 3
   },
   "file_extension": ".py",
   "mimetype": "text/x-python",
   "name": "python",
   "nbconvert_exporter": "python",
   "pygments_lexer": "ipython3",
   "version": "3.7.0"
  }
 },
 "nbformat": 4,
 "nbformat_minor": 2
}
